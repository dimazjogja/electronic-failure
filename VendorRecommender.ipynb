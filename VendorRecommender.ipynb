{
  "nbformat": 4,
  "nbformat_minor": 0,
  "metadata": {
    "colab": {
      "name": "VendorRecommender.ipynb",
      "provenance": [],
      "collapsed_sections": [],
      "toc_visible": true,
      "mount_file_id": "1tnvfq6sKT_jfxeP7ja1hFdzJTsJrxOPQ",
      "authorship_tag": "ABX9TyNxpxLJckAKPLbg0HGRN9eN",
      "include_colab_link": true
    },
    "kernelspec": {
      "name": "python3",
      "display_name": "Python 3"
    },
    "language_info": {
      "name": "python"
    },
    "accelerator": "GPU"
  },
  "cells": [
    {
      "cell_type": "markdown",
      "metadata": {
        "id": "view-in-github",
        "colab_type": "text"
      },
      "source": [
        "<a href=\"https://colab.research.google.com/github/dimazjogja/electronic-failure/blob/main/VendorRecommender.ipynb\" target=\"_parent\"><img src=\"https://colab.research.google.com/assets/colab-badge.svg\" alt=\"Open In Colab\"/></a>"
      ]
    },
    {
      "cell_type": "code",
      "source": [
        "import os, sys\n",
        "from google.colab import drive\n",
        "drive.mount('/content/drive')\n",
        "!pip install geopandas\n",
        "!pip install haversine\n",
        "!pip install imbalanced-learn"
      ],
      "metadata": {
        "colab": {
          "base_uri": "https://localhost:8080/"
        },
        "id": "Br7_Yj6vfKyF",
        "outputId": "a8bf0df0-2a99-4234-c0a1-ec81bef41de1"
      },
      "execution_count": 1,
      "outputs": [
        {
          "output_type": "stream",
          "name": "stdout",
          "text": [
            "Drive already mounted at /content/drive; to attempt to forcibly remount, call drive.mount(\"/content/drive\", force_remount=True).\n",
            "Looking in indexes: https://pypi.org/simple, https://us-python.pkg.dev/colab-wheels/public/simple/\n",
            "Collecting geopandas\n",
            "  Downloading geopandas-0.10.2-py2.py3-none-any.whl (1.0 MB)\n",
            "\u001b[K     |████████████████████████████████| 1.0 MB 13.0 MB/s \n",
            "\u001b[?25hCollecting fiona>=1.8\n",
            "  Downloading Fiona-1.8.21-cp37-cp37m-manylinux2014_x86_64.whl (16.7 MB)\n",
            "\u001b[K     |████████████████████████████████| 16.7 MB 207 kB/s \n",
            "\u001b[?25hRequirement already satisfied: pandas>=0.25.0 in /usr/local/lib/python3.7/dist-packages (from geopandas) (1.3.5)\n",
            "Collecting pyproj>=2.2.0\n",
            "  Downloading pyproj-3.2.1-cp37-cp37m-manylinux2010_x86_64.whl (6.3 MB)\n",
            "\u001b[K     |████████████████████████████████| 6.3 MB 34.7 MB/s \n",
            "\u001b[?25hRequirement already satisfied: shapely>=1.6 in /usr/local/lib/python3.7/dist-packages (from geopandas) (1.8.2)\n",
            "Collecting munch\n",
            "  Downloading munch-2.5.0-py2.py3-none-any.whl (10 kB)\n",
            "Requirement already satisfied: setuptools in /usr/local/lib/python3.7/dist-packages (from fiona>=1.8->geopandas) (57.4.0)\n",
            "Collecting cligj>=0.5\n",
            "  Downloading cligj-0.7.2-py3-none-any.whl (7.1 kB)\n",
            "Requirement already satisfied: certifi in /usr/local/lib/python3.7/dist-packages (from fiona>=1.8->geopandas) (2022.5.18.1)\n",
            "Requirement already satisfied: six>=1.7 in /usr/local/lib/python3.7/dist-packages (from fiona>=1.8->geopandas) (1.15.0)\n",
            "Requirement already satisfied: click>=4.0 in /usr/local/lib/python3.7/dist-packages (from fiona>=1.8->geopandas) (7.1.2)\n",
            "Collecting click-plugins>=1.0\n",
            "  Downloading click_plugins-1.1.1-py2.py3-none-any.whl (7.5 kB)\n",
            "Requirement already satisfied: attrs>=17 in /usr/local/lib/python3.7/dist-packages (from fiona>=1.8->geopandas) (21.4.0)\n",
            "Requirement already satisfied: numpy>=1.17.3 in /usr/local/lib/python3.7/dist-packages (from pandas>=0.25.0->geopandas) (1.21.6)\n",
            "Requirement already satisfied: python-dateutil>=2.7.3 in /usr/local/lib/python3.7/dist-packages (from pandas>=0.25.0->geopandas) (2.8.2)\n",
            "Requirement already satisfied: pytz>=2017.3 in /usr/local/lib/python3.7/dist-packages (from pandas>=0.25.0->geopandas) (2022.1)\n",
            "Installing collected packages: munch, cligj, click-plugins, pyproj, fiona, geopandas\n",
            "Successfully installed click-plugins-1.1.1 cligj-0.7.2 fiona-1.8.21 geopandas-0.10.2 munch-2.5.0 pyproj-3.2.1\n",
            "Looking in indexes: https://pypi.org/simple, https://us-python.pkg.dev/colab-wheels/public/simple/\n",
            "Collecting haversine\n",
            "  Downloading haversine-2.5.1-py2.py3-none-any.whl (6.1 kB)\n",
            "Installing collected packages: haversine\n",
            "Successfully installed haversine-2.5.1\n",
            "Looking in indexes: https://pypi.org/simple, https://us-python.pkg.dev/colab-wheels/public/simple/\n",
            "Requirement already satisfied: imbalanced-learn in /usr/local/lib/python3.7/dist-packages (0.8.1)\n",
            "Requirement already satisfied: joblib>=0.11 in /usr/local/lib/python3.7/dist-packages (from imbalanced-learn) (1.1.0)\n",
            "Requirement already satisfied: numpy>=1.13.3 in /usr/local/lib/python3.7/dist-packages (from imbalanced-learn) (1.21.6)\n",
            "Requirement already satisfied: scipy>=0.19.1 in /usr/local/lib/python3.7/dist-packages (from imbalanced-learn) (1.4.1)\n",
            "Requirement already satisfied: scikit-learn>=0.24 in /usr/local/lib/python3.7/dist-packages (from imbalanced-learn) (1.0.2)\n",
            "Requirement already satisfied: threadpoolctl>=2.0.0 in /usr/local/lib/python3.7/dist-packages (from scikit-learn>=0.24->imbalanced-learn) (3.1.0)\n"
          ]
        }
      ]
    },
    {
      "cell_type": "code",
      "execution_count": 2,
      "metadata": {
        "id": "YMVtPa2LeJ0x"
      },
      "outputs": [],
      "source": [
        "import pandas as pd\n",
        "import numpy as np\n",
        "import plotly\n",
        "\n",
        "import geopandas as gpd\n",
        "import matplotlib.pyplot as plt\n",
        "import seaborn as sns\n",
        "from shapely.geometry import Point, Polygon\n",
        "import re\n",
        "import string\n",
        "import pickle\n",
        "import os, sys\n",
        "\n",
        "import warnings\n",
        "warnings.filterwarnings(\"ignore\")\n",
        "\n",
        "from collections import Counter"
      ]
    },
    {
      "cell_type": "markdown",
      "source": [
        "#*Import Data*"
      ],
      "metadata": {
        "id": "yOevM16qehtQ"
      }
    },
    {
      "cell_type": "code",
      "source": [
        "orders = pd.read_csv(\"/content/drive/MyDrive/Traveloka/orders.csv\")\n",
        "vendors = pd.read_csv(\"/content/drive/MyDrive/Traveloka/vendors.csv\")\n",
        "ts_customers = pd.read_csv(\"/content/drive/MyDrive/Traveloka/test_customers.csv\")\n",
        "ts_locations = pd.read_csv(\"/content/drive/MyDrive/Traveloka/test_locations.csv\")\n",
        "tr_customers = pd.read_csv(\"/content/drive/MyDrive/Traveloka/train_customers.csv\")\n",
        "tr_locations = pd.read_csv(\"/content/drive/MyDrive/Traveloka/train_locations.csv\")\n",
        "print(orders.columns)\n",
        "print(vendors.columns)\n",
        "print(tr_customers.columns)\n",
        "print(tr_locations.columns)"
      ],
      "metadata": {
        "id": "ZcovQUAweg_B",
        "colab": {
          "base_uri": "https://localhost:8080/"
        },
        "outputId": "5697e8bf-f57f-4618-f1b8-4f31fac925aa"
      },
      "execution_count": 3,
      "outputs": [
        {
          "output_type": "stream",
          "name": "stdout",
          "text": [
            "Index(['akeed_order_id', 'customer_id', 'item_count', 'grand_total',\n",
            "       'payment_mode', 'promo_code', 'vendor_discount_amount',\n",
            "       'promo_code_discount_percentage', 'is_favorite', 'is_rated',\n",
            "       'vendor_rating', 'driver_rating', 'deliverydistance', 'preparationtime',\n",
            "       'delivery_time', 'order_accepted_time', 'driver_accepted_time',\n",
            "       'ready_for_pickup_time', 'picked_up_time', 'delivered_time',\n",
            "       'delivery_date', 'vendor_id', 'created_at', 'LOCATION_NUMBER',\n",
            "       'LOCATION_TYPE', 'CID X LOC_NUM X VENDOR'],\n",
            "      dtype='object')\n",
            "Index(['id', 'authentication_id', 'latitude', 'longitude',\n",
            "       'vendor_category_en', 'vendor_category_id', 'delivery_charge',\n",
            "       'serving_distance', 'is_open', 'OpeningTime', 'OpeningTime2',\n",
            "       'prepration_time', 'commission', 'is_akeed_delivering',\n",
            "       'discount_percentage', 'status', 'verified', 'rank', 'language',\n",
            "       'vendor_rating', 'sunday_from_time1', 'sunday_to_time1',\n",
            "       'sunday_from_time2', 'sunday_to_time2', 'monday_from_time1',\n",
            "       'monday_to_time1', 'monday_from_time2', 'monday_to_time2',\n",
            "       'tuesday_from_time1', 'tuesday_to_time1', 'tuesday_from_time2',\n",
            "       'tuesday_to_time2', 'wednesday_from_time1', 'wednesday_to_time1',\n",
            "       'wednesday_from_time2', 'wednesday_to_time2', 'thursday_from_time1',\n",
            "       'thursday_to_time1', 'thursday_from_time2', 'thursday_to_time2',\n",
            "       'friday_from_time1', 'friday_to_time1', 'friday_from_time2',\n",
            "       'friday_to_time2', 'saturday_from_time1', 'saturday_to_time1',\n",
            "       'saturday_from_time2', 'saturday_to_time2', 'primary_tags',\n",
            "       'open_close_flags', 'vendor_tag', 'vendor_tag_name', 'one_click_vendor',\n",
            "       'country_id', 'city_id', 'created_at', 'updated_at', 'device_type',\n",
            "       'display_orders'],\n",
            "      dtype='object')\n",
            "Index(['akeed_customer_id', 'gender', 'dob', 'status', 'verified', 'language',\n",
            "       'created_at', 'updated_at'],\n",
            "      dtype='object')\n",
            "Index(['customer_id', 'location_number', 'location_type', 'latitude',\n",
            "       'longitude'],\n",
            "      dtype='object')\n"
          ]
        }
      ]
    },
    {
      "cell_type": "code",
      "source": [
        "print('A. The customers data, Top 5 Rows: ', 'Shape:', tr_customers.shape)\n",
        "tr_customers = tr_customers[['akeed_customer_id', 'gender', 'status', 'verified', 'language']]\n",
        "tr_customers.head(2)"
      ],
      "metadata": {
        "colab": {
          "base_uri": "https://localhost:8080/",
          "height": 129
        },
        "id": "gY_giS7Lf--f",
        "outputId": "d5533ac8-f17d-4697-c7e1-404dfac94f8a"
      },
      "execution_count": 4,
      "outputs": [
        {
          "output_type": "stream",
          "name": "stdout",
          "text": [
            "A. The customers data, Top 5 Rows:  Shape: (34674, 8)\n"
          ]
        },
        {
          "output_type": "execute_result",
          "data": {
            "text/plain": [
              "  akeed_customer_id gender  status  verified language\n",
              "0           TCHWPBT   Male       1         1       EN\n",
              "1           ZGFSYCZ   Male       1         1       EN"
            ],
            "text/html": [
              "\n",
              "  <div id=\"df-ad203204-51df-440a-8cef-98be7e94c8ae\">\n",
              "    <div class=\"colab-df-container\">\n",
              "      <div>\n",
              "<style scoped>\n",
              "    .dataframe tbody tr th:only-of-type {\n",
              "        vertical-align: middle;\n",
              "    }\n",
              "\n",
              "    .dataframe tbody tr th {\n",
              "        vertical-align: top;\n",
              "    }\n",
              "\n",
              "    .dataframe thead th {\n",
              "        text-align: right;\n",
              "    }\n",
              "</style>\n",
              "<table border=\"1\" class=\"dataframe\">\n",
              "  <thead>\n",
              "    <tr style=\"text-align: right;\">\n",
              "      <th></th>\n",
              "      <th>akeed_customer_id</th>\n",
              "      <th>gender</th>\n",
              "      <th>status</th>\n",
              "      <th>verified</th>\n",
              "      <th>language</th>\n",
              "    </tr>\n",
              "  </thead>\n",
              "  <tbody>\n",
              "    <tr>\n",
              "      <th>0</th>\n",
              "      <td>TCHWPBT</td>\n",
              "      <td>Male</td>\n",
              "      <td>1</td>\n",
              "      <td>1</td>\n",
              "      <td>EN</td>\n",
              "    </tr>\n",
              "    <tr>\n",
              "      <th>1</th>\n",
              "      <td>ZGFSYCZ</td>\n",
              "      <td>Male</td>\n",
              "      <td>1</td>\n",
              "      <td>1</td>\n",
              "      <td>EN</td>\n",
              "    </tr>\n",
              "  </tbody>\n",
              "</table>\n",
              "</div>\n",
              "      <button class=\"colab-df-convert\" onclick=\"convertToInteractive('df-ad203204-51df-440a-8cef-98be7e94c8ae')\"\n",
              "              title=\"Convert this dataframe to an interactive table.\"\n",
              "              style=\"display:none;\">\n",
              "        \n",
              "  <svg xmlns=\"http://www.w3.org/2000/svg\" height=\"24px\"viewBox=\"0 0 24 24\"\n",
              "       width=\"24px\">\n",
              "    <path d=\"M0 0h24v24H0V0z\" fill=\"none\"/>\n",
              "    <path d=\"M18.56 5.44l.94 2.06.94-2.06 2.06-.94-2.06-.94-.94-2.06-.94 2.06-2.06.94zm-11 1L8.5 8.5l.94-2.06 2.06-.94-2.06-.94L8.5 2.5l-.94 2.06-2.06.94zm10 10l.94 2.06.94-2.06 2.06-.94-2.06-.94-.94-2.06-.94 2.06-2.06.94z\"/><path d=\"M17.41 7.96l-1.37-1.37c-.4-.4-.92-.59-1.43-.59-.52 0-1.04.2-1.43.59L10.3 9.45l-7.72 7.72c-.78.78-.78 2.05 0 2.83L4 21.41c.39.39.9.59 1.41.59.51 0 1.02-.2 1.41-.59l7.78-7.78 2.81-2.81c.8-.78.8-2.07 0-2.86zM5.41 20L4 18.59l7.72-7.72 1.47 1.35L5.41 20z\"/>\n",
              "  </svg>\n",
              "      </button>\n",
              "      \n",
              "  <style>\n",
              "    .colab-df-container {\n",
              "      display:flex;\n",
              "      flex-wrap:wrap;\n",
              "      gap: 12px;\n",
              "    }\n",
              "\n",
              "    .colab-df-convert {\n",
              "      background-color: #E8F0FE;\n",
              "      border: none;\n",
              "      border-radius: 50%;\n",
              "      cursor: pointer;\n",
              "      display: none;\n",
              "      fill: #1967D2;\n",
              "      height: 32px;\n",
              "      padding: 0 0 0 0;\n",
              "      width: 32px;\n",
              "    }\n",
              "\n",
              "    .colab-df-convert:hover {\n",
              "      background-color: #E2EBFA;\n",
              "      box-shadow: 0px 1px 2px rgba(60, 64, 67, 0.3), 0px 1px 3px 1px rgba(60, 64, 67, 0.15);\n",
              "      fill: #174EA6;\n",
              "    }\n",
              "\n",
              "    [theme=dark] .colab-df-convert {\n",
              "      background-color: #3B4455;\n",
              "      fill: #D2E3FC;\n",
              "    }\n",
              "\n",
              "    [theme=dark] .colab-df-convert:hover {\n",
              "      background-color: #434B5C;\n",
              "      box-shadow: 0px 1px 3px 1px rgba(0, 0, 0, 0.15);\n",
              "      filter: drop-shadow(0px 1px 2px rgba(0, 0, 0, 0.3));\n",
              "      fill: #FFFFFF;\n",
              "    }\n",
              "  </style>\n",
              "\n",
              "      <script>\n",
              "        const buttonEl =\n",
              "          document.querySelector('#df-ad203204-51df-440a-8cef-98be7e94c8ae button.colab-df-convert');\n",
              "        buttonEl.style.display =\n",
              "          google.colab.kernel.accessAllowed ? 'block' : 'none';\n",
              "\n",
              "        async function convertToInteractive(key) {\n",
              "          const element = document.querySelector('#df-ad203204-51df-440a-8cef-98be7e94c8ae');\n",
              "          const dataTable =\n",
              "            await google.colab.kernel.invokeFunction('convertToInteractive',\n",
              "                                                     [key], {});\n",
              "          if (!dataTable) return;\n",
              "\n",
              "          const docLinkHtml = 'Like what you see? Visit the ' +\n",
              "            '<a target=\"_blank\" href=https://colab.research.google.com/notebooks/data_table.ipynb>data table notebook</a>'\n",
              "            + ' to learn more about interactive tables.';\n",
              "          element.innerHTML = '';\n",
              "          dataTable['output_type'] = 'display_data';\n",
              "          await google.colab.output.renderOutput(dataTable, element);\n",
              "          const docLink = document.createElement('div');\n",
              "          docLink.innerHTML = docLinkHtml;\n",
              "          element.appendChild(docLink);\n",
              "        }\n",
              "      </script>\n",
              "    </div>\n",
              "  </div>\n",
              "  "
            ]
          },
          "metadata": {},
          "execution_count": 4
        }
      ]
    },
    {
      "cell_type": "code",
      "source": [
        "gender = pd.DataFrame()\n",
        "gender['customer_id'] = tr_customers['akeed_customer_id']\n",
        "gender['gender'] = tr_customers['gender']"
      ],
      "metadata": {
        "id": "wX1uNwj9meKw"
      },
      "execution_count": 5,
      "outputs": []
    },
    {
      "cell_type": "code",
      "source": [
        "print('B. The location data, Top 5 Rows: ')\n",
        "print('Shape:', tr_locations.shape)\n",
        "tr_locations = tr_locations[['customer_id', 'location_number', 'location_type', 'latitude', 'longitude']]\n",
        "tr_locations.head(2)"
      ],
      "metadata": {
        "colab": {
          "base_uri": "https://localhost:8080/",
          "height": 147
        },
        "id": "D_WiF0KuiRY5",
        "outputId": "210397ad-54de-4880-a95b-c1d2adb525e2"
      },
      "execution_count": 6,
      "outputs": [
        {
          "output_type": "stream",
          "name": "stdout",
          "text": [
            "B. The location data, Top 5 Rows: \n",
            "Shape: (59503, 5)\n"
          ]
        },
        {
          "output_type": "execute_result",
          "data": {
            "text/plain": [
              "  customer_id  location_number location_type  latitude  longitude\n",
              "0     02SFNJH                0           NaN  1.682392 -78.789737\n",
              "1     02SFNJH                1           NaN  1.679137   0.766823"
            ],
            "text/html": [
              "\n",
              "  <div id=\"df-294d0b4b-634e-4c8f-bcb3-db858a6df3e6\">\n",
              "    <div class=\"colab-df-container\">\n",
              "      <div>\n",
              "<style scoped>\n",
              "    .dataframe tbody tr th:only-of-type {\n",
              "        vertical-align: middle;\n",
              "    }\n",
              "\n",
              "    .dataframe tbody tr th {\n",
              "        vertical-align: top;\n",
              "    }\n",
              "\n",
              "    .dataframe thead th {\n",
              "        text-align: right;\n",
              "    }\n",
              "</style>\n",
              "<table border=\"1\" class=\"dataframe\">\n",
              "  <thead>\n",
              "    <tr style=\"text-align: right;\">\n",
              "      <th></th>\n",
              "      <th>customer_id</th>\n",
              "      <th>location_number</th>\n",
              "      <th>location_type</th>\n",
              "      <th>latitude</th>\n",
              "      <th>longitude</th>\n",
              "    </tr>\n",
              "  </thead>\n",
              "  <tbody>\n",
              "    <tr>\n",
              "      <th>0</th>\n",
              "      <td>02SFNJH</td>\n",
              "      <td>0</td>\n",
              "      <td>NaN</td>\n",
              "      <td>1.682392</td>\n",
              "      <td>-78.789737</td>\n",
              "    </tr>\n",
              "    <tr>\n",
              "      <th>1</th>\n",
              "      <td>02SFNJH</td>\n",
              "      <td>1</td>\n",
              "      <td>NaN</td>\n",
              "      <td>1.679137</td>\n",
              "      <td>0.766823</td>\n",
              "    </tr>\n",
              "  </tbody>\n",
              "</table>\n",
              "</div>\n",
              "      <button class=\"colab-df-convert\" onclick=\"convertToInteractive('df-294d0b4b-634e-4c8f-bcb3-db858a6df3e6')\"\n",
              "              title=\"Convert this dataframe to an interactive table.\"\n",
              "              style=\"display:none;\">\n",
              "        \n",
              "  <svg xmlns=\"http://www.w3.org/2000/svg\" height=\"24px\"viewBox=\"0 0 24 24\"\n",
              "       width=\"24px\">\n",
              "    <path d=\"M0 0h24v24H0V0z\" fill=\"none\"/>\n",
              "    <path d=\"M18.56 5.44l.94 2.06.94-2.06 2.06-.94-2.06-.94-.94-2.06-.94 2.06-2.06.94zm-11 1L8.5 8.5l.94-2.06 2.06-.94-2.06-.94L8.5 2.5l-.94 2.06-2.06.94zm10 10l.94 2.06.94-2.06 2.06-.94-2.06-.94-.94-2.06-.94 2.06-2.06.94z\"/><path d=\"M17.41 7.96l-1.37-1.37c-.4-.4-.92-.59-1.43-.59-.52 0-1.04.2-1.43.59L10.3 9.45l-7.72 7.72c-.78.78-.78 2.05 0 2.83L4 21.41c.39.39.9.59 1.41.59.51 0 1.02-.2 1.41-.59l7.78-7.78 2.81-2.81c.8-.78.8-2.07 0-2.86zM5.41 20L4 18.59l7.72-7.72 1.47 1.35L5.41 20z\"/>\n",
              "  </svg>\n",
              "      </button>\n",
              "      \n",
              "  <style>\n",
              "    .colab-df-container {\n",
              "      display:flex;\n",
              "      flex-wrap:wrap;\n",
              "      gap: 12px;\n",
              "    }\n",
              "\n",
              "    .colab-df-convert {\n",
              "      background-color: #E8F0FE;\n",
              "      border: none;\n",
              "      border-radius: 50%;\n",
              "      cursor: pointer;\n",
              "      display: none;\n",
              "      fill: #1967D2;\n",
              "      height: 32px;\n",
              "      padding: 0 0 0 0;\n",
              "      width: 32px;\n",
              "    }\n",
              "\n",
              "    .colab-df-convert:hover {\n",
              "      background-color: #E2EBFA;\n",
              "      box-shadow: 0px 1px 2px rgba(60, 64, 67, 0.3), 0px 1px 3px 1px rgba(60, 64, 67, 0.15);\n",
              "      fill: #174EA6;\n",
              "    }\n",
              "\n",
              "    [theme=dark] .colab-df-convert {\n",
              "      background-color: #3B4455;\n",
              "      fill: #D2E3FC;\n",
              "    }\n",
              "\n",
              "    [theme=dark] .colab-df-convert:hover {\n",
              "      background-color: #434B5C;\n",
              "      box-shadow: 0px 1px 3px 1px rgba(0, 0, 0, 0.15);\n",
              "      filter: drop-shadow(0px 1px 2px rgba(0, 0, 0, 0.3));\n",
              "      fill: #FFFFFF;\n",
              "    }\n",
              "  </style>\n",
              "\n",
              "      <script>\n",
              "        const buttonEl =\n",
              "          document.querySelector('#df-294d0b4b-634e-4c8f-bcb3-db858a6df3e6 button.colab-df-convert');\n",
              "        buttonEl.style.display =\n",
              "          google.colab.kernel.accessAllowed ? 'block' : 'none';\n",
              "\n",
              "        async function convertToInteractive(key) {\n",
              "          const element = document.querySelector('#df-294d0b4b-634e-4c8f-bcb3-db858a6df3e6');\n",
              "          const dataTable =\n",
              "            await google.colab.kernel.invokeFunction('convertToInteractive',\n",
              "                                                     [key], {});\n",
              "          if (!dataTable) return;\n",
              "\n",
              "          const docLinkHtml = 'Like what you see? Visit the ' +\n",
              "            '<a target=\"_blank\" href=https://colab.research.google.com/notebooks/data_table.ipynb>data table notebook</a>'\n",
              "            + ' to learn more about interactive tables.';\n",
              "          element.innerHTML = '';\n",
              "          dataTable['output_type'] = 'display_data';\n",
              "          await google.colab.output.renderOutput(dataTable, element);\n",
              "          const docLink = document.createElement('div');\n",
              "          docLink.innerHTML = docLinkHtml;\n",
              "          element.appendChild(docLink);\n",
              "        }\n",
              "      </script>\n",
              "    </div>\n",
              "  </div>\n",
              "  "
            ]
          },
          "metadata": {},
          "execution_count": 6
        }
      ]
    },
    {
      "cell_type": "code",
      "source": [
        "print('C. The orders data, Top 5 Rows: ')\n",
        "print('Shape:', orders.shape)\n",
        "orders.drop(['akeed_order_id','promo_code','promo_code_discount_percentage','delivery_date','created_at'], axis=1, errors='ignore', inplace=True)\n",
        "orders.head(2)"
      ],
      "metadata": {
        "colab": {
          "base_uri": "https://localhost:8080/",
          "height": 310
        },
        "id": "OGjF4AHAkswv",
        "outputId": "41d4298e-7e72-4582-dca1-a1d487bf283c"
      },
      "execution_count": 7,
      "outputs": [
        {
          "output_type": "stream",
          "name": "stdout",
          "text": [
            "C. The orders data, Top 5 Rows: \n",
            "Shape: (135303, 26)\n"
          ]
        },
        {
          "output_type": "execute_result",
          "data": {
            "text/plain": [
              "  customer_id  item_count  grand_total  payment_mode  vendor_discount_amount  \\\n",
              "0     92PEE24         1.0          7.6             2                     0.0   \n",
              "1     QS68UD8         1.0          8.7             1                     0.0   \n",
              "\n",
              "  is_favorite is_rated  vendor_rating  driver_rating  deliverydistance  ...  \\\n",
              "0         NaN       No            NaN            0.0               0.0  ...   \n",
              "1         NaN       No            NaN            0.0               0.0  ...   \n",
              "\n",
              "   delivery_time order_accepted_time driver_accepted_time  \\\n",
              "0            NaN                 NaN                  NaN   \n",
              "1            NaN                 NaN                  NaN   \n",
              "\n",
              "  ready_for_pickup_time picked_up_time delivered_time vendor_id  \\\n",
              "0                   NaN            NaN            NaN       105   \n",
              "1                   NaN            NaN            NaN       294   \n",
              "\n",
              "   LOCATION_NUMBER  LOCATION_TYPE CID X LOC_NUM X VENDOR  \n",
              "0                0            NaN      92PEE24 X 0 X 105  \n",
              "1                0           Work      QS68UD8 X 0 X 294  \n",
              "\n",
              "[2 rows x 21 columns]"
            ],
            "text/html": [
              "\n",
              "  <div id=\"df-8c91d530-3ba9-4c2b-baf7-519b148a0ec5\">\n",
              "    <div class=\"colab-df-container\">\n",
              "      <div>\n",
              "<style scoped>\n",
              "    .dataframe tbody tr th:only-of-type {\n",
              "        vertical-align: middle;\n",
              "    }\n",
              "\n",
              "    .dataframe tbody tr th {\n",
              "        vertical-align: top;\n",
              "    }\n",
              "\n",
              "    .dataframe thead th {\n",
              "        text-align: right;\n",
              "    }\n",
              "</style>\n",
              "<table border=\"1\" class=\"dataframe\">\n",
              "  <thead>\n",
              "    <tr style=\"text-align: right;\">\n",
              "      <th></th>\n",
              "      <th>customer_id</th>\n",
              "      <th>item_count</th>\n",
              "      <th>grand_total</th>\n",
              "      <th>payment_mode</th>\n",
              "      <th>vendor_discount_amount</th>\n",
              "      <th>is_favorite</th>\n",
              "      <th>is_rated</th>\n",
              "      <th>vendor_rating</th>\n",
              "      <th>driver_rating</th>\n",
              "      <th>deliverydistance</th>\n",
              "      <th>...</th>\n",
              "      <th>delivery_time</th>\n",
              "      <th>order_accepted_time</th>\n",
              "      <th>driver_accepted_time</th>\n",
              "      <th>ready_for_pickup_time</th>\n",
              "      <th>picked_up_time</th>\n",
              "      <th>delivered_time</th>\n",
              "      <th>vendor_id</th>\n",
              "      <th>LOCATION_NUMBER</th>\n",
              "      <th>LOCATION_TYPE</th>\n",
              "      <th>CID X LOC_NUM X VENDOR</th>\n",
              "    </tr>\n",
              "  </thead>\n",
              "  <tbody>\n",
              "    <tr>\n",
              "      <th>0</th>\n",
              "      <td>92PEE24</td>\n",
              "      <td>1.0</td>\n",
              "      <td>7.6</td>\n",
              "      <td>2</td>\n",
              "      <td>0.0</td>\n",
              "      <td>NaN</td>\n",
              "      <td>No</td>\n",
              "      <td>NaN</td>\n",
              "      <td>0.0</td>\n",
              "      <td>0.0</td>\n",
              "      <td>...</td>\n",
              "      <td>NaN</td>\n",
              "      <td>NaN</td>\n",
              "      <td>NaN</td>\n",
              "      <td>NaN</td>\n",
              "      <td>NaN</td>\n",
              "      <td>NaN</td>\n",
              "      <td>105</td>\n",
              "      <td>0</td>\n",
              "      <td>NaN</td>\n",
              "      <td>92PEE24 X 0 X 105</td>\n",
              "    </tr>\n",
              "    <tr>\n",
              "      <th>1</th>\n",
              "      <td>QS68UD8</td>\n",
              "      <td>1.0</td>\n",
              "      <td>8.7</td>\n",
              "      <td>1</td>\n",
              "      <td>0.0</td>\n",
              "      <td>NaN</td>\n",
              "      <td>No</td>\n",
              "      <td>NaN</td>\n",
              "      <td>0.0</td>\n",
              "      <td>0.0</td>\n",
              "      <td>...</td>\n",
              "      <td>NaN</td>\n",
              "      <td>NaN</td>\n",
              "      <td>NaN</td>\n",
              "      <td>NaN</td>\n",
              "      <td>NaN</td>\n",
              "      <td>NaN</td>\n",
              "      <td>294</td>\n",
              "      <td>0</td>\n",
              "      <td>Work</td>\n",
              "      <td>QS68UD8 X 0 X 294</td>\n",
              "    </tr>\n",
              "  </tbody>\n",
              "</table>\n",
              "<p>2 rows × 21 columns</p>\n",
              "</div>\n",
              "      <button class=\"colab-df-convert\" onclick=\"convertToInteractive('df-8c91d530-3ba9-4c2b-baf7-519b148a0ec5')\"\n",
              "              title=\"Convert this dataframe to an interactive table.\"\n",
              "              style=\"display:none;\">\n",
              "        \n",
              "  <svg xmlns=\"http://www.w3.org/2000/svg\" height=\"24px\"viewBox=\"0 0 24 24\"\n",
              "       width=\"24px\">\n",
              "    <path d=\"M0 0h24v24H0V0z\" fill=\"none\"/>\n",
              "    <path d=\"M18.56 5.44l.94 2.06.94-2.06 2.06-.94-2.06-.94-.94-2.06-.94 2.06-2.06.94zm-11 1L8.5 8.5l.94-2.06 2.06-.94-2.06-.94L8.5 2.5l-.94 2.06-2.06.94zm10 10l.94 2.06.94-2.06 2.06-.94-2.06-.94-.94-2.06-.94 2.06-2.06.94z\"/><path d=\"M17.41 7.96l-1.37-1.37c-.4-.4-.92-.59-1.43-.59-.52 0-1.04.2-1.43.59L10.3 9.45l-7.72 7.72c-.78.78-.78 2.05 0 2.83L4 21.41c.39.39.9.59 1.41.59.51 0 1.02-.2 1.41-.59l7.78-7.78 2.81-2.81c.8-.78.8-2.07 0-2.86zM5.41 20L4 18.59l7.72-7.72 1.47 1.35L5.41 20z\"/>\n",
              "  </svg>\n",
              "      </button>\n",
              "      \n",
              "  <style>\n",
              "    .colab-df-container {\n",
              "      display:flex;\n",
              "      flex-wrap:wrap;\n",
              "      gap: 12px;\n",
              "    }\n",
              "\n",
              "    .colab-df-convert {\n",
              "      background-color: #E8F0FE;\n",
              "      border: none;\n",
              "      border-radius: 50%;\n",
              "      cursor: pointer;\n",
              "      display: none;\n",
              "      fill: #1967D2;\n",
              "      height: 32px;\n",
              "      padding: 0 0 0 0;\n",
              "      width: 32px;\n",
              "    }\n",
              "\n",
              "    .colab-df-convert:hover {\n",
              "      background-color: #E2EBFA;\n",
              "      box-shadow: 0px 1px 2px rgba(60, 64, 67, 0.3), 0px 1px 3px 1px rgba(60, 64, 67, 0.15);\n",
              "      fill: #174EA6;\n",
              "    }\n",
              "\n",
              "    [theme=dark] .colab-df-convert {\n",
              "      background-color: #3B4455;\n",
              "      fill: #D2E3FC;\n",
              "    }\n",
              "\n",
              "    [theme=dark] .colab-df-convert:hover {\n",
              "      background-color: #434B5C;\n",
              "      box-shadow: 0px 1px 3px 1px rgba(0, 0, 0, 0.15);\n",
              "      filter: drop-shadow(0px 1px 2px rgba(0, 0, 0, 0.3));\n",
              "      fill: #FFFFFF;\n",
              "    }\n",
              "  </style>\n",
              "\n",
              "      <script>\n",
              "        const buttonEl =\n",
              "          document.querySelector('#df-8c91d530-3ba9-4c2b-baf7-519b148a0ec5 button.colab-df-convert');\n",
              "        buttonEl.style.display =\n",
              "          google.colab.kernel.accessAllowed ? 'block' : 'none';\n",
              "\n",
              "        async function convertToInteractive(key) {\n",
              "          const element = document.querySelector('#df-8c91d530-3ba9-4c2b-baf7-519b148a0ec5');\n",
              "          const dataTable =\n",
              "            await google.colab.kernel.invokeFunction('convertToInteractive',\n",
              "                                                     [key], {});\n",
              "          if (!dataTable) return;\n",
              "\n",
              "          const docLinkHtml = 'Like what you see? Visit the ' +\n",
              "            '<a target=\"_blank\" href=https://colab.research.google.com/notebooks/data_table.ipynb>data table notebook</a>'\n",
              "            + ' to learn more about interactive tables.';\n",
              "          element.innerHTML = '';\n",
              "          dataTable['output_type'] = 'display_data';\n",
              "          await google.colab.output.renderOutput(dataTable, element);\n",
              "          const docLink = document.createElement('div');\n",
              "          docLink.innerHTML = docLinkHtml;\n",
              "          element.appendChild(docLink);\n",
              "        }\n",
              "      </script>\n",
              "    </div>\n",
              "  </div>\n",
              "  "
            ]
          },
          "metadata": {},
          "execution_count": 7
        }
      ]
    },
    {
      "cell_type": "code",
      "source": [
        "print('D. Total Vendors ,Top 5 Rows: ')\n",
        "vendors['vendor_id']=vendors['id']\n",
        "vendors.head(2)"
      ],
      "metadata": {
        "colab": {
          "base_uri": "https://localhost:8080/",
          "height": 258
        },
        "id": "f_Mi4QzQlOqF",
        "outputId": "2c1db670-3bbf-47eb-87f0-7535a026c3bf"
      },
      "execution_count": 8,
      "outputs": [
        {
          "output_type": "stream",
          "name": "stdout",
          "text": [
            "D. Total Vendors ,Top 5 Rows: \n"
          ]
        },
        {
          "output_type": "execute_result",
          "data": {
            "text/plain": [
              "   id  authentication_id  latitude  longitude vendor_category_en  \\\n",
              "0   4           118597.0 -0.588596   0.754434        Restaurants   \n",
              "1  13           118608.0 -0.471654   0.744470        Restaurants   \n",
              "\n",
              "   vendor_category_id  delivery_charge  serving_distance  is_open  \\\n",
              "0                 2.0              0.0               6.0      1.0   \n",
              "1                 2.0              0.7               5.0      1.0   \n",
              "\n",
              "       OpeningTime  ...                 vendor_tag  \\\n",
              "0  11:00AM-11:30PM  ...  2,4,5,8,91,22,12,24,16,23   \n",
              "1  08:30AM-10:30PM  ...  4,41,51,34,27,15,24,16,28   \n",
              "\n",
              "                                     vendor_tag_name  one_click_vendor  \\\n",
              "0  Arabic,Breakfast,Burgers,Desserts,Free Deliver...                 Y   \n",
              "1  Breakfast,Cakes,Crepes,Italian,Pasta,Pizzas,Sa...                 Y   \n",
              "\n",
              "  country_id  city_id           created_at           updated_at  device_type  \\\n",
              "0        1.0      1.0  2018-01-30 14:42:04  2020-04-07 15:12:43            3   \n",
              "1        1.0      1.0  2018-05-03 12:32:06  2020-04-05 20:46:03            3   \n",
              "\n",
              "  display_orders  vendor_id  \n",
              "0              1          4  \n",
              "1              1         13  \n",
              "\n",
              "[2 rows x 60 columns]"
            ],
            "text/html": [
              "\n",
              "  <div id=\"df-dbf2a33e-6dda-406c-923d-72ddcfc32697\">\n",
              "    <div class=\"colab-df-container\">\n",
              "      <div>\n",
              "<style scoped>\n",
              "    .dataframe tbody tr th:only-of-type {\n",
              "        vertical-align: middle;\n",
              "    }\n",
              "\n",
              "    .dataframe tbody tr th {\n",
              "        vertical-align: top;\n",
              "    }\n",
              "\n",
              "    .dataframe thead th {\n",
              "        text-align: right;\n",
              "    }\n",
              "</style>\n",
              "<table border=\"1\" class=\"dataframe\">\n",
              "  <thead>\n",
              "    <tr style=\"text-align: right;\">\n",
              "      <th></th>\n",
              "      <th>id</th>\n",
              "      <th>authentication_id</th>\n",
              "      <th>latitude</th>\n",
              "      <th>longitude</th>\n",
              "      <th>vendor_category_en</th>\n",
              "      <th>vendor_category_id</th>\n",
              "      <th>delivery_charge</th>\n",
              "      <th>serving_distance</th>\n",
              "      <th>is_open</th>\n",
              "      <th>OpeningTime</th>\n",
              "      <th>...</th>\n",
              "      <th>vendor_tag</th>\n",
              "      <th>vendor_tag_name</th>\n",
              "      <th>one_click_vendor</th>\n",
              "      <th>country_id</th>\n",
              "      <th>city_id</th>\n",
              "      <th>created_at</th>\n",
              "      <th>updated_at</th>\n",
              "      <th>device_type</th>\n",
              "      <th>display_orders</th>\n",
              "      <th>vendor_id</th>\n",
              "    </tr>\n",
              "  </thead>\n",
              "  <tbody>\n",
              "    <tr>\n",
              "      <th>0</th>\n",
              "      <td>4</td>\n",
              "      <td>118597.0</td>\n",
              "      <td>-0.588596</td>\n",
              "      <td>0.754434</td>\n",
              "      <td>Restaurants</td>\n",
              "      <td>2.0</td>\n",
              "      <td>0.0</td>\n",
              "      <td>6.0</td>\n",
              "      <td>1.0</td>\n",
              "      <td>11:00AM-11:30PM</td>\n",
              "      <td>...</td>\n",
              "      <td>2,4,5,8,91,22,12,24,16,23</td>\n",
              "      <td>Arabic,Breakfast,Burgers,Desserts,Free Deliver...</td>\n",
              "      <td>Y</td>\n",
              "      <td>1.0</td>\n",
              "      <td>1.0</td>\n",
              "      <td>2018-01-30 14:42:04</td>\n",
              "      <td>2020-04-07 15:12:43</td>\n",
              "      <td>3</td>\n",
              "      <td>1</td>\n",
              "      <td>4</td>\n",
              "    </tr>\n",
              "    <tr>\n",
              "      <th>1</th>\n",
              "      <td>13</td>\n",
              "      <td>118608.0</td>\n",
              "      <td>-0.471654</td>\n",
              "      <td>0.744470</td>\n",
              "      <td>Restaurants</td>\n",
              "      <td>2.0</td>\n",
              "      <td>0.7</td>\n",
              "      <td>5.0</td>\n",
              "      <td>1.0</td>\n",
              "      <td>08:30AM-10:30PM</td>\n",
              "      <td>...</td>\n",
              "      <td>4,41,51,34,27,15,24,16,28</td>\n",
              "      <td>Breakfast,Cakes,Crepes,Italian,Pasta,Pizzas,Sa...</td>\n",
              "      <td>Y</td>\n",
              "      <td>1.0</td>\n",
              "      <td>1.0</td>\n",
              "      <td>2018-05-03 12:32:06</td>\n",
              "      <td>2020-04-05 20:46:03</td>\n",
              "      <td>3</td>\n",
              "      <td>1</td>\n",
              "      <td>13</td>\n",
              "    </tr>\n",
              "  </tbody>\n",
              "</table>\n",
              "<p>2 rows × 60 columns</p>\n",
              "</div>\n",
              "      <button class=\"colab-df-convert\" onclick=\"convertToInteractive('df-dbf2a33e-6dda-406c-923d-72ddcfc32697')\"\n",
              "              title=\"Convert this dataframe to an interactive table.\"\n",
              "              style=\"display:none;\">\n",
              "        \n",
              "  <svg xmlns=\"http://www.w3.org/2000/svg\" height=\"24px\"viewBox=\"0 0 24 24\"\n",
              "       width=\"24px\">\n",
              "    <path d=\"M0 0h24v24H0V0z\" fill=\"none\"/>\n",
              "    <path d=\"M18.56 5.44l.94 2.06.94-2.06 2.06-.94-2.06-.94-.94-2.06-.94 2.06-2.06.94zm-11 1L8.5 8.5l.94-2.06 2.06-.94-2.06-.94L8.5 2.5l-.94 2.06-2.06.94zm10 10l.94 2.06.94-2.06 2.06-.94-2.06-.94-.94-2.06-.94 2.06-2.06.94z\"/><path d=\"M17.41 7.96l-1.37-1.37c-.4-.4-.92-.59-1.43-.59-.52 0-1.04.2-1.43.59L10.3 9.45l-7.72 7.72c-.78.78-.78 2.05 0 2.83L4 21.41c.39.39.9.59 1.41.59.51 0 1.02-.2 1.41-.59l7.78-7.78 2.81-2.81c.8-.78.8-2.07 0-2.86zM5.41 20L4 18.59l7.72-7.72 1.47 1.35L5.41 20z\"/>\n",
              "  </svg>\n",
              "      </button>\n",
              "      \n",
              "  <style>\n",
              "    .colab-df-container {\n",
              "      display:flex;\n",
              "      flex-wrap:wrap;\n",
              "      gap: 12px;\n",
              "    }\n",
              "\n",
              "    .colab-df-convert {\n",
              "      background-color: #E8F0FE;\n",
              "      border: none;\n",
              "      border-radius: 50%;\n",
              "      cursor: pointer;\n",
              "      display: none;\n",
              "      fill: #1967D2;\n",
              "      height: 32px;\n",
              "      padding: 0 0 0 0;\n",
              "      width: 32px;\n",
              "    }\n",
              "\n",
              "    .colab-df-convert:hover {\n",
              "      background-color: #E2EBFA;\n",
              "      box-shadow: 0px 1px 2px rgba(60, 64, 67, 0.3), 0px 1px 3px 1px rgba(60, 64, 67, 0.15);\n",
              "      fill: #174EA6;\n",
              "    }\n",
              "\n",
              "    [theme=dark] .colab-df-convert {\n",
              "      background-color: #3B4455;\n",
              "      fill: #D2E3FC;\n",
              "    }\n",
              "\n",
              "    [theme=dark] .colab-df-convert:hover {\n",
              "      background-color: #434B5C;\n",
              "      box-shadow: 0px 1px 3px 1px rgba(0, 0, 0, 0.15);\n",
              "      filter: drop-shadow(0px 1px 2px rgba(0, 0, 0, 0.3));\n",
              "      fill: #FFFFFF;\n",
              "    }\n",
              "  </style>\n",
              "\n",
              "      <script>\n",
              "        const buttonEl =\n",
              "          document.querySelector('#df-dbf2a33e-6dda-406c-923d-72ddcfc32697 button.colab-df-convert');\n",
              "        buttonEl.style.display =\n",
              "          google.colab.kernel.accessAllowed ? 'block' : 'none';\n",
              "\n",
              "        async function convertToInteractive(key) {\n",
              "          const element = document.querySelector('#df-dbf2a33e-6dda-406c-923d-72ddcfc32697');\n",
              "          const dataTable =\n",
              "            await google.colab.kernel.invokeFunction('convertToInteractive',\n",
              "                                                     [key], {});\n",
              "          if (!dataTable) return;\n",
              "\n",
              "          const docLinkHtml = 'Like what you see? Visit the ' +\n",
              "            '<a target=\"_blank\" href=https://colab.research.google.com/notebooks/data_table.ipynb>data table notebook</a>'\n",
              "            + ' to learn more about interactive tables.';\n",
              "          element.innerHTML = '';\n",
              "          dataTable['output_type'] = 'display_data';\n",
              "          await google.colab.output.renderOutput(dataTable, element);\n",
              "          const docLink = document.createElement('div');\n",
              "          docLink.innerHTML = docLinkHtml;\n",
              "          element.appendChild(docLink);\n",
              "        }\n",
              "      </script>\n",
              "    </div>\n",
              "  </div>\n",
              "  "
            ]
          },
          "metadata": {},
          "execution_count": 8
        }
      ]
    },
    {
      "cell_type": "code",
      "source": [
        "# creating the final table after\n",
        "final_df = pd.DataFrame()\n",
        "final_df['customer_id'] = orders['customer_id']\n",
        "final_df['location_number'] = orders['LOCATION_NUMBER']\n",
        "final_df['vendor_id'] = orders['vendor_id']\n",
        "final_df = pd.merge(final_df, tr_locations, how=\"outer\", on=['customer_id', 'location_number'])\n",
        "final_df = pd.merge(final_df, gender, how='outer', on=['customer_id'])"
      ],
      "metadata": {
        "id": "WgmE2qFmmBhT"
      },
      "execution_count": 9,
      "outputs": []
    },
    {
      "cell_type": "code",
      "source": [
        "# dropping unnecessary columns\n",
        "final_df.drop_duplicates(inplace=True)\n",
        "final_df['cus_lat'] = final_df['latitude']\n",
        "final_df['cus_long'] = final_df['longitude']\n",
        "final_df.drop(['latitude', 'longitude'], axis=1, inplace=True)"
      ],
      "metadata": {
        "id": "VMoeQAhemvjm"
      },
      "execution_count": 10,
      "outputs": []
    },
    {
      "cell_type": "code",
      "source": [
        "final = pd.merge(final_df, vendors, how=\"outer\", on=['vendor_id'])\n",
        "final.drop_duplicates(inplace=True)\n",
        "final = final[['customer_id', 'location_number', 'gender', 'vendor_id', 'cus_lat', 'cus_long',\\\n",
        "             'latitude', 'longitude', 'vendor_category_en', 'delivery_charge', 'serving_distance', 'is_open',\\\n",
        "             'prepration_time', 'is_akeed_delivering', 'vendor_rating', 'one_click_vendor']]\n",
        "final.head(2)"
      ],
      "metadata": {
        "colab": {
          "base_uri": "https://localhost:8080/",
          "height": 176
        },
        "id": "uf3juXDMm0Uc",
        "outputId": "19dbbc60-0d97-4ef3-808f-b26546674b0b"
      },
      "execution_count": 11,
      "outputs": [
        {
          "output_type": "execute_result",
          "data": {
            "text/plain": [
              "  customer_id  location_number gender  vendor_id   cus_lat   cus_long  \\\n",
              "0     92PEE24                0   Male      105.0 -0.132100 -78.575297   \n",
              "1     92PEE24                1   Male      105.0 -0.760509 -78.501031   \n",
              "\n",
              "   latitude  longitude vendor_category_en  delivery_charge  serving_distance  \\\n",
              "0 -0.967769   0.080839        Restaurants              0.0              15.0   \n",
              "1 -0.967769   0.080839        Restaurants              0.0              15.0   \n",
              "\n",
              "   is_open  prepration_time is_akeed_delivering  vendor_rating  \\\n",
              "0      1.0             12.0                 Yes            4.5   \n",
              "1      1.0             12.0                 Yes            4.5   \n",
              "\n",
              "  one_click_vendor  \n",
              "0                Y  \n",
              "1                Y  "
            ],
            "text/html": [
              "\n",
              "  <div id=\"df-35ddfbc0-0255-485c-acaa-b6fc636fff25\">\n",
              "    <div class=\"colab-df-container\">\n",
              "      <div>\n",
              "<style scoped>\n",
              "    .dataframe tbody tr th:only-of-type {\n",
              "        vertical-align: middle;\n",
              "    }\n",
              "\n",
              "    .dataframe tbody tr th {\n",
              "        vertical-align: top;\n",
              "    }\n",
              "\n",
              "    .dataframe thead th {\n",
              "        text-align: right;\n",
              "    }\n",
              "</style>\n",
              "<table border=\"1\" class=\"dataframe\">\n",
              "  <thead>\n",
              "    <tr style=\"text-align: right;\">\n",
              "      <th></th>\n",
              "      <th>customer_id</th>\n",
              "      <th>location_number</th>\n",
              "      <th>gender</th>\n",
              "      <th>vendor_id</th>\n",
              "      <th>cus_lat</th>\n",
              "      <th>cus_long</th>\n",
              "      <th>latitude</th>\n",
              "      <th>longitude</th>\n",
              "      <th>vendor_category_en</th>\n",
              "      <th>delivery_charge</th>\n",
              "      <th>serving_distance</th>\n",
              "      <th>is_open</th>\n",
              "      <th>prepration_time</th>\n",
              "      <th>is_akeed_delivering</th>\n",
              "      <th>vendor_rating</th>\n",
              "      <th>one_click_vendor</th>\n",
              "    </tr>\n",
              "  </thead>\n",
              "  <tbody>\n",
              "    <tr>\n",
              "      <th>0</th>\n",
              "      <td>92PEE24</td>\n",
              "      <td>0</td>\n",
              "      <td>Male</td>\n",
              "      <td>105.0</td>\n",
              "      <td>-0.132100</td>\n",
              "      <td>-78.575297</td>\n",
              "      <td>-0.967769</td>\n",
              "      <td>0.080839</td>\n",
              "      <td>Restaurants</td>\n",
              "      <td>0.0</td>\n",
              "      <td>15.0</td>\n",
              "      <td>1.0</td>\n",
              "      <td>12.0</td>\n",
              "      <td>Yes</td>\n",
              "      <td>4.5</td>\n",
              "      <td>Y</td>\n",
              "    </tr>\n",
              "    <tr>\n",
              "      <th>1</th>\n",
              "      <td>92PEE24</td>\n",
              "      <td>1</td>\n",
              "      <td>Male</td>\n",
              "      <td>105.0</td>\n",
              "      <td>-0.760509</td>\n",
              "      <td>-78.501031</td>\n",
              "      <td>-0.967769</td>\n",
              "      <td>0.080839</td>\n",
              "      <td>Restaurants</td>\n",
              "      <td>0.0</td>\n",
              "      <td>15.0</td>\n",
              "      <td>1.0</td>\n",
              "      <td>12.0</td>\n",
              "      <td>Yes</td>\n",
              "      <td>4.5</td>\n",
              "      <td>Y</td>\n",
              "    </tr>\n",
              "  </tbody>\n",
              "</table>\n",
              "</div>\n",
              "      <button class=\"colab-df-convert\" onclick=\"convertToInteractive('df-35ddfbc0-0255-485c-acaa-b6fc636fff25')\"\n",
              "              title=\"Convert this dataframe to an interactive table.\"\n",
              "              style=\"display:none;\">\n",
              "        \n",
              "  <svg xmlns=\"http://www.w3.org/2000/svg\" height=\"24px\"viewBox=\"0 0 24 24\"\n",
              "       width=\"24px\">\n",
              "    <path d=\"M0 0h24v24H0V0z\" fill=\"none\"/>\n",
              "    <path d=\"M18.56 5.44l.94 2.06.94-2.06 2.06-.94-2.06-.94-.94-2.06-.94 2.06-2.06.94zm-11 1L8.5 8.5l.94-2.06 2.06-.94-2.06-.94L8.5 2.5l-.94 2.06-2.06.94zm10 10l.94 2.06.94-2.06 2.06-.94-2.06-.94-.94-2.06-.94 2.06-2.06.94z\"/><path d=\"M17.41 7.96l-1.37-1.37c-.4-.4-.92-.59-1.43-.59-.52 0-1.04.2-1.43.59L10.3 9.45l-7.72 7.72c-.78.78-.78 2.05 0 2.83L4 21.41c.39.39.9.59 1.41.59.51 0 1.02-.2 1.41-.59l7.78-7.78 2.81-2.81c.8-.78.8-2.07 0-2.86zM5.41 20L4 18.59l7.72-7.72 1.47 1.35L5.41 20z\"/>\n",
              "  </svg>\n",
              "      </button>\n",
              "      \n",
              "  <style>\n",
              "    .colab-df-container {\n",
              "      display:flex;\n",
              "      flex-wrap:wrap;\n",
              "      gap: 12px;\n",
              "    }\n",
              "\n",
              "    .colab-df-convert {\n",
              "      background-color: #E8F0FE;\n",
              "      border: none;\n",
              "      border-radius: 50%;\n",
              "      cursor: pointer;\n",
              "      display: none;\n",
              "      fill: #1967D2;\n",
              "      height: 32px;\n",
              "      padding: 0 0 0 0;\n",
              "      width: 32px;\n",
              "    }\n",
              "\n",
              "    .colab-df-convert:hover {\n",
              "      background-color: #E2EBFA;\n",
              "      box-shadow: 0px 1px 2px rgba(60, 64, 67, 0.3), 0px 1px 3px 1px rgba(60, 64, 67, 0.15);\n",
              "      fill: #174EA6;\n",
              "    }\n",
              "\n",
              "    [theme=dark] .colab-df-convert {\n",
              "      background-color: #3B4455;\n",
              "      fill: #D2E3FC;\n",
              "    }\n",
              "\n",
              "    [theme=dark] .colab-df-convert:hover {\n",
              "      background-color: #434B5C;\n",
              "      box-shadow: 0px 1px 3px 1px rgba(0, 0, 0, 0.15);\n",
              "      filter: drop-shadow(0px 1px 2px rgba(0, 0, 0, 0.3));\n",
              "      fill: #FFFFFF;\n",
              "    }\n",
              "  </style>\n",
              "\n",
              "      <script>\n",
              "        const buttonEl =\n",
              "          document.querySelector('#df-35ddfbc0-0255-485c-acaa-b6fc636fff25 button.colab-df-convert');\n",
              "        buttonEl.style.display =\n",
              "          google.colab.kernel.accessAllowed ? 'block' : 'none';\n",
              "\n",
              "        async function convertToInteractive(key) {\n",
              "          const element = document.querySelector('#df-35ddfbc0-0255-485c-acaa-b6fc636fff25');\n",
              "          const dataTable =\n",
              "            await google.colab.kernel.invokeFunction('convertToInteractive',\n",
              "                                                     [key], {});\n",
              "          if (!dataTable) return;\n",
              "\n",
              "          const docLinkHtml = 'Like what you see? Visit the ' +\n",
              "            '<a target=\"_blank\" href=https://colab.research.google.com/notebooks/data_table.ipynb>data table notebook</a>'\n",
              "            + ' to learn more about interactive tables.';\n",
              "          element.innerHTML = '';\n",
              "          dataTable['output_type'] = 'display_data';\n",
              "          await google.colab.output.renderOutput(dataTable, element);\n",
              "          const docLink = document.createElement('div');\n",
              "          docLink.innerHTML = docLinkHtml;\n",
              "          element.appendChild(docLink);\n",
              "        }\n",
              "      </script>\n",
              "    </div>\n",
              "  </div>\n",
              "  "
            ]
          },
          "metadata": {},
          "execution_count": 11
        }
      ]
    },
    {
      "cell_type": "code",
      "source": [
        "print('Shape of data:', final.shape)\n",
        "print('Columns in data:', final.columns)"
      ],
      "metadata": {
        "colab": {
          "base_uri": "https://localhost:8080/"
        },
        "id": "syTMzPGEnE5b",
        "outputId": "e2897c82-70f8-442e-f935-e3ba84c7eb57"
      },
      "execution_count": 12,
      "outputs": [
        {
          "output_type": "stream",
          "name": "stdout",
          "text": [
            "Shape of data: (96020, 16)\n",
            "Columns in data: Index(['customer_id', 'location_number', 'gender', 'vendor_id', 'cus_lat',\n",
            "       'cus_long', 'latitude', 'longitude', 'vendor_category_en',\n",
            "       'delivery_charge', 'serving_distance', 'is_open', 'prepration_time',\n",
            "       'is_akeed_delivering', 'vendor_rating', 'one_click_vendor'],\n",
            "      dtype='object')\n"
          ]
        }
      ]
    },
    {
      "cell_type": "markdown",
      "source": [
        "## *Vendor Top 25*"
      ],
      "metadata": {
        "id": "lqqMCihcnKhs"
      }
    },
    {
      "cell_type": "code",
      "source": [
        "fig, ax = plt.subplots()\n",
        "final['vendor_id'].value_counts().head(25).plot(ax=ax, kind='bar', figsize=(15, 5), cmap='Set2')\n",
        "plt.xlabel('VENDOR ID'); plt.ylabel('COUNT OF ORDER'); plt.title('FREQUENCY OF VENDORS CHOSEN BY CUSTOMERS')\n",
        "plt.xticks(rotation=0); ax.legend()"
      ],
      "metadata": {
        "colab": {
          "base_uri": "https://localhost:8080/",
          "height": 367
        },
        "id": "uYKzr0FNnQwn",
        "outputId": "ae9d9eb6-93a3-431d-9b5f-9f131a22a7af"
      },
      "execution_count": 13,
      "outputs": [
        {
          "output_type": "execute_result",
          "data": {
            "text/plain": [
              "<matplotlib.legend.Legend at 0x7f7d8ab85510>"
            ]
          },
          "metadata": {},
          "execution_count": 13
        },
        {
          "output_type": "display_data",
          "data": {
            "text/plain": [
              "<Figure size 1080x360 with 1 Axes>"
            ],
            "image/png": "[encoded data removed]"
          },
          "metadata": {
            "needs_background": "light"
          }
        }
      ]
    },
    {
      "cell_type": "markdown",
      "source": [
        "**PLOT DESCRIPTION AND OBSERVATIONS:**\n",
        "\n",
        "1. We can see vendors such as 113, 105, 84, 79, 368, 86 and 846 contains 25 percentile of total vendors chosen.\n",
        "\n",
        "2. In recommendation these vendors will have a high chance of being recommended by customers."
      ],
      "metadata": {
        "id": "Q_AmQmu2o1cT"
      }
    },
    {
      "cell_type": "markdown",
      "source": [
        "# **1. Feature Analysis - Univariate**"
      ],
      "metadata": {
        "id": "luuVHmrF_GYH"
      }
    },
    {
      "cell_type": "markdown",
      "source": [
        "##*Locations (Latitude - Longitude)*"
      ],
      "metadata": {
        "id": "Zy34OAWHpAN6"
      }
    },
    {
      "cell_type": "code",
      "source": [
        "# creating a dataframe to analyze customers and vendors locations over map\n",
        "location_cust = pd.DataFrame()\n",
        "location_cust['vendor'] = final['vendor_id']\n",
        "location_cust['latitude'] = final['cus_lat']\n",
        "location_cust['longitude'] = final['cus_long']\n",
        "location_cust['ven_lat'] = final['latitude']\n",
        "location_cust['ven_lon'] = final['longitude']\n",
        "\n",
        "# dropping locations with anomalies and using coordinated between (-90,90) for latitudes and (-180,180) for longitudes\n",
        "location_cust.drop(location_cust.loc[(location_cust['latitude']<-90) | (location_cust['latitude']>90)].index, inplace=True)\n",
        "location_cust.drop(location_cust.loc[(location_cust['longitude']<-180) | (location_cust['longitude']>180)].index, inplace=True)\n",
        "location_cust.drop(location_cust.loc[(location_cust['ven_lat']<-90) | (location_cust['ven_lat']>90)].index, inplace=True)\n",
        "location_cust.drop(location_cust.loc[(location_cust['ven_lon']<-180) | (location_cust['ven_lon']>180)].index, inplace=True)"
      ],
      "metadata": {
        "id": "K-ZCaptRo4DF"
      },
      "execution_count": 14,
      "outputs": []
    },
    {
      "cell_type": "markdown",
      "source": [
        "### *a. Location of Customers (IMPORTANT)*"
      ],
      "metadata": {
        "id": "wLTZ8F1bqEHy"
      }
    },
    {
      "cell_type": "code",
      "source": [
        "# locations of customers over map who make order\n",
        "geo = [Point(x) for x in zip(location_cust['longitude'], location_cust['latitude'])]\n",
        "gdf = gpd.GeoDataFrame(location_cust, geometry=geo)   \n",
        "world = gpd.read_file(gpd.datasets.get_path('naturalearth_lowres'))\n",
        "gdf.plot(ax = world.plot(figsize=(10,10), cmap='Set2'), marker='*', color='black', markersize=100);"
      ],
      "metadata": {
        "colab": {
          "base_uri": "https://localhost:8080/",
          "height": 317
        },
        "id": "XhuFmmHOpS7F",
        "outputId": "9c97b46a-49d1-45e9-d71c-bfe85928cbee"
      },
      "execution_count": 15,
      "outputs": [
        {
          "output_type": "display_data",
          "data": {
            "text/plain": [
              "<Figure size 720x720 with 1 Axes>"
            ],
            "image/png": "[encoded data removed]"
          },
          "metadata": {
            "needs_background": "light"
          }
        }
      ]
    },
    {
      "cell_type": "markdown",
      "source": [
        "**PLOT DESCRIPTION AND OBSERVATIONS:**\n",
        "\n",
        "1. Here the locations of all customers who ordered something are shown.\n",
        "\n",
        "2. There were around 5000 wrong coordinates removed to get them plotted into the world map(lat:(-90,90) long:(-180,180)). But still we get some locations are from sea.\n",
        "\n",
        "3. Most of the customers are from Africa and some are from South America.\n",
        "\n",
        "4. Using customer only locations will not be a much use in our recommendation process. We have to see the vendors locations as well."
      ],
      "metadata": {
        "id": "rE4MohQUpcRA"
      }
    },
    {
      "cell_type": "markdown",
      "source": [
        "### *b. Location of Vendors (IMPORTANT)*"
      ],
      "metadata": {
        "id": "-mb6PLbvqJp6"
      }
    },
    {
      "cell_type": "code",
      "source": [
        "# locations of vendors over map who received orders\n",
        "geo = [Point(x) for x in zip(location_cust['ven_lon'], location_cust['ven_lat'])]\n",
        "gdf = gpd.GeoDataFrame(location_cust, geometry=geo)\n",
        "world = gpd.read_file(gpd.datasets.get_path('naturalearth_lowres'))\n",
        "gdf.plot(ax=world.plot(figsize=(10,10), cmap='Set2'), marker='*', color='black', markersize=100);"
      ],
      "metadata": {
        "colab": {
          "base_uri": "https://localhost:8080/",
          "height": 317
        },
        "id": "InWEVFlWpuoT",
        "outputId": "f6dda2dd-d8c4-430b-9ed1-840712eb2617"
      },
      "execution_count": 16,
      "outputs": [
        {
          "output_type": "display_data",
          "data": {
            "text/plain": [
              "<Figure size 720x720 with 1 Axes>"
            ],
            "image/png": "[encoded data removed]"
          },
          "metadata": {
            "needs_background": "light"
          }
        }
      ]
    },
    {
      "cell_type": "markdown",
      "source": [
        "**PLOT SUMMARY:**\n",
        "\n",
        "1. There were invalid latitudes and longitudes I found and removed them to get shape in the world map(lat:(-90,90) long:(-180,180)). Still some locations are from sea.\n",
        "\n",
        "2. All the vendors are from Africa, but as we can see using these longitudes and latitudes, finding recommendations are tough. \n",
        "\n",
        "3. We have to see distance between customers and vendors locations in next approaches."
      ],
      "metadata": {
        "id": "x7dSGkGIqZF2"
      }
    },
    {
      "cell_type": "markdown",
      "source": [
        "### *c. Distance Customers-Vendors (IMPORTANT)*"
      ],
      "metadata": {
        "id": "yT2LQxtWqeCE"
      }
    },
    {
      "cell_type": "code",
      "source": [
        "location_cust.columns"
      ],
      "metadata": {
        "colab": {
          "base_uri": "https://localhost:8080/"
        },
        "id": "w_AcyY_WWGSh",
        "outputId": "48333683-34e9-400b-848e-b4c713153f85"
      },
      "execution_count": 17,
      "outputs": [
        {
          "output_type": "execute_result",
          "data": {
            "text/plain": [
              "Index(['vendor', 'latitude', 'longitude', 'ven_lat', 'ven_lon', 'geometry'], dtype='object')"
            ]
          },
          "metadata": {},
          "execution_count": 17
        }
      ]
    },
    {
      "cell_type": "code",
      "source": [
        "import haversine\n",
        "from haversine import haversine_vector, Unit\n",
        "\n",
        "dist = []\n",
        "location_cust.dropna(inplace=True)\n",
        "for i in location_cust.values:\n",
        "    a = (i[1], i[2])\n",
        "    b = (i[3], i[4])\n",
        "    dist.append(haversine_vector([a], [b], Unit.KILOMETERS)[0])\n",
        "\n",
        "location_cust['distance'] = dist\n",
        "location_cust.head(2)"
      ],
      "metadata": {
        "colab": {
          "base_uri": "https://localhost:8080/",
          "height": 112
        },
        "id": "Voj0sZmhW1ru",
        "outputId": "e7ba2452-9381-4f26-a9cc-c631ddb57854"
      },
      "execution_count": 18,
      "outputs": [
        {
          "output_type": "execute_result",
          "data": {
            "text/plain": [
              "   vendor  latitude  longitude   ven_lat   ven_lon                  geometry  \\\n",
              "0   105.0 -0.132100 -78.575297 -0.967769  0.080839  POINT (0.08084 -0.96777)   \n",
              "1   105.0 -0.760509 -78.501031 -0.967769  0.080839  POINT (0.08084 -0.96777)   \n",
              "\n",
              "      distance  \n",
              "0  8746.108027  \n",
              "1  8736.757038  "
            ],
            "text/html": [
              "\n",
              "  <div id=\"df-b424170d-6d5b-4d8d-9d65-8052b92cd11c\">\n",
              "    <div class=\"colab-df-container\">\n",
              "      <div>\n",
              "<style scoped>\n",
              "    .dataframe tbody tr th:only-of-type {\n",
              "        vertical-align: middle;\n",
              "    }\n",
              "\n",
              "    .dataframe tbody tr th {\n",
              "        vertical-align: top;\n",
              "    }\n",
              "\n",
              "    .dataframe thead th {\n",
              "        text-align: right;\n",
              "    }\n",
              "</style>\n",
              "<table border=\"1\" class=\"dataframe\">\n",
              "  <thead>\n",
              "    <tr style=\"text-align: right;\">\n",
              "      <th></th>\n",
              "      <th>vendor</th>\n",
              "      <th>latitude</th>\n",
              "      <th>longitude</th>\n",
              "      <th>ven_lat</th>\n",
              "      <th>ven_lon</th>\n",
              "      <th>geometry</th>\n",
              "      <th>distance</th>\n",
              "    </tr>\n",
              "  </thead>\n",
              "  <tbody>\n",
              "    <tr>\n",
              "      <th>0</th>\n",
              "      <td>105.0</td>\n",
              "      <td>-0.132100</td>\n",
              "      <td>-78.575297</td>\n",
              "      <td>-0.967769</td>\n",
              "      <td>0.080839</td>\n",
              "      <td>POINT (0.08084 -0.96777)</td>\n",
              "      <td>8746.108027</td>\n",
              "    </tr>\n",
              "    <tr>\n",
              "      <th>1</th>\n",
              "      <td>105.0</td>\n",
              "      <td>-0.760509</td>\n",
              "      <td>-78.501031</td>\n",
              "      <td>-0.967769</td>\n",
              "      <td>0.080839</td>\n",
              "      <td>POINT (0.08084 -0.96777)</td>\n",
              "      <td>8736.757038</td>\n",
              "    </tr>\n",
              "  </tbody>\n",
              "</table>\n",
              "</div>\n",
              "      <button class=\"colab-df-convert\" onclick=\"convertToInteractive('df-b424170d-6d5b-4d8d-9d65-8052b92cd11c')\"\n",
              "              title=\"Convert this dataframe to an interactive table.\"\n",
              "              style=\"display:none;\">\n",
              "        \n",
              "  <svg xmlns=\"http://www.w3.org/2000/svg\" height=\"24px\"viewBox=\"0 0 24 24\"\n",
              "       width=\"24px\">\n",
              "    <path d=\"M0 0h24v24H0V0z\" fill=\"none\"/>\n",
              "    <path d=\"M18.56 5.44l.94 2.06.94-2.06 2.06-.94-2.06-.94-.94-2.06-.94 2.06-2.06.94zm-11 1L8.5 8.5l.94-2.06 2.06-.94-2.06-.94L8.5 2.5l-.94 2.06-2.06.94zm10 10l.94 2.06.94-2.06 2.06-.94-2.06-.94-.94-2.06-.94 2.06-2.06.94z\"/><path d=\"M17.41 7.96l-1.37-1.37c-.4-.4-.92-.59-1.43-.59-.52 0-1.04.2-1.43.59L10.3 9.45l-7.72 7.72c-.78.78-.78 2.05 0 2.83L4 21.41c.39.39.9.59 1.41.59.51 0 1.02-.2 1.41-.59l7.78-7.78 2.81-2.81c.8-.78.8-2.07 0-2.86zM5.41 20L4 18.59l7.72-7.72 1.47 1.35L5.41 20z\"/>\n",
              "  </svg>\n",
              "      </button>\n",
              "      \n",
              "  <style>\n",
              "    .colab-df-container {\n",
              "      display:flex;\n",
              "      flex-wrap:wrap;\n",
              "      gap: 12px;\n",
              "    }\n",
              "\n",
              "    .colab-df-convert {\n",
              "      background-color: #E8F0FE;\n",
              "      border: none;\n",
              "      border-radius: 50%;\n",
              "      cursor: pointer;\n",
              "      display: none;\n",
              "      fill: #1967D2;\n",
              "      height: 32px;\n",
              "      padding: 0 0 0 0;\n",
              "      width: 32px;\n",
              "    }\n",
              "\n",
              "    .colab-df-convert:hover {\n",
              "      background-color: #E2EBFA;\n",
              "      box-shadow: 0px 1px 2px rgba(60, 64, 67, 0.3), 0px 1px 3px 1px rgba(60, 64, 67, 0.15);\n",
              "      fill: #174EA6;\n",
              "    }\n",
              "\n",
              "    [theme=dark] .colab-df-convert {\n",
              "      background-color: #3B4455;\n",
              "      fill: #D2E3FC;\n",
              "    }\n",
              "\n",
              "    [theme=dark] .colab-df-convert:hover {\n",
              "      background-color: #434B5C;\n",
              "      box-shadow: 0px 1px 3px 1px rgba(0, 0, 0, 0.15);\n",
              "      filter: drop-shadow(0px 1px 2px rgba(0, 0, 0, 0.3));\n",
              "      fill: #FFFFFF;\n",
              "    }\n",
              "  </style>\n",
              "\n",
              "      <script>\n",
              "        const buttonEl =\n",
              "          document.querySelector('#df-b424170d-6d5b-4d8d-9d65-8052b92cd11c button.colab-df-convert');\n",
              "        buttonEl.style.display =\n",
              "          google.colab.kernel.accessAllowed ? 'block' : 'none';\n",
              "\n",
              "        async function convertToInteractive(key) {\n",
              "          const element = document.querySelector('#df-b424170d-6d5b-4d8d-9d65-8052b92cd11c');\n",
              "          const dataTable =\n",
              "            await google.colab.kernel.invokeFunction('convertToInteractive',\n",
              "                                                     [key], {});\n",
              "          if (!dataTable) return;\n",
              "\n",
              "          const docLinkHtml = 'Like what you see? Visit the ' +\n",
              "            '<a target=\"_blank\" href=https://colab.research.google.com/notebooks/data_table.ipynb>data table notebook</a>'\n",
              "            + ' to learn more about interactive tables.';\n",
              "          element.innerHTML = '';\n",
              "          dataTable['output_type'] = 'display_data';\n",
              "          await google.colab.output.renderOutput(dataTable, element);\n",
              "          const docLink = document.createElement('div');\n",
              "          docLink.innerHTML = docLinkHtml;\n",
              "          element.appendChild(docLink);\n",
              "        }\n",
              "      </script>\n",
              "    </div>\n",
              "  </div>\n",
              "  "
            ]
          },
          "metadata": {},
          "execution_count": 18
        }
      ]
    },
    {
      "cell_type": "code",
      "source": [
        "fig, ax = plt.subplots(figsize=(10, 10))\n",
        "sns.scatterplot(data=location_cust, x=\"distance\", y=location_cust.index, cmap='blue', size=100)\n",
        "plt.title(\"DISTANCE OF CUSTOMER-VENDOR\")"
      ],
      "metadata": {
        "colab": {
          "base_uri": "https://localhost:8080/",
          "height": 638
        },
        "id": "Y5roOvefrAnp",
        "outputId": "0ef9cd5e-2190-4b49-ee02-c120a7da2fa7"
      },
      "execution_count": 19,
      "outputs": [
        {
          "output_type": "execute_result",
          "data": {
            "text/plain": [
              "Text(0.5, 1.0, 'DISTANCE OF CUSTOMER-VENDOR')"
            ]
          },
          "metadata": {},
          "execution_count": 19
        },
        {
          "output_type": "display_data",
          "data": {
            "text/plain": [
              "<Figure size 720x720 with 1 Axes>"
            ],
            "image/png": "[encoded data removed]"
          },
          "metadata": {
            "needs_background": "light"
          }
        }
      ]
    },
    {
      "cell_type": "markdown",
      "source": [
        "**PLOT SUMMARY:**\n",
        "\n",
        "1. There are 2 seperate regions, first those ordered from South America whose distances are around 8000 km and second who ordered from Africa whose distances are under 500 km. Also vendor with id's less than 200 are most favorites.\n",
        "\n",
        "2. Customers prefer ordering from vendors in 500 km range most in Africa and when you are in South America it is in range 8000km.\n",
        "\n",
        "3. But why people having distance of more than 8000 are shown, because travelling to a different continent for restaurant is quite different."
      ],
      "metadata": {
        "id": "wqPuuhJHrinY"
      }
    },
    {
      "cell_type": "markdown",
      "source": [
        "## *Vendors Category (LESS IMPORTANT)*"
      ],
      "metadata": {
        "id": "xFfG7Rebr-lm"
      }
    },
    {
      "cell_type": "code",
      "source": [
        "# there are only 2 categories seen and most of them were restaurants\n",
        "final['vendor_category_en'].value_counts()"
      ],
      "metadata": {
        "colab": {
          "base_uri": "https://localhost:8080/"
        },
        "id": "DqbY1fUQsLm5",
        "outputId": "bbaec967-47aa-4d92-96f9-74bfe3c2dc7a"
      },
      "execution_count": 20,
      "outputs": [
        {
          "output_type": "execute_result",
          "data": {
            "text/plain": [
              "Restaurants       70854\n",
              "Sweets & Bakes     9301\n",
              "Name: vendor_category_en, dtype: int64"
            ]
          },
          "metadata": {},
          "execution_count": 20
        }
      ]
    },
    {
      "cell_type": "code",
      "source": [
        "fig, ax = plt.subplots()\n",
        "final['vendor_category_en'].value_counts().plot(ax=ax, kind='bar', figsize=(10, 5), cmap='Set2')\n",
        "plt.xlabel('VENDOR CATEGORY'); plt.ylabel('FREQUENCY OF CATEGORIES'); plt.title(\"VENDOR CATEGORY FREQUENCIES\")\n",
        "plt.xticks(rotation = 0); ax.legend()"
      ],
      "metadata": {
        "colab": {
          "base_uri": "https://localhost:8080/",
          "height": 367
        },
        "id": "pL8mbSBcsOf_",
        "outputId": "597fe321-88aa-4149-f6a2-b7955958b7c6"
      },
      "execution_count": 21,
      "outputs": [
        {
          "output_type": "execute_result",
          "data": {
            "text/plain": [
              "<matplotlib.legend.Legend at 0x7f7d89036750>"
            ]
          },
          "metadata": {},
          "execution_count": 21
        },
        {
          "output_type": "display_data",
          "data": {
            "text/plain": [
              "<Figure size 720x360 with 1 Axes>"
            ],
            "image/png": "[encoded data removed]"
          },
          "metadata": {
            "needs_background": "light"
          }
        }
      ]
    },
    {
      "cell_type": "markdown",
      "source": [
        "**PLOT SUMMARY:**\n",
        "\n",
        "1. There are only 2 broad categories. restaurants and sweets and bakes.\n",
        "\n",
        "2. Most vendors are from restaurant category and 20k are from sweets and bakes.category is not a much important feature for recommendation it seems.\n",
        "\n"
      ],
      "metadata": {
        "id": "RVFdJpCqsZLS"
      }
    },
    {
      "cell_type": "markdown",
      "source": [
        "##*Delivery Charge Analysis (LESS IMPORTANT)*"
      ],
      "metadata": {
        "id": "BYZPJzeysrsk"
      }
    },
    {
      "cell_type": "code",
      "source": [
        "final['delivery_charge'].value_counts()"
      ],
      "metadata": {
        "colab": {
          "base_uri": "https://localhost:8080/"
        },
        "id": "wW5pDdMRsvpF",
        "outputId": "948ba2d3-3e0e-451e-8bf3-876a94a111f2"
      },
      "execution_count": 22,
      "outputs": [
        {
          "output_type": "execute_result",
          "data": {
            "text/plain": [
              "0.0    40369\n",
              "0.7    39786\n",
              "Name: delivery_charge, dtype: int64"
            ]
          },
          "metadata": {},
          "execution_count": 22
        }
      ]
    },
    {
      "cell_type": "markdown",
      "source": [
        "**PLOT SUMMARY:**\n",
        "\n",
        "1.In the presense of delivery charge (0.7) and no delivery charge (0.0), there are almost same numbers of orders and it dosen't affect the orders.\n",
        "2.This feature is not important for us in this recommendation."
      ],
      "metadata": {
        "id": "2pDI7omRs4xv"
      }
    },
    {
      "cell_type": "markdown",
      "source": [
        "##*Frequency*"
      ],
      "metadata": {
        "id": "pwLew66K6V39"
      }
    },
    {
      "cell_type": "markdown",
      "source": [
        "###*a. Frequency - Vendor Rating (IMPORTANT)*"
      ],
      "metadata": {
        "id": "SBBvWZKltL0v"
      }
    },
    {
      "cell_type": "code",
      "source": [
        "final['vendor_rating'].value_counts()"
      ],
      "metadata": {
        "colab": {
          "base_uri": "https://localhost:8080/"
        },
        "id": "UyCQyyncs29G",
        "outputId": "9620099c-a7e1-4080-f3a1-39f600e7dfdd"
      },
      "execution_count": 23,
      "outputs": [
        {
          "output_type": "execute_result",
          "data": {
            "text/plain": [
              "4.5    17809\n",
              "4.3    14867\n",
              "4.2    11784\n",
              "4.4    11102\n",
              "4.7     7471\n",
              "4.6     7462\n",
              "4.1     3786\n",
              "4.0     2854\n",
              "3.8      959\n",
              "3.2      880\n",
              "4.8      750\n",
              "3.7      431\n",
              "Name: vendor_rating, dtype: int64"
            ]
          },
          "metadata": {},
          "execution_count": 23
        }
      ]
    },
    {
      "cell_type": "code",
      "source": [
        "fig, ax = plt.subplots()\n",
        "final['vendor_rating'].value_counts().plot(ax=ax, kind='bar', figsize=(10, 5), cmap='Set2')\n",
        "plt.xlabel('VENDOR RATINGS'); plt.ylabel('FREQUENCY OF VENDORS RATINGS'); plt.title(\"FREQUENCY OF VENDORS RATINGS CHOSEN BY CUSTOMERS\")\n",
        "plt.xticks(rotation = 0); ax.legend()"
      ],
      "metadata": {
        "colab": {
          "base_uri": "https://localhost:8080/",
          "height": 367
        },
        "id": "eWHmgSbetSvx",
        "outputId": "979151e9-c124-4c8c-942e-1572887be161"
      },
      "execution_count": 24,
      "outputs": [
        {
          "output_type": "execute_result",
          "data": {
            "text/plain": [
              "<matplotlib.legend.Legend at 0x7f7d89162cd0>"
            ]
          },
          "metadata": {},
          "execution_count": 24
        },
        {
          "output_type": "display_data",
          "data": {
            "text/plain": [
              "<Figure size 720x360 with 1 Axes>"
            ],
            "image/png": "[encoded data removed]"
          },
          "metadata": {
            "needs_background": "light"
          }
        }
      ]
    },
    {
      "cell_type": "markdown",
      "source": [
        "**PLOT SUMMARY:**\n",
        "\n",
        "1. Most of the customers have ordered from the vendors with vendor ratings greater than 4.0.\n",
        "\n",
        "2. If ratings are near to 5, chances of ordering is high and that's why rating is very important tool for use."
      ],
      "metadata": {
        "id": "edWmBDM-tbYb"
      }
    },
    {
      "cell_type": "markdown",
      "source": [
        "###*b. Frequency - Serving Distance (IMPORTANT)*"
      ],
      "metadata": {
        "id": "wcDhM655tlJe"
      }
    },
    {
      "cell_type": "code",
      "source": [
        "fig, ax = plt.subplots()\n",
        "final['serving_distance'].value_counts().plot(ax=ax, kind='bar',figsize=(10,5), cmap='Set2')\n",
        "plt.xlabel('SERVING DISTANCE'); plt.ylabel('FREQUNECY OF CUSTOMERS'); plt.title(\"FREQUENCY OF SERVING DISTANCE OF VENDORS CHOSEN BY CUSTOMERS\")\n",
        "plt.xticks(rotation=0); ax.legend()"
      ],
      "metadata": {
        "colab": {
          "base_uri": "https://localhost:8080/",
          "height": 367
        },
        "id": "0yOl1gnktaOH",
        "outputId": "303c3aeb-b288-4087-aac6-474733b8036e"
      },
      "execution_count": 25,
      "outputs": [
        {
          "output_type": "execute_result",
          "data": {
            "text/plain": [
              "<matplotlib.legend.Legend at 0x7f7d89352350>"
            ]
          },
          "metadata": {},
          "execution_count": 25
        },
        {
          "output_type": "display_data",
          "data": {
            "text/plain": [
              "<Figure size 720x360 with 1 Axes>"
            ],
            "image/png": "[encoded data removed]"
          },
          "metadata": {
            "needs_background": "light"
          }
        }
      ]
    },
    {
      "cell_type": "markdown",
      "source": [
        "**PLOT SUMMARY:**\n",
        "\n",
        "1. If the vendor has a serving distance of 15, chances are high that the customer will have an order.\n",
        "\n",
        "2. This feature is important for making recommendation."
      ],
      "metadata": {
        "id": "JAtbENKItz5D"
      }
    },
    {
      "cell_type": "markdown",
      "source": [
        "###*c. Frequency - Is Vendor Open (IMPORTANT)*"
      ],
      "metadata": {
        "id": "h6cRFrvH2FC8"
      }
    },
    {
      "cell_type": "code",
      "source": [
        "fig, ax = plt.subplots()\n",
        "final['is_open'].value_counts().plot(ax=ax, kind='bar',figsize=(10,5), cmap='Set2')\n",
        "plt.xlabel('IS OPEN OR NOT'); plt.ylabel('FREQUENCY OF CUSTOMERS'); plt.title(\"FREQUENCY OF ORDERS VS IF VENDOR IS OPEN/NOT OPEN\")\n",
        "plt.xticks(rotation=0); ax.legend()"
      ],
      "metadata": {
        "colab": {
          "base_uri": "https://localhost:8080/",
          "height": 367
        },
        "id": "drOMK4jx12v0",
        "outputId": "51d997ac-9b25-4fdd-c02d-ef43bfa42e38"
      },
      "execution_count": 26,
      "outputs": [
        {
          "output_type": "execute_result",
          "data": {
            "text/plain": [
              "<matplotlib.legend.Legend at 0x7f7d89502490>"
            ]
          },
          "metadata": {},
          "execution_count": 26
        },
        {
          "output_type": "display_data",
          "data": {
            "text/plain": [
              "<Figure size 720x360 with 1 Axes>"
            ],
            "image/png": "[encoded data removed]"
          },
          "metadata": {
            "needs_background": "light"
          }
        }
      ]
    },
    {
      "cell_type": "markdown",
      "source": [
        "**PLOT SUMMARY:**\n",
        "\n",
        "1. If it's open then high chance is there but even if it is not open, there are 10000 orders made, that is quite an anomaly.\n",
        "\n",
        "2. Hence this feature is useful to some extent for our recommendations."
      ],
      "metadata": {
        "id": "jcaIlmPx2oP_"
      }
    },
    {
      "cell_type": "markdown",
      "source": [
        "###*d. Frequency - Vendor Prepration Time (IMPORTANT)*"
      ],
      "metadata": {
        "id": "YMqDGEE123uB"
      }
    },
    {
      "cell_type": "code",
      "source": [
        "fig, ax = plt.subplots()\n",
        "final['prepration_time'].value_counts().plot(ax=ax, kind='bar', figsize=(10,5), cmap='Set2')\n",
        "plt.xlabel('PREPARATION TIME'); plt.ylabel('FREQUENCY OF CUSTOMER ORDERS'); plt.title(\"FREQUENCY OF ORDERS VS PREPARATION TIME OF VENDORS\")\n",
        "plt.xticks(rotation=0); ax.legend()"
      ],
      "metadata": {
        "colab": {
          "base_uri": "https://localhost:8080/",
          "height": 367
        },
        "id": "oqd5qlRI2zGY",
        "outputId": "d317175a-836b-4fec-9e10-528235e417e8"
      },
      "execution_count": 27,
      "outputs": [
        {
          "output_type": "execute_result",
          "data": {
            "text/plain": [
              "<matplotlib.legend.Legend at 0x7f7d89717250>"
            ]
          },
          "metadata": {},
          "execution_count": 27
        },
        {
          "output_type": "display_data",
          "data": {
            "text/plain": [
              "<Figure size 720x360 with 1 Axes>"
            ],
            "image/png": "[encoded data removed]"
          },
          "metadata": {
            "needs_background": "light"
          }
        }
      ]
    },
    {
      "cell_type": "markdown",
      "source": [
        "**PLOT SUMMARY:**\n",
        "\n",
        "1. We can see that standard time 10 and 15 mins are highly appreciated but also if the time is under 5, there are less orders. So it can depend on orders and type of orders.\n",
        "\n",
        "2. So this feature can be useful if and if only type of orders taken into account otherwise confusing."
      ],
      "metadata": {
        "id": "5g3gmUPo3DUn"
      }
    },
    {
      "cell_type": "markdown",
      "source": [
        "###*e. Frequency - Vendor with One Click (LESS IMPORTANT)*"
      ],
      "metadata": {
        "id": "G0KgIGhZ3bg1"
      }
    },
    {
      "cell_type": "code",
      "source": [
        "fig, ax = plt.subplots()\n",
        "final['one_click_vendor'].value_counts().plot(ax=ax, kind='bar', figsize=(10,5), cmap='Set2')\n",
        "plt.xlabel('ONE CLICK VENDORS'); plt.ylabel('FREQUENCY OF VENDORS IF THEY ARE ONE_CLICKED'); plt.title(\"FREQUENCY OF VENDORS WITH ONE CLICK OR NOT\")\n",
        "plt.xticks(rotation=0); ax.legend()"
      ],
      "metadata": {
        "colab": {
          "base_uri": "https://localhost:8080/",
          "height": 367
        },
        "id": "9073Xpqo3Qj6",
        "outputId": "088cc26d-c0e9-4ff3-c861-260b463d7291"
      },
      "execution_count": 28,
      "outputs": [
        {
          "output_type": "execute_result",
          "data": {
            "text/plain": [
              "<matplotlib.legend.Legend at 0x7f7d89911290>"
            ]
          },
          "metadata": {},
          "execution_count": 28
        },
        {
          "output_type": "display_data",
          "data": {
            "text/plain": [
              "<Figure size 720x360 with 1 Axes>"
            ],
            "image/png": "[encoded data removed]"
          },
          "metadata": {
            "needs_background": "light"
          }
        }
      ]
    },
    {
      "cell_type": "markdown",
      "source": [
        "**PLOT SUMMARY**\n",
        "1. All the customers have chosen vendors with one_click service enables, this feature is not useful for our recommendation."
      ],
      "metadata": {
        "id": "I1ZN1qCh6y_Z"
      }
    },
    {
      "cell_type": "markdown",
      "source": [
        "### *f. Frequency - Customer Gender (LESS IMPORTANT)*"
      ],
      "metadata": {
        "id": "QYtvyH3h7BGj"
      }
    },
    {
      "cell_type": "code",
      "source": [
        "fig, ax = plt.subplots()\n",
        "final.gender = final.gender.str.replace('male', 'Male')\n",
        "final.gender = final['gender'].dropna()\n",
        "final = final[(final.gender == \"Male\") | (final.gender == \"FeMale\")]\n",
        "final['gender'].value_counts().plot(ax=ax, kind='bar', figsize=(10,5), cmap='Set2')\n",
        "plt.xlabel('GENDER'); plt.ylabel('FREQUENCY OF ORDERS'); plt.title(\"GENDER OF CUSTOMERS WHO MADE ORDERS\")\n",
        "plt.xticks(rotation=0); ax.legend()"
      ],
      "metadata": {
        "colab": {
          "base_uri": "https://localhost:8080/",
          "height": 367
        },
        "id": "cA0DlUZq6_nU",
        "outputId": "dcddacc2-e5fa-48f7-c1b3-00e62bc0ea27"
      },
      "execution_count": 29,
      "outputs": [
        {
          "output_type": "execute_result",
          "data": {
            "text/plain": [
              "<matplotlib.legend.Legend at 0x7f7d89a68f10>"
            ]
          },
          "metadata": {},
          "execution_count": 29
        },
        {
          "output_type": "display_data",
          "data": {
            "text/plain": [
              "<Figure size 720x360 with 1 Axes>"
            ],
            "image/png": "[encoded data removed]"
          },
          "metadata": {
            "needs_background": "light"
          }
        }
      ]
    },
    {
      "cell_type": "markdown",
      "source": [
        "**PLOT SUMMARY**\n",
        "\n",
        "1. As we can see there are 70k, around 80% of the customers as male and 10k as female. This can be a good feature but not to great extent."
      ],
      "metadata": {
        "id": "iyVQGdk47Xdp"
      }
    },
    {
      "cell_type": "markdown",
      "source": [
        "### *g. Frequency - Subscription of Delivery (LESS IMPORTANT)*"
      ],
      "metadata": {
        "id": "SqoAhfiZ-xB-"
      }
    },
    {
      "cell_type": "code",
      "source": [
        "fig, ax = plt.subplots()\n",
        "final['is_akeed_delivering'].value_counts().plot(ax=ax, kind='bar',figsize=(10,5), cmap='Set2')\n",
        "plt.xlabel('IS AKEED SUBSCRIBED'); plt.ylabel('FREQUENCY OF VENDORS WITH AKEED SUBSCRIPTION'); plt.title(\"SUBSCRIPTION OF AKEED DELIVERIES\")\n",
        "plt.xticks(rotation=0); ax.legend()"
      ],
      "metadata": {
        "colab": {
          "base_uri": "https://localhost:8080/",
          "height": 367
        },
        "id": "q2JUbkle7UPX",
        "outputId": "7408d4bc-68cc-4f33-fb2d-03933fa890b9"
      },
      "execution_count": 30,
      "outputs": [
        {
          "output_type": "execute_result",
          "data": {
            "text/plain": [
              "<matplotlib.legend.Legend at 0x7f7d89bfe990>"
            ]
          },
          "metadata": {},
          "execution_count": 30
        },
        {
          "output_type": "display_data",
          "data": {
            "text/plain": [
              "<Figure size 720x360 with 1 Axes>"
            ],
            "image/png": "[encoded data removed]"
          },
          "metadata": {
            "needs_background": "light"
          }
        }
      ]
    },
    {
      "cell_type": "markdown",
      "source": [
        "**PLOT SUMMARY**\n",
        "\n",
        "1. As all the vendors are subscribed, this feature will not affect the recommendation.\n"
      ],
      "metadata": {
        "id": "eSptF2JB-2Nl"
      }
    },
    {
      "cell_type": "markdown",
      "source": [
        "#**2. Bivariate Analysis**"
      ],
      "metadata": {
        "id": "zis3zYhZ_luW"
      }
    },
    {
      "cell_type": "markdown",
      "source": [
        "## *Vendor vs Distance between Cust-Vendor*"
      ],
      "metadata": {
        "id": "BqhQcGYG68ii"
      }
    },
    {
      "cell_type": "code",
      "source": [
        "fig, ax = plt.subplots(figsize=(8,8))\n",
        "sns.scatterplot(data=location_cust, x=\"distance\", y='vendor', cmap= 'Set2')"
      ],
      "metadata": {
        "colab": {
          "base_uri": "https://localhost:8080/",
          "height": 514
        },
        "id": "ZJVtCqtd_6dC",
        "outputId": "8434ee2f-1ba9-4306-c1ba-eb139934378d"
      },
      "execution_count": 31,
      "outputs": [
        {
          "output_type": "execute_result",
          "data": {
            "text/plain": [
              "<matplotlib.axes._subplots.AxesSubplot at 0x7f7d89e30050>"
            ]
          },
          "metadata": {},
          "execution_count": 31
        },
        {
          "output_type": "display_data",
          "data": {
            "text/plain": [
              "<Figure size 576x576 with 1 Axes>"
            ],
            "image/png": "[encoded data removed]"
          },
          "metadata": {
            "needs_background": "light"
          }
        }
      ]
    },
    {
      "cell_type": "markdown",
      "source": [
        "**PLOT SUMMARY**\n",
        "\n",
        "1. This distance is between the customers (Home or Other) and the vendor location.\n",
        "\n",
        "2. This graph shows different clusters and also cluters than are at 2000 km, Here there are 2 different regions, first is people living in South America and second one in left are people living in Africa.\n",
        "\n",
        "3. Here we can conclude that vendor with id's less than 200 are more favorite for people in South America and for people in Africa, there is no such bond.\n",
        "\n",
        "4. Distance is a very useful feature to recommend the vendor."
      ],
      "metadata": {
        "id": "DrP4cpdbABLg"
      }
    },
    {
      "cell_type": "markdown",
      "source": [
        "##*Vendor Rating vs Customer*"
      ],
      "metadata": {
        "id": "ljJijDokAhK1"
      }
    },
    {
      "cell_type": "code",
      "source": [
        "fig, ax = plt.subplots(figsize=(8,8))\n",
        "sns.scatterplot(data=final, x=\"vendor_rating\", y='vendor_id', cmap='Set2')"
      ],
      "metadata": {
        "colab": {
          "base_uri": "https://localhost:8080/",
          "height": 515
        },
        "id": "gCH_qKCYAl0p",
        "outputId": "854e9040-be99-423b-eada-28462867321f"
      },
      "execution_count": 32,
      "outputs": [
        {
          "output_type": "execute_result",
          "data": {
            "text/plain": [
              "<matplotlib.axes._subplots.AxesSubplot at 0x7f7d89e73290>"
            ]
          },
          "metadata": {},
          "execution_count": 32
        },
        {
          "output_type": "display_data",
          "data": {
            "text/plain": [
              "<Figure size 576x576 with 1 Axes>"
            ],
            "image/png": "[encoded data removed]"
          },
          "metadata": {
            "needs_background": "light"
          }
        }
      ]
    },
    {
      "cell_type": "markdown",
      "source": [
        "**PLOT SUMMARY**\n",
        "\n",
        "1. The range starts from 3.7 to 5 and as close to 5, vendors are more chosen, so this also can be a good feature for recommendation after distance."
      ],
      "metadata": {
        "id": "BuaBbBoiBW2x"
      }
    },
    {
      "cell_type": "markdown",
      "source": [
        "#**3. Feature Engineering**"
      ],
      "metadata": {
        "id": "EjSsl5G4B-oR"
      }
    },
    {
      "cell_type": "markdown",
      "source": [
        "##*Checking Imputations*"
      ],
      "metadata": {
        "id": "T-XeD2qIXheD"
      }
    },
    {
      "cell_type": "code",
      "source": [
        "pip install dask['complete']"
      ],
      "metadata": {
        "colab": {
          "base_uri": "https://localhost:8080/",
          "height": 1000
        },
        "id": "GisL4WURyybx",
        "outputId": "7c9ce43d-a600-4229-c576-8e2902414825"
      },
      "execution_count": 33,
      "outputs": [
        {
          "output_type": "stream",
          "name": "stdout",
          "text": [
            "Looking in indexes: https://pypi.org/simple, https://us-python.pkg.dev/colab-wheels/public/simple/\n",
            "Requirement already satisfied: dask[complete] in /usr/local/lib/python3.7/dist-packages (2.12.0)\n",
            "Collecting fsspec>=0.6.0\n",
            "  Downloading fsspec-2022.5.0-py3-none-any.whl (140 kB)\n",
            "\u001b[K     |████████████████████████████████| 140 kB 12.6 MB/s \n",
            "\u001b[?25hRequirement already satisfied: numpy>=1.13.0 in /usr/local/lib/python3.7/dist-packages (from dask[complete]) (1.21.6)\n",
            "Collecting partd>=0.3.10\n",
            "  Downloading partd-1.2.0-py3-none-any.whl (19 kB)\n",
            "Requirement already satisfied: toolz>=0.7.3 in /usr/local/lib/python3.7/dist-packages (from dask[complete]) (0.11.2)\n",
            "Requirement already satisfied: pandas>=0.23.0 in /usr/local/lib/python3.7/dist-packages (from dask[complete]) (1.3.5)\n",
            "Requirement already satisfied: cloudpickle>=0.2.1 in /usr/local/lib/python3.7/dist-packages (from dask[complete]) (1.3.0)\n",
            "Requirement already satisfied: PyYaml in /usr/local/lib/python3.7/dist-packages (from dask[complete]) (3.13)\n",
            "Requirement already satisfied: bokeh>=1.0.0 in /usr/local/lib/python3.7/dist-packages (from dask[complete]) (2.3.3)\n",
            "Collecting distributed>=2.0\n",
            "  Downloading distributed-2022.2.0-py3-none-any.whl (837 kB)\n",
            "\u001b[K     |████████████████████████████████| 837 kB 31.5 MB/s \n",
            "\u001b[?25hRequirement already satisfied: packaging>=16.8 in /usr/local/lib/python3.7/dist-packages (from bokeh>=1.0.0->dask[complete]) (21.3)\n",
            "Requirement already satisfied: python-dateutil>=2.1 in /usr/local/lib/python3.7/dist-packages (from bokeh>=1.0.0->dask[complete]) (2.8.2)\n",
            "Requirement already satisfied: tornado>=5.1 in /usr/local/lib/python3.7/dist-packages (from bokeh>=1.0.0->dask[complete]) (5.1.1)\n",
            "Requirement already satisfied: pillow>=7.1.0 in /usr/local/lib/python3.7/dist-packages (from bokeh>=1.0.0->dask[complete]) (7.1.2)\n",
            "Requirement already satisfied: typing-extensions>=3.7.4 in /usr/local/lib/python3.7/dist-packages (from bokeh>=1.0.0->dask[complete]) (4.2.0)\n",
            "Requirement already satisfied: Jinja2>=2.9 in /usr/local/lib/python3.7/dist-packages (from bokeh>=1.0.0->dask[complete]) (2.11.3)\n",
            "Requirement already satisfied: psutil>=5.0 in /usr/local/lib/python3.7/dist-packages (from distributed>=2.0->dask[complete]) (5.4.8)\n",
            "Requirement already satisfied: tblib>=1.6.0 in /usr/local/lib/python3.7/dist-packages (from distributed>=2.0->dask[complete]) (1.7.0)\n",
            "Requirement already satisfied: click>=6.6 in /usr/local/lib/python3.7/dist-packages (from distributed>=2.0->dask[complete]) (7.1.2)\n",
            "Requirement already satisfied: sortedcontainers!=2.0.0,!=2.0.1 in /usr/local/lib/python3.7/dist-packages (from distributed>=2.0->dask[complete]) (2.4.0)\n",
            "Requirement already satisfied: setuptools in /usr/local/lib/python3.7/dist-packages (from distributed>=2.0->dask[complete]) (57.4.0)\n",
            "Requirement already satisfied: msgpack>=0.6.0 in /usr/local/lib/python3.7/dist-packages (from distributed>=2.0->dask[complete]) (1.0.3)\n",
            "Requirement already satisfied: zict>=0.1.3 in /usr/local/lib/python3.7/dist-packages (from distributed>=2.0->dask[complete]) (2.2.0)\n",
            "  Downloading distributed-2022.1.1-py3-none-any.whl (830 kB)\n",
            "\u001b[K     |████████████████████████████████| 830 kB 30.8 MB/s \n",
            "\u001b[?25h  Downloading distributed-2022.1.0-py3-none-any.whl (822 kB)\n",
            "\u001b[K     |████████████████████████████████| 822 kB 35.0 MB/s \n",
            "\u001b[?25h  Downloading distributed-2021.12.0-py3-none-any.whl (802 kB)\n",
            "\u001b[K     |████████████████████████████████| 802 kB 10.4 MB/s \n",
            "\u001b[?25h  Downloading distributed-2021.11.2-py3-none-any.whl (802 kB)\n",
            "\u001b[K     |████████████████████████████████| 802 kB 41.0 MB/s \n",
            "\u001b[?25h  Downloading distributed-2021.11.1-py3-none-any.whl (793 kB)\n",
            "\u001b[K     |████████████████████████████████| 793 kB 35.1 MB/s \n",
            "\u001b[?25hCollecting cloudpickle>=0.2.1\n",
            "  Downloading cloudpickle-2.1.0-py3-none-any.whl (25 kB)\n",
            "Collecting distributed>=2.0\n",
            "  Downloading distributed-2021.11.0-py3-none-any.whl (793 kB)\n",
            "\u001b[K     |████████████████████████████████| 793 kB 33.4 MB/s \n",
            "\u001b[?25h  Downloading distributed-2021.10.0-py3-none-any.whl (791 kB)\n",
            "\u001b[K     |████████████████████████████████| 791 kB 13.0 MB/s \n",
            "\u001b[?25h  Downloading distributed-2021.9.1-py3-none-any.whl (786 kB)\n",
            "\u001b[K     |████████████████████████████████| 786 kB 33.5 MB/s \n",
            "\u001b[?25h  Downloading distributed-2021.9.0-py3-none-any.whl (779 kB)\n",
            "\u001b[K     |████████████████████████████████| 779 kB 43.2 MB/s \n",
            "\u001b[?25h  Downloading distributed-2021.8.1-py3-none-any.whl (778 kB)\n",
            "\u001b[K     |████████████████████████████████| 778 kB 10.9 MB/s \n",
            "\u001b[?25h  Downloading distributed-2021.8.0-py3-none-any.whl (776 kB)\n",
            "\u001b[K     |████████████████████████████████| 776 kB 37.5 MB/s \n",
            "\u001b[?25h  Downloading distributed-2021.7.2-py3-none-any.whl (769 kB)\n",
            "\u001b[K     |████████████████████████████████| 769 kB 38.4 MB/s \n",
            "\u001b[?25h  Downloading distributed-2021.7.1-py3-none-any.whl (766 kB)\n",
            "\u001b[K     |████████████████████████████████| 766 kB 36.0 MB/s \n",
            "\u001b[?25h  Downloading distributed-2021.7.0-py3-none-any.whl (1.0 MB)\n",
            "\u001b[K     |████████████████████████████████| 1.0 MB 32.8 MB/s \n",
            "\u001b[?25h  Downloading distributed-2021.6.2-py3-none-any.whl (722 kB)\n",
            "\u001b[K     |████████████████████████████████| 722 kB 37.1 MB/s \n",
            "\u001b[?25h  Downloading distributed-2021.6.1-py3-none-any.whl (722 kB)\n",
            "\u001b[K     |████████████████████████████████| 722 kB 38.6 MB/s \n",
            "\u001b[?25h  Downloading distributed-2021.6.0-py3-none-any.whl (715 kB)\n",
            "\u001b[K     |████████████████████████████████| 715 kB 41.0 MB/s \n",
            "\u001b[?25h  Downloading distributed-2021.5.1-py3-none-any.whl (705 kB)\n",
            "\u001b[K     |████████████████████████████████| 705 kB 42.3 MB/s \n",
            "\u001b[?25h  Downloading distributed-2021.5.0-py3-none-any.whl (699 kB)\n",
            "\u001b[K     |████████████████████████████████| 699 kB 39.4 MB/s \n",
            "\u001b[?25h  Downloading distributed-2021.4.1-py3-none-any.whl (696 kB)\n",
            "\u001b[K     |████████████████████████████████| 696 kB 41.5 MB/s \n",
            "\u001b[?25h  Downloading distributed-2021.4.0-py3-none-any.whl (684 kB)\n",
            "\u001b[K     |████████████████████████████████| 684 kB 33.8 MB/s \n",
            "\u001b[?25h  Downloading distributed-2021.3.1-py3-none-any.whl (679 kB)\n",
            "\u001b[K     |████████████████████████████████| 679 kB 44.1 MB/s \n",
            "\u001b[?25h  Downloading distributed-2021.3.0-py3-none-any.whl (675 kB)\n",
            "\u001b[K     |████████████████████████████████| 675 kB 53.3 MB/s \n",
            "\u001b[?25h  Downloading distributed-2021.2.0-py3-none-any.whl (675 kB)\n",
            "\u001b[K     |████████████████████████████████| 675 kB 13.9 MB/s \n",
            "\u001b[?25h  Downloading distributed-2021.1.1-py3-none-any.whl (672 kB)\n",
            "\u001b[K     |████████████████████████████████| 672 kB 42.1 MB/s \n",
            "\u001b[?25h  Downloading distributed-2021.1.0-py3-none-any.whl (671 kB)\n",
            "\u001b[K     |████████████████████████████████| 671 kB 39.2 MB/s \n",
            "\u001b[?25h  Downloading distributed-2020.12.0-py3-none-any.whl (669 kB)\n",
            "\u001b[K     |████████████████████████████████| 669 kB 38.0 MB/s \n",
            "\u001b[?25h  Downloading distributed-2.30.1-py3-none-any.whl (656 kB)\n",
            "\u001b[K     |████████████████████████████████| 656 kB 40.9 MB/s \n",
            "\u001b[?25hRequirement already satisfied: MarkupSafe>=0.23 in /usr/local/lib/python3.7/dist-packages (from Jinja2>=2.9->bokeh>=1.0.0->dask[complete]) (2.0.1)\n",
            "Requirement already satisfied: pyparsing!=3.0.5,>=2.0.2 in /usr/local/lib/python3.7/dist-packages (from packaging>=16.8->bokeh>=1.0.0->dask[complete]) (3.0.9)\n",
            "Requirement already satisfied: pytz>=2017.3 in /usr/local/lib/python3.7/dist-packages (from pandas>=0.23.0->dask[complete]) (2022.1)\n",
            "Collecting locket\n",
            "  Downloading locket-1.0.0-py2.py3-none-any.whl (4.4 kB)\n",
            "Requirement already satisfied: six>=1.5 in /usr/local/lib/python3.7/dist-packages (from python-dateutil>=2.1->bokeh>=1.0.0->dask[complete]) (1.15.0)\n",
            "Requirement already satisfied: heapdict in /usr/local/lib/python3.7/dist-packages (from zict>=0.1.3->distributed>=2.0->dask[complete]) (1.0.1)\n",
            "Installing collected packages: locket, cloudpickle, partd, fsspec, distributed\n",
            "  Attempting uninstall: cloudpickle\n",
            "    Found existing installation: cloudpickle 1.3.0\n",
            "    Uninstalling cloudpickle-1.3.0:\n",
            "      Successfully uninstalled cloudpickle-1.3.0\n",
            "  Attempting uninstall: distributed\n",
            "    Found existing installation: distributed 1.25.3\n",
            "    Uninstalling distributed-1.25.3:\n",
            "      Successfully uninstalled distributed-1.25.3\n",
            "\u001b[31mERROR: pip's dependency resolver does not currently take into account all the packages that are installed. This behaviour is the source of the following dependency conflicts.\n",
            "gym 0.17.3 requires cloudpickle<1.7.0,>=1.2.0, but you have cloudpickle 2.1.0 which is incompatible.\u001b[0m\n",
            "Successfully installed cloudpickle-2.1.0 distributed-2.30.1 fsspec-2022.5.0 locket-1.0.0 partd-1.2.0\n"
          ]
        },
        {
          "output_type": "display_data",
          "data": {
            "application/vnd.colab-display-data+json": {
              "pip_warning": {
                "packages": [
                  "cloudpickle"
                ]
              }
            }
          },
          "metadata": {}
        }
      ]
    },
    {
      "cell_type": "code",
      "source": [
        "import pandas as pd\n",
        "import dask.dataframe as dd\n",
        "from google.colab import drive\n",
        "drive.mount('/content/drive')\n",
        "\n",
        "data = dd.read_csv('/content/drive/MyDrive/Traveloka/train_full.csv')\n",
        "\n",
        "#removing columns that are not related\n",
        "train_df = data[['customer_id','gender','location_number','latitude_x',\\\n",
        "           'longitude_x','id','latitude_y','longitude_y','vendor_category_en','delivery_charge',\\\n",
        "           'serving_distance','is_open','prepration_time','vendor_rating','CID X LOC_NUM X VENDOR','target']]\n",
        "train_df.head(2)\n",
        "train_df = train_df.head(10000)"
      ],
      "metadata": {
        "id": "yOf84YZuGuE0",
        "colab": {
          "base_uri": "https://localhost:8080/"
        },
        "outputId": "2667525f-49a9-4020-9dbb-8a7d6c077f2c"
      },
      "execution_count": 34,
      "outputs": [
        {
          "output_type": "stream",
          "name": "stdout",
          "text": [
            "Drive already mounted at /content/drive; to attempt to forcibly remount, call drive.mount(\"/content/drive\", force_remount=True).\n"
          ]
        }
      ]
    },
    {
      "cell_type": "code",
      "source": [
        "# The target is a binary number that represent  \n",
        "# 1- (CID X LOC_NUM X VENDOR) customer with location number has ordered\n",
        "# 0- (CID X LOC_NUM X VENDOR) customer with location number has not ordered\n",
        "len(train_df.target)"
      ],
      "metadata": {
        "id": "ygp-5rxhXIFu",
        "colab": {
          "base_uri": "https://localhost:8080/"
        },
        "outputId": "faa26311-9d13-4958-ff0e-75f7af6ce8cb"
      },
      "execution_count": 35,
      "outputs": [
        {
          "output_type": "execute_result",
          "data": {
            "text/plain": [
              "10000"
            ]
          },
          "metadata": {},
          "execution_count": 35
        }
      ]
    },
    {
      "cell_type": "code",
      "source": [
        "# First we will remove those columns which contains more than 25% of null values:\n",
        "train_df = train_df[train_df.columns[train_df.isnull().mean() < (1-0.25)]]\n",
        "len(train_df.target)"
      ],
      "metadata": {
        "id": "09kljk08XKKW",
        "colab": {
          "base_uri": "https://localhost:8080/"
        },
        "outputId": "6708288c-e728-4af0-93b6-8cfbf1fed06f"
      },
      "execution_count": 36,
      "outputs": [
        {
          "output_type": "execute_result",
          "data": {
            "text/plain": [
              "10000"
            ]
          },
          "metadata": {},
          "execution_count": 36
        }
      ]
    },
    {
      "cell_type": "code",
      "source": [
        "# We will remove all rows by checking null values column wise, that is to be greater than 70 to stay, otherwise will be removed.\n",
        "train_df=train_df.loc[train_df.isnull().mean(axis=1) < (1-0.3)]\n",
        "len(train_df.target)"
      ],
      "metadata": {
        "id": "7VRYveiCXND6",
        "colab": {
          "base_uri": "https://localhost:8080/"
        },
        "outputId": "cb66cc62-0c8b-4f9b-d538-bbd3af4c2763"
      },
      "execution_count": 37,
      "outputs": [
        {
          "output_type": "execute_result",
          "data": {
            "text/plain": [
              "10000"
            ]
          },
          "metadata": {},
          "execution_count": 37
        }
      ]
    },
    {
      "cell_type": "code",
      "source": [
        "# If there are missing values, impute it with medians\n",
        "train_df = train_df.fillna(train_df.median())"
      ],
      "metadata": {
        "id": "6tGkWzo0XPkd"
      },
      "execution_count": 38,
      "outputs": []
    },
    {
      "cell_type": "markdown",
      "source": [
        "##*Visualization of outliers and removal*\n",
        "\n",
        "* Latitude must be inside -90 < y < 90\n",
        "* Longitude must be inside -180 < x < 180 "
      ],
      "metadata": {
        "id": "m6ZAnKR0XRe1"
      }
    },
    {
      "cell_type": "code",
      "source": [
        "fig, ax = plt.subplots(2,2, figsize=(10,8))\n",
        "sns.kdeplot(data=train_df, x=\"latitude_x\", palette='Set2', ax = ax[0,0])\n",
        "sns.kdeplot(data=train_df, x=\"latitude_y\", palette='Set2', ax = ax[0,1])\n",
        "sns.kdeplot(data=train_df, x=\"longitude_x\", palette='Set2', ax = ax[1,0])\n",
        "sns.kdeplot(data=train_df, x=\"longitude_y\", palette='Set2', ax = ax[1,1])"
      ],
      "metadata": {
        "colab": {
          "base_uri": "https://localhost:8080/",
          "height": 515
        },
        "id": "ExSxv5i2FEme",
        "outputId": "197bf9f9-c094-4cb6-bf16-a63c9d46e407"
      },
      "execution_count": 39,
      "outputs": [
        {
          "output_type": "execute_result",
          "data": {
            "text/plain": [
              "<matplotlib.axes._subplots.AxesSubplot at 0x7f7d8aa37c50>"
            ]
          },
          "metadata": {},
          "execution_count": 39
        },
        {
          "output_type": "display_data",
          "data": {
            "text/plain": [
              "<Figure size 720x576 with 4 Axes>"
            ],
            "image/png": "[encoded data removed]"
          },
          "metadata": {
            "needs_background": "light"
          }
        }
      ]
    },
    {
      "cell_type": "code",
      "source": [
        "# Remove the customers & vendors with invalid latitude and longitude\n",
        "checked = train_df[(train_df['latitude_x'] < 90) & (train_df['latitude_x'] > -90)]\n",
        "checked1 = checked[(checked['latitude_y'] < 90) & (checked['latitude_y'] > -90)]\n",
        "checked2 = checked1[(checked1['longitude_x'] < 180) & (checked1['longitude_x'] > -180)]\n",
        "train_df = checked2[(checked2['longitude_y'] < 180) & (checked2['longitude_y'] > -180)]\n",
        "train_df.head(2)"
      ],
      "metadata": {
        "id": "TIpOMoxcXxxU",
        "colab": {
          "base_uri": "https://localhost:8080/",
          "height": 246
        },
        "outputId": "cb70f254-00d5-4191-b867-bbe5a65a555d"
      },
      "execution_count": 40,
      "outputs": [
        {
          "output_type": "execute_result",
          "data": {
            "text/plain": [
              "    customer_id gender  location_number  latitude_x  longitude_x  id  \\\n",
              "200     TCHWPBT   Male                2     -0.1287       -78.56   4   \n",
              "201     TCHWPBT   Male                2     -0.1287       -78.56  13   \n",
              "\n",
              "     latitude_y  longitude_y vendor_category_en  delivery_charge  \\\n",
              "200     -0.5884       0.7544        Restaurants              0.0   \n",
              "201     -0.4717       0.7446        Restaurants              0.7   \n",
              "\n",
              "     serving_distance  is_open  prepration_time  vendor_rating  \\\n",
              "200               6.0      1.0               15            4.4   \n",
              "201               5.0      1.0               14            4.7   \n",
              "\n",
              "    CID X LOC_NUM X VENDOR  target  \n",
              "200        TCHWPBT X 2 X 4       0  \n",
              "201       TCHWPBT X 2 X 13       0  "
            ],
            "text/html": [
              "\n",
              "  <div id=\"df-1251697e-546d-4dd8-baf2-5deb6042699f\">\n",
              "    <div class=\"colab-df-container\">\n",
              "      <div>\n",
              "<style scoped>\n",
              "    .dataframe tbody tr th:only-of-type {\n",
              "        vertical-align: middle;\n",
              "    }\n",
              "\n",
              "    .dataframe tbody tr th {\n",
              "        vertical-align: top;\n",
              "    }\n",
              "\n",
              "    .dataframe thead th {\n",
              "        text-align: right;\n",
              "    }\n",
              "</style>\n",
              "<table border=\"1\" class=\"dataframe\">\n",
              "  <thead>\n",
              "    <tr style=\"text-align: right;\">\n",
              "      <th></th>\n",
              "      <th>customer_id</th>\n",
              "      <th>gender</th>\n",
              "      <th>location_number</th>\n",
              "      <th>latitude_x</th>\n",
              "      <th>longitude_x</th>\n",
              "      <th>id</th>\n",
              "      <th>latitude_y</th>\n",
              "      <th>longitude_y</th>\n",
              "      <th>vendor_category_en</th>\n",
              "      <th>delivery_charge</th>\n",
              "      <th>serving_distance</th>\n",
              "      <th>is_open</th>\n",
              "      <th>prepration_time</th>\n",
              "      <th>vendor_rating</th>\n",
              "      <th>CID X LOC_NUM X VENDOR</th>\n",
              "      <th>target</th>\n",
              "    </tr>\n",
              "  </thead>\n",
              "  <tbody>\n",
              "    <tr>\n",
              "      <th>200</th>\n",
              "      <td>TCHWPBT</td>\n",
              "      <td>Male</td>\n",
              "      <td>2</td>\n",
              "      <td>-0.1287</td>\n",
              "      <td>-78.56</td>\n",
              "      <td>4</td>\n",
              "      <td>-0.5884</td>\n",
              "      <td>0.7544</td>\n",
              "      <td>Restaurants</td>\n",
              "      <td>0.0</td>\n",
              "      <td>6.0</td>\n",
              "      <td>1.0</td>\n",
              "      <td>15</td>\n",
              "      <td>4.4</td>\n",
              "      <td>TCHWPBT X 2 X 4</td>\n",
              "      <td>0</td>\n",
              "    </tr>\n",
              "    <tr>\n",
              "      <th>201</th>\n",
              "      <td>TCHWPBT</td>\n",
              "      <td>Male</td>\n",
              "      <td>2</td>\n",
              "      <td>-0.1287</td>\n",
              "      <td>-78.56</td>\n",
              "      <td>13</td>\n",
              "      <td>-0.4717</td>\n",
              "      <td>0.7446</td>\n",
              "      <td>Restaurants</td>\n",
              "      <td>0.7</td>\n",
              "      <td>5.0</td>\n",
              "      <td>1.0</td>\n",
              "      <td>14</td>\n",
              "      <td>4.7</td>\n",
              "      <td>TCHWPBT X 2 X 13</td>\n",
              "      <td>0</td>\n",
              "    </tr>\n",
              "  </tbody>\n",
              "</table>\n",
              "</div>\n",
              "      <button class=\"colab-df-convert\" onclick=\"convertToInteractive('df-1251697e-546d-4dd8-baf2-5deb6042699f')\"\n",
              "              title=\"Convert this dataframe to an interactive table.\"\n",
              "              style=\"display:none;\">\n",
              "        \n",
              "  <svg xmlns=\"http://www.w3.org/2000/svg\" height=\"24px\"viewBox=\"0 0 24 24\"\n",
              "       width=\"24px\">\n",
              "    <path d=\"M0 0h24v24H0V0z\" fill=\"none\"/>\n",
              "    <path d=\"M18.56 5.44l.94 2.06.94-2.06 2.06-.94-2.06-.94-.94-2.06-.94 2.06-2.06.94zm-11 1L8.5 8.5l.94-2.06 2.06-.94-2.06-.94L8.5 2.5l-.94 2.06-2.06.94zm10 10l.94 2.06.94-2.06 2.06-.94-2.06-.94-.94-2.06-.94 2.06-2.06.94z\"/><path d=\"M17.41 7.96l-1.37-1.37c-.4-.4-.92-.59-1.43-.59-.52 0-1.04.2-1.43.59L10.3 9.45l-7.72 7.72c-.78.78-.78 2.05 0 2.83L4 21.41c.39.39.9.59 1.41.59.51 0 1.02-.2 1.41-.59l7.78-7.78 2.81-2.81c.8-.78.8-2.07 0-2.86zM5.41 20L4 18.59l7.72-7.72 1.47 1.35L5.41 20z\"/>\n",
              "  </svg>\n",
              "      </button>\n",
              "      \n",
              "  <style>\n",
              "    .colab-df-container {\n",
              "      display:flex;\n",
              "      flex-wrap:wrap;\n",
              "      gap: 12px;\n",
              "    }\n",
              "\n",
              "    .colab-df-convert {\n",
              "      background-color: #E8F0FE;\n",
              "      border: none;\n",
              "      border-radius: 50%;\n",
              "      cursor: pointer;\n",
              "      display: none;\n",
              "      fill: #1967D2;\n",
              "      height: 32px;\n",
              "      padding: 0 0 0 0;\n",
              "      width: 32px;\n",
              "    }\n",
              "\n",
              "    .colab-df-convert:hover {\n",
              "      background-color: #E2EBFA;\n",
              "      box-shadow: 0px 1px 2px rgba(60, 64, 67, 0.3), 0px 1px 3px 1px rgba(60, 64, 67, 0.15);\n",
              "      fill: #174EA6;\n",
              "    }\n",
              "\n",
              "    [theme=dark] .colab-df-convert {\n",
              "      background-color: #3B4455;\n",
              "      fill: #D2E3FC;\n",
              "    }\n",
              "\n",
              "    [theme=dark] .colab-df-convert:hover {\n",
              "      background-color: #434B5C;\n",
              "      box-shadow: 0px 1px 3px 1px rgba(0, 0, 0, 0.15);\n",
              "      filter: drop-shadow(0px 1px 2px rgba(0, 0, 0, 0.3));\n",
              "      fill: #FFFFFF;\n",
              "    }\n",
              "  </style>\n",
              "\n",
              "      <script>\n",
              "        const buttonEl =\n",
              "          document.querySelector('#df-1251697e-546d-4dd8-baf2-5deb6042699f button.colab-df-convert');\n",
              "        buttonEl.style.display =\n",
              "          google.colab.kernel.accessAllowed ? 'block' : 'none';\n",
              "\n",
              "        async function convertToInteractive(key) {\n",
              "          const element = document.querySelector('#df-1251697e-546d-4dd8-baf2-5deb6042699f');\n",
              "          const dataTable =\n",
              "            await google.colab.kernel.invokeFunction('convertToInteractive',\n",
              "                                                     [key], {});\n",
              "          if (!dataTable) return;\n",
              "\n",
              "          const docLinkHtml = 'Like what you see? Visit the ' +\n",
              "            '<a target=\"_blank\" href=https://colab.research.google.com/notebooks/data_table.ipynb>data table notebook</a>'\n",
              "            + ' to learn more about interactive tables.';\n",
              "          element.innerHTML = '';\n",
              "          dataTable['output_type'] = 'display_data';\n",
              "          await google.colab.output.renderOutput(dataTable, element);\n",
              "          const docLink = document.createElement('div');\n",
              "          docLink.innerHTML = docLinkHtml;\n",
              "          element.appendChild(docLink);\n",
              "        }\n",
              "      </script>\n",
              "    </div>\n",
              "  </div>\n",
              "  "
            ]
          },
          "metadata": {},
          "execution_count": 40
        }
      ]
    },
    {
      "cell_type": "markdown",
      "source": [
        "##*Binning*\n",
        "There are some fields in which we can perform binning to get best results without affecting the performance metrics.\n",
        "\n",
        "These are:\n",
        "1. delivery_charge\n",
        "2. is_open\n",
        "3. gender\n",
        "4. vendor_category_en\n",
        "5. serving_distance\n",
        "6. prepration_time\n",
        "7. vendor_rating"
      ],
      "metadata": {
        "id": "32wdyEWsYBBr"
      }
    },
    {
      "cell_type": "code",
      "source": [
        "print(train_df['delivery_charge'].value_counts(), \"\\n\")\n",
        "print(train_df['is_open'].value_counts(), \"\\n\")\n",
        "print(train_df['gender'].value_counts(), \"\\n\")\n",
        "print(train_df['vendor_category_en'].value_counts(), \"\\n\")"
      ],
      "metadata": {
        "id": "6KI8Cyt9X93B",
        "colab": {
          "base_uri": "https://localhost:8080/"
        },
        "outputId": "baca96e9-2f13-4d93-ad93-9e1128512654"
      },
      "execution_count": 41,
      "outputs": [
        {
          "output_type": "stream",
          "name": "stdout",
          "text": [
            "0.7    4814\n",
            "0.0    3403\n",
            "Name: delivery_charge, dtype: int64 \n",
            "\n",
            "1.0    6972\n",
            "0.0    1245\n",
            "Name: is_open, dtype: int64 \n",
            "\n",
            "Male      7227\n",
            "Female     990\n",
            "Name: gender, dtype: int64 \n",
            "\n",
            "Restaurants       7304\n",
            "Sweets & Bakes     913\n",
            "Name: vendor_category_en, dtype: int64 \n",
            "\n"
          ]
        }
      ]
    },
    {
      "cell_type": "code",
      "source": [
        "import numpy as np\n",
        "train_df['delivery_charge'] = np.where(train_df['delivery_charge'] == 0.7, 1, 0)\n",
        "train_df['is_open'] = np.where(train_df['is_open'] == 1.0, 1, 0)\n",
        "train_df['gender'] = np.where(train_df['gender'] == \"Female\", 1, 0)\n",
        "train_df['vendor_category_en'] = np.where(train_df['vendor_category_en'] == \"Restaurants\", 1, 0)"
      ],
      "metadata": {
        "id": "iwIFsHsCYJs2"
      },
      "execution_count": 42,
      "outputs": []
    },
    {
      "cell_type": "code",
      "source": [
        "print(train_df['vendor_category_en'].value_counts(), \"\\n\")"
      ],
      "metadata": {
        "colab": {
          "base_uri": "https://localhost:8080/"
        },
        "id": "z7KYIm5oLy6F",
        "outputId": "f7d4f916-411f-4516-ac25-f20a0c84e148"
      },
      "execution_count": 43,
      "outputs": [
        {
          "output_type": "stream",
          "name": "stdout",
          "text": [
            "1    7304\n",
            "0     913\n",
            "Name: vendor_category_en, dtype: int64 \n",
            "\n"
          ]
        }
      ]
    },
    {
      "cell_type": "code",
      "source": [
        "sns.kdeplot(data=train_df, x=\"serving_distance\", palette='Set2')"
      ],
      "metadata": {
        "colab": {
          "base_uri": "https://localhost:8080/",
          "height": 297
        },
        "id": "KOnmmZMXLwNO",
        "outputId": "48c927ce-ddb0-4cfe-9ab8-fa1bfc390d80"
      },
      "execution_count": 44,
      "outputs": [
        {
          "output_type": "execute_result",
          "data": {
            "text/plain": [
              "<matplotlib.axes._subplots.AxesSubplot at 0x7f7d8a04e750>"
            ]
          },
          "metadata": {},
          "execution_count": 44
        },
        {
          "output_type": "display_data",
          "data": {
            "text/plain": [
              "<Figure size 432x288 with 1 Axes>"
            ],
            "image/png": "[encoded data removed]"
          },
          "metadata": {
            "needs_background": "light"
          }
        }
      ]
    },
    {
      "cell_type": "code",
      "source": [
        "print(train_df['serving_distance'].value_counts(), \"\\n\")"
      ],
      "metadata": {
        "colab": {
          "base_uri": "https://localhost:8080/"
        },
        "id": "xq0tlXQqGtoq",
        "outputId": "a0b30aa7-30c2-4873-9fb1-f0a0de3ae140"
      },
      "execution_count": 45,
      "outputs": [
        {
          "output_type": "stream",
          "name": "stdout",
          "text": [
            "15.0    4731\n",
            "10.0     913\n",
            "5.0      830\n",
            "6.0      664\n",
            "8.0      664\n",
            "2.0       83\n",
            "14.0      83\n",
            "7.0       83\n",
            "3.0       83\n",
            "12.0      83\n",
            "Name: serving_distance, dtype: int64 \n",
            "\n"
          ]
        }
      ]
    },
    {
      "cell_type": "code",
      "source": [
        "sns.kdeplot(data=train_df, x=\"serving_distance\", palette='Set2')"
      ],
      "metadata": {
        "colab": {
          "base_uri": "https://localhost:8080/",
          "height": 297
        },
        "id": "AjwMERmZLfX9",
        "outputId": "f8f369ef-c3e6-44d3-f642-66e6217c9aef"
      },
      "execution_count": 46,
      "outputs": [
        {
          "output_type": "execute_result",
          "data": {
            "text/plain": [
              "<matplotlib.axes._subplots.AxesSubplot at 0x7f7d8aab9f50>"
            ]
          },
          "metadata": {},
          "execution_count": 46
        },
        {
          "output_type": "display_data",
          "data": {
            "text/plain": [
              "<Figure size 432x288 with 1 Axes>"
            ],
            "image/png": "[encoded data removed]"
          },
          "metadata": {
            "needs_background": "light"
          }
        }
      ]
    },
    {
      "cell_type": "code",
      "source": [
        "train_df.loc[(train_df['serving_distance'] <= 6, 'serving_distance')] = 1\n",
        "train_df.loc[((train_df['serving_distance'] > 6) & (train_df['serving_distance'] <= 10), 'serving_distance')] = 2\n",
        "train_df.loc[((train_df['serving_distance'] > 10) & (train_df['serving_distance'] <= 12), 'serving_distance')] = 3\n",
        "train_df.loc[(train_df['serving_distance'] > 12, 'serving_distance')] = 4"
      ],
      "metadata": {
        "id": "mIsAtNozED1v"
      },
      "execution_count": 47,
      "outputs": []
    },
    {
      "cell_type": "code",
      "source": [
        "print(train_df['prepration_time'].value_counts(), \"\\n\")"
      ],
      "metadata": {
        "id": "-ARlgyZQYWEj",
        "colab": {
          "base_uri": "https://localhost:8080/"
        },
        "outputId": "21d4f373-77de-4548-a349-9370a47341bc"
      },
      "execution_count": 48,
      "outputs": [
        {
          "output_type": "stream",
          "name": "stdout",
          "text": [
            "15    2905\n",
            "10    2075\n",
            "14     581\n",
            "17     498\n",
            "11     415\n",
            "13     415\n",
            "16     332\n",
            "20     249\n",
            "19     166\n",
            "12     166\n",
            "18     166\n",
            "21      83\n",
            "45      83\n",
            "5       83\n",
            "Name: prepration_time, dtype: int64 \n",
            "\n"
          ]
        }
      ]
    },
    {
      "cell_type": "code",
      "source": [
        "sns.kdeplot(data=train_df, x=\"prepration_time\", palette='Set2')"
      ],
      "metadata": {
        "colab": {
          "base_uri": "https://localhost:8080/",
          "height": 297
        },
        "id": "BQF0iipfLOJN",
        "outputId": "e1c3886e-90cd-44c5-d10f-1a1c4b80c249"
      },
      "execution_count": 49,
      "outputs": [
        {
          "output_type": "execute_result",
          "data": {
            "text/plain": [
              "<matplotlib.axes._subplots.AxesSubplot at 0x7f7d8d574810>"
            ]
          },
          "metadata": {},
          "execution_count": 49
        },
        {
          "output_type": "display_data",
          "data": {
            "text/plain": [
              "<Figure size 432x288 with 1 Axes>"
            ],
            "image/png": "[encoded data removed]"
          },
          "metadata": {
            "needs_background": "light"
          }
        }
      ]
    },
    {
      "cell_type": "code",
      "source": [
        "# We can see there are major 4 categories of bin ranges, 0-10, 10-15, 15-20 and above 20\n",
        "train_df.loc[(train_df['prepration_time'] <= 10, 'preparation_time_en')] = 1\n",
        "train_df.loc[((train_df['prepration_time'] > 10) & (train_df['prepration_time'] <= 15), 'preparation_time_en')] = 2\n",
        "train_df.loc[((train_df['prepration_time'] > 15) & (train_df['prepration_time'] <= 20), 'preparation_time_en')] = 3\n",
        "train_df.loc[(train_df['prepration_time'] > 20, 'preparation_time_en')] = 4"
      ],
      "metadata": {
        "id": "CqZWjSrQYYsp"
      },
      "execution_count": 50,
      "outputs": []
    },
    {
      "cell_type": "code",
      "source": [
        "print(train_df['vendor_rating'].value_counts(), \"\\n\")"
      ],
      "metadata": {
        "id": "YvjXlSAkYb70",
        "colab": {
          "base_uri": "https://localhost:8080/"
        },
        "outputId": "9dd10756-76d9-48b5-ed71-2b577171906e"
      },
      "execution_count": 51,
      "outputs": [
        {
          "output_type": "stream",
          "name": "stdout",
          "text": [
            "4.5    1577\n",
            "4.3    1411\n",
            "4.2    1245\n",
            "4.4    1162\n",
            "4.6     830\n",
            "4.7     581\n",
            "4.0     498\n",
            "4.1     415\n",
            "3.8     166\n",
            "4.8     166\n",
            "3.2      83\n",
            "3.7      83\n",
            "Name: vendor_rating, dtype: int64 \n",
            "\n"
          ]
        }
      ]
    },
    {
      "cell_type": "code",
      "source": [
        "sns.kdeplot(data=train_df, x=\"vendor_rating\", palette='Set2')"
      ],
      "metadata": {
        "colab": {
          "base_uri": "https://localhost:8080/",
          "height": 297
        },
        "id": "H6yShhLzKmDh",
        "outputId": "db58c560-635b-44a2-e27d-737eed9cd90a"
      },
      "execution_count": 52,
      "outputs": [
        {
          "output_type": "execute_result",
          "data": {
            "text/plain": [
              "<matplotlib.axes._subplots.AxesSubplot at 0x7f7d8c348250>"
            ]
          },
          "metadata": {},
          "execution_count": 52
        },
        {
          "output_type": "display_data",
          "data": {
            "text/plain": [
              "<Figure size 432x288 with 1 Axes>"
            ],
            "image/png": "[encoded data removed]"
          },
          "metadata": {
            "needs_background": "light"
          }
        }
      ]
    },
    {
      "cell_type": "code",
      "source": [
        "# (3.7 and below) as 1, (3.7-4.0) as 2, (4.0-4.2) as 3, (4.2-4.5) as 4, (4.5 and above) as 5\n",
        "train_df.loc[(train_df['vendor_rating'] <= 3.7, 'vendor_rating_en')] = 1\n",
        "train_df.loc[((train_df['vendor_rating'] > 3.7) & (train_df['vendor_rating'] <= 4.0), 'vendor_rating_en')] = 2\n",
        "train_df.loc[((train_df['vendor_rating'] > 4.0) & (train_df['vendor_rating'] <= 4.2), 'vendor_rating_en')] = 3\n",
        "train_df.loc[((train_df['vendor_rating'] > 4.2) & (train_df['vendor_rating'] <= 4.5), 'vendor_rating_en')] = 4\n",
        "train_df.loc[(train_df['vendor_rating'] > 4.5, 'vendor_rating_en')] = 5"
      ],
      "metadata": {
        "id": "KzeLnCExYdfX"
      },
      "execution_count": 53,
      "outputs": []
    },
    {
      "cell_type": "code",
      "source": [
        "train_df.drop(['location_type'], axis=1, inplace=True, errors='ignore')\n",
        "train_df.head(2)"
      ],
      "metadata": {
        "id": "cSznHgnYYwkY",
        "colab": {
          "base_uri": "https://localhost:8080/",
          "height": 246
        },
        "outputId": "b3b87a05-e74e-4a55-a351-239ff1b8384d"
      },
      "execution_count": 54,
      "outputs": [
        {
          "output_type": "execute_result",
          "data": {
            "text/plain": [
              "    customer_id  gender  location_number  latitude_x  longitude_x  id  \\\n",
              "200     TCHWPBT       0                2     -0.1287       -78.56   4   \n",
              "201     TCHWPBT       0                2     -0.1287       -78.56  13   \n",
              "\n",
              "     latitude_y  longitude_y  vendor_category_en  delivery_charge  \\\n",
              "200     -0.5884       0.7544                   1                0   \n",
              "201     -0.4717       0.7446                   1                1   \n",
              "\n",
              "     serving_distance  is_open  prepration_time  vendor_rating  \\\n",
              "200               1.0        1               15            4.4   \n",
              "201               1.0        1               14            4.7   \n",
              "\n",
              "    CID X LOC_NUM X VENDOR  target  preparation_time_en  vendor_rating_en  \n",
              "200        TCHWPBT X 2 X 4       0                  2.0               4.0  \n",
              "201       TCHWPBT X 2 X 13       0                  2.0               5.0  "
            ],
            "text/html": [
              "\n",
              "  <div id=\"df-5d31501d-4c75-4caa-aeb4-52aa5f073d92\">\n",
              "    <div class=\"colab-df-container\">\n",
              "      <div>\n",
              "<style scoped>\n",
              "    .dataframe tbody tr th:only-of-type {\n",
              "        vertical-align: middle;\n",
              "    }\n",
              "\n",
              "    .dataframe tbody tr th {\n",
              "        vertical-align: top;\n",
              "    }\n",
              "\n",
              "    .dataframe thead th {\n",
              "        text-align: right;\n",
              "    }\n",
              "</style>\n",
              "<table border=\"1\" class=\"dataframe\">\n",
              "  <thead>\n",
              "    <tr style=\"text-align: right;\">\n",
              "      <th></th>\n",
              "      <th>customer_id</th>\n",
              "      <th>gender</th>\n",
              "      <th>location_number</th>\n",
              "      <th>latitude_x</th>\n",
              "      <th>longitude_x</th>\n",
              "      <th>id</th>\n",
              "      <th>latitude_y</th>\n",
              "      <th>longitude_y</th>\n",
              "      <th>vendor_category_en</th>\n",
              "      <th>delivery_charge</th>\n",
              "      <th>serving_distance</th>\n",
              "      <th>is_open</th>\n",
              "      <th>prepration_time</th>\n",
              "      <th>vendor_rating</th>\n",
              "      <th>CID X LOC_NUM X VENDOR</th>\n",
              "      <th>target</th>\n",
              "      <th>preparation_time_en</th>\n",
              "      <th>vendor_rating_en</th>\n",
              "    </tr>\n",
              "  </thead>\n",
              "  <tbody>\n",
              "    <tr>\n",
              "      <th>200</th>\n",
              "      <td>TCHWPBT</td>\n",
              "      <td>0</td>\n",
              "      <td>2</td>\n",
              "      <td>-0.1287</td>\n",
              "      <td>-78.56</td>\n",
              "      <td>4</td>\n",
              "      <td>-0.5884</td>\n",
              "      <td>0.7544</td>\n",
              "      <td>1</td>\n",
              "      <td>0</td>\n",
              "      <td>1.0</td>\n",
              "      <td>1</td>\n",
              "      <td>15</td>\n",
              "      <td>4.4</td>\n",
              "      <td>TCHWPBT X 2 X 4</td>\n",
              "      <td>0</td>\n",
              "      <td>2.0</td>\n",
              "      <td>4.0</td>\n",
              "    </tr>\n",
              "    <tr>\n",
              "      <th>201</th>\n",
              "      <td>TCHWPBT</td>\n",
              "      <td>0</td>\n",
              "      <td>2</td>\n",
              "      <td>-0.1287</td>\n",
              "      <td>-78.56</td>\n",
              "      <td>13</td>\n",
              "      <td>-0.4717</td>\n",
              "      <td>0.7446</td>\n",
              "      <td>1</td>\n",
              "      <td>1</td>\n",
              "      <td>1.0</td>\n",
              "      <td>1</td>\n",
              "      <td>14</td>\n",
              "      <td>4.7</td>\n",
              "      <td>TCHWPBT X 2 X 13</td>\n",
              "      <td>0</td>\n",
              "      <td>2.0</td>\n",
              "      <td>5.0</td>\n",
              "    </tr>\n",
              "  </tbody>\n",
              "</table>\n",
              "</div>\n",
              "      <button class=\"colab-df-convert\" onclick=\"convertToInteractive('df-5d31501d-4c75-4caa-aeb4-52aa5f073d92')\"\n",
              "              title=\"Convert this dataframe to an interactive table.\"\n",
              "              style=\"display:none;\">\n",
              "        \n",
              "  <svg xmlns=\"http://www.w3.org/2000/svg\" height=\"24px\"viewBox=\"0 0 24 24\"\n",
              "       width=\"24px\">\n",
              "    <path d=\"M0 0h24v24H0V0z\" fill=\"none\"/>\n",
              "    <path d=\"M18.56 5.44l.94 2.06.94-2.06 2.06-.94-2.06-.94-.94-2.06-.94 2.06-2.06.94zm-11 1L8.5 8.5l.94-2.06 2.06-.94-2.06-.94L8.5 2.5l-.94 2.06-2.06.94zm10 10l.94 2.06.94-2.06 2.06-.94-2.06-.94-.94-2.06-.94 2.06-2.06.94z\"/><path d=\"M17.41 7.96l-1.37-1.37c-.4-.4-.92-.59-1.43-.59-.52 0-1.04.2-1.43.59L10.3 9.45l-7.72 7.72c-.78.78-.78 2.05 0 2.83L4 21.41c.39.39.9.59 1.41.59.51 0 1.02-.2 1.41-.59l7.78-7.78 2.81-2.81c.8-.78.8-2.07 0-2.86zM5.41 20L4 18.59l7.72-7.72 1.47 1.35L5.41 20z\"/>\n",
              "  </svg>\n",
              "      </button>\n",
              "      \n",
              "  <style>\n",
              "    .colab-df-container {\n",
              "      display:flex;\n",
              "      flex-wrap:wrap;\n",
              "      gap: 12px;\n",
              "    }\n",
              "\n",
              "    .colab-df-convert {\n",
              "      background-color: #E8F0FE;\n",
              "      border: none;\n",
              "      border-radius: 50%;\n",
              "      cursor: pointer;\n",
              "      display: none;\n",
              "      fill: #1967D2;\n",
              "      height: 32px;\n",
              "      padding: 0 0 0 0;\n",
              "      width: 32px;\n",
              "    }\n",
              "\n",
              "    .colab-df-convert:hover {\n",
              "      background-color: #E2EBFA;\n",
              "      box-shadow: 0px 1px 2px rgba(60, 64, 67, 0.3), 0px 1px 3px 1px rgba(60, 64, 67, 0.15);\n",
              "      fill: #174EA6;\n",
              "    }\n",
              "\n",
              "    [theme=dark] .colab-df-convert {\n",
              "      background-color: #3B4455;\n",
              "      fill: #D2E3FC;\n",
              "    }\n",
              "\n",
              "    [theme=dark] .colab-df-convert:hover {\n",
              "      background-color: #434B5C;\n",
              "      box-shadow: 0px 1px 3px 1px rgba(0, 0, 0, 0.15);\n",
              "      filter: drop-shadow(0px 1px 2px rgba(0, 0, 0, 0.3));\n",
              "      fill: #FFFFFF;\n",
              "    }\n",
              "  </style>\n",
              "\n",
              "      <script>\n",
              "        const buttonEl =\n",
              "          document.querySelector('#df-5d31501d-4c75-4caa-aeb4-52aa5f073d92 button.colab-df-convert');\n",
              "        buttonEl.style.display =\n",
              "          google.colab.kernel.accessAllowed ? 'block' : 'none';\n",
              "\n",
              "        async function convertToInteractive(key) {\n",
              "          const element = document.querySelector('#df-5d31501d-4c75-4caa-aeb4-52aa5f073d92');\n",
              "          const dataTable =\n",
              "            await google.colab.kernel.invokeFunction('convertToInteractive',\n",
              "                                                     [key], {});\n",
              "          if (!dataTable) return;\n",
              "\n",
              "          const docLinkHtml = 'Like what you see? Visit the ' +\n",
              "            '<a target=\"_blank\" href=https://colab.research.google.com/notebooks/data_table.ipynb>data table notebook</a>'\n",
              "            + ' to learn more about interactive tables.';\n",
              "          element.innerHTML = '';\n",
              "          dataTable['output_type'] = 'display_data';\n",
              "          await google.colab.output.renderOutput(dataTable, element);\n",
              "          const docLink = document.createElement('div');\n",
              "          docLink.innerHTML = docLinkHtml;\n",
              "          element.appendChild(docLink);\n",
              "        }\n",
              "      </script>\n",
              "    </div>\n",
              "  </div>\n",
              "  "
            ]
          },
          "metadata": {},
          "execution_count": 54
        }
      ]
    },
    {
      "cell_type": "markdown",
      "source": [
        "##*Normalization*\n",
        "As all the data has been binned, the need for normalization or scaling of data has beem reduced, Further we will see the feature importance to find out whether our preprocessed columns have been made a difference or not."
      ],
      "metadata": {
        "id": "Lim8w0Y2Y0YO"
      }
    },
    {
      "cell_type": "markdown",
      "source": [
        "##*Feature Selection (PROVING THE EDA)*"
      ],
      "metadata": {
        "id": "Gs6c11OyY5mv"
      }
    },
    {
      "cell_type": "code",
      "source": [
        "corr = train_df[['location_number','gender','vendor_category_en','delivery_charge',\\\n",
        "           'serving_distance','is_open','prepration_time','vendor_rating','target']]\n",
        "corr.corr()"
      ],
      "metadata": {
        "id": "LpXnK2sRY4yY",
        "colab": {
          "base_uri": "https://localhost:8080/",
          "height": 534
        },
        "outputId": "c4a74a0e-a672-4662-a01f-cf248548249f"
      },
      "execution_count": 55,
      "outputs": [
        {
          "output_type": "execute_result",
          "data": {
            "text/plain": [
              "                    location_number        gender  vendor_category_en  \\\n",
              "location_number        1.000000e+00  3.522071e-01       -7.948649e-16   \n",
              "gender                 3.522071e-01  1.000000e+00        1.031586e-16   \n",
              "vendor_category_en    -7.948649e-16  1.031586e-16        1.000000e+00   \n",
              "delivery_charge       -3.372469e-16 -5.028148e-16        1.595041e-01   \n",
              "serving_distance      -8.271069e-17  1.693816e-15       -1.074355e-01   \n",
              "is_open                1.037020e-15  4.222684e-16        1.195229e-01   \n",
              "prepration_time        3.700652e-16 -1.520994e-15       -2.366616e-01   \n",
              "vendor_rating         -2.653741e-15 -1.622197e-14       -3.158052e-02   \n",
              "target                -2.918413e-02 -2.402698e-02        5.050505e-03   \n",
              "\n",
              "                    delivery_charge  serving_distance       is_open  \\\n",
              "location_number       -3.372469e-16     -8.271069e-17  1.037020e-15   \n",
              "gender                -5.028148e-16      1.693816e-15  4.222684e-16   \n",
              "vendor_category_en     1.595041e-01     -1.074355e-01  1.195229e-01   \n",
              "delivery_charge        1.000000e+00      1.164292e-01 -1.837113e-01   \n",
              "serving_distance       1.164292e-01      1.000000e+00 -1.628780e-01   \n",
              "is_open               -1.837113e-01     -1.628780e-01  1.000000e+00   \n",
              "prepration_time        9.896678e-02      1.038371e-01 -2.395448e-01   \n",
              "vendor_rating          4.704182e-02     -1.767540e-01  3.009381e-01   \n",
              "target                 1.933383e-02     -2.136145e-02 -4.471902e-17   \n",
              "\n",
              "                    prepration_time  vendor_rating        target  \n",
              "location_number        3.700652e-16  -2.653741e-15 -2.918413e-02  \n",
              "gender                -1.520994e-15  -1.622197e-14 -2.402698e-02  \n",
              "vendor_category_en    -2.366616e-01  -3.158052e-02  5.050505e-03  \n",
              "delivery_charge        9.896678e-02   4.704182e-02  1.933383e-02  \n",
              "serving_distance       1.038371e-01  -1.767540e-01 -2.136145e-02  \n",
              "is_open               -2.395448e-01   3.009381e-01 -4.471902e-17  \n",
              "prepration_time        1.000000e+00  -1.251319e-01  3.971942e-02  \n",
              "vendor_rating         -1.251319e-01   1.000000e+00  4.944425e-02  \n",
              "target                 3.971942e-02   4.944425e-02  1.000000e+00  "
            ],
            "text/html": [
              "\n",
              "  <div id=\"df-98f95a85-b89f-4546-99cc-d66516bd8b34\">\n",
              "    <div class=\"colab-df-container\">\n",
              "      <div>\n",
              "<style scoped>\n",
              "    .dataframe tbody tr th:only-of-type {\n",
              "        vertical-align: middle;\n",
              "    }\n",
              "\n",
              "    .dataframe tbody tr th {\n",
              "        vertical-align: top;\n",
              "    }\n",
              "\n",
              "    .dataframe thead th {\n",
              "        text-align: right;\n",
              "    }\n",
              "</style>\n",
              "<table border=\"1\" class=\"dataframe\">\n",
              "  <thead>\n",
              "    <tr style=\"text-align: right;\">\n",
              "      <th></th>\n",
              "      <th>location_number</th>\n",
              "      <th>gender</th>\n",
              "      <th>vendor_category_en</th>\n",
              "      <th>delivery_charge</th>\n",
              "      <th>serving_distance</th>\n",
              "      <th>is_open</th>\n",
              "      <th>prepration_time</th>\n",
              "      <th>vendor_rating</th>\n",
              "      <th>target</th>\n",
              "    </tr>\n",
              "  </thead>\n",
              "  <tbody>\n",
              "    <tr>\n",
              "      <th>location_number</th>\n",
              "      <td>1.000000e+00</td>\n",
              "      <td>3.522071e-01</td>\n",
              "      <td>-7.948649e-16</td>\n",
              "      <td>-3.372469e-16</td>\n",
              "      <td>-8.271069e-17</td>\n",
              "      <td>1.037020e-15</td>\n",
              "      <td>3.700652e-16</td>\n",
              "      <td>-2.653741e-15</td>\n",
              "      <td>-2.918413e-02</td>\n",
              "    </tr>\n",
              "    <tr>\n",
              "      <th>gender</th>\n",
              "      <td>3.522071e-01</td>\n",
              "      <td>1.000000e+00</td>\n",
              "      <td>1.031586e-16</td>\n",
              "      <td>-5.028148e-16</td>\n",
              "      <td>1.693816e-15</td>\n",
              "      <td>4.222684e-16</td>\n",
              "      <td>-1.520994e-15</td>\n",
              "      <td>-1.622197e-14</td>\n",
              "      <td>-2.402698e-02</td>\n",
              "    </tr>\n",
              "    <tr>\n",
              "      <th>vendor_category_en</th>\n",
              "      <td>-7.948649e-16</td>\n",
              "      <td>1.031586e-16</td>\n",
              "      <td>1.000000e+00</td>\n",
              "      <td>1.595041e-01</td>\n",
              "      <td>-1.074355e-01</td>\n",
              "      <td>1.195229e-01</td>\n",
              "      <td>-2.366616e-01</td>\n",
              "      <td>-3.158052e-02</td>\n",
              "      <td>5.050505e-03</td>\n",
              "    </tr>\n",
              "    <tr>\n",
              "      <th>delivery_charge</th>\n",
              "      <td>-3.372469e-16</td>\n",
              "      <td>-5.028148e-16</td>\n",
              "      <td>1.595041e-01</td>\n",
              "      <td>1.000000e+00</td>\n",
              "      <td>1.164292e-01</td>\n",
              "      <td>-1.837113e-01</td>\n",
              "      <td>9.896678e-02</td>\n",
              "      <td>4.704182e-02</td>\n",
              "      <td>1.933383e-02</td>\n",
              "    </tr>\n",
              "    <tr>\n",
              "      <th>serving_distance</th>\n",
              "      <td>-8.271069e-17</td>\n",
              "      <td>1.693816e-15</td>\n",
              "      <td>-1.074355e-01</td>\n",
              "      <td>1.164292e-01</td>\n",
              "      <td>1.000000e+00</td>\n",
              "      <td>-1.628780e-01</td>\n",
              "      <td>1.038371e-01</td>\n",
              "      <td>-1.767540e-01</td>\n",
              "      <td>-2.136145e-02</td>\n",
              "    </tr>\n",
              "    <tr>\n",
              "      <th>is_open</th>\n",
              "      <td>1.037020e-15</td>\n",
              "      <td>4.222684e-16</td>\n",
              "      <td>1.195229e-01</td>\n",
              "      <td>-1.837113e-01</td>\n",
              "      <td>-1.628780e-01</td>\n",
              "      <td>1.000000e+00</td>\n",
              "      <td>-2.395448e-01</td>\n",
              "      <td>3.009381e-01</td>\n",
              "      <td>-4.471902e-17</td>\n",
              "    </tr>\n",
              "    <tr>\n",
              "      <th>prepration_time</th>\n",
              "      <td>3.700652e-16</td>\n",
              "      <td>-1.520994e-15</td>\n",
              "      <td>-2.366616e-01</td>\n",
              "      <td>9.896678e-02</td>\n",
              "      <td>1.038371e-01</td>\n",
              "      <td>-2.395448e-01</td>\n",
              "      <td>1.000000e+00</td>\n",
              "      <td>-1.251319e-01</td>\n",
              "      <td>3.971942e-02</td>\n",
              "    </tr>\n",
              "    <tr>\n",
              "      <th>vendor_rating</th>\n",
              "      <td>-2.653741e-15</td>\n",
              "      <td>-1.622197e-14</td>\n",
              "      <td>-3.158052e-02</td>\n",
              "      <td>4.704182e-02</td>\n",
              "      <td>-1.767540e-01</td>\n",
              "      <td>3.009381e-01</td>\n",
              "      <td>-1.251319e-01</td>\n",
              "      <td>1.000000e+00</td>\n",
              "      <td>4.944425e-02</td>\n",
              "    </tr>\n",
              "    <tr>\n",
              "      <th>target</th>\n",
              "      <td>-2.918413e-02</td>\n",
              "      <td>-2.402698e-02</td>\n",
              "      <td>5.050505e-03</td>\n",
              "      <td>1.933383e-02</td>\n",
              "      <td>-2.136145e-02</td>\n",
              "      <td>-4.471902e-17</td>\n",
              "      <td>3.971942e-02</td>\n",
              "      <td>4.944425e-02</td>\n",
              "      <td>1.000000e+00</td>\n",
              "    </tr>\n",
              "  </tbody>\n",
              "</table>\n",
              "</div>\n",
              "      <button class=\"colab-df-convert\" onclick=\"convertToInteractive('df-98f95a85-b89f-4546-99cc-d66516bd8b34')\"\n",
              "              title=\"Convert this dataframe to an interactive table.\"\n",
              "              style=\"display:none;\">\n",
              "        \n",
              "  <svg xmlns=\"http://www.w3.org/2000/svg\" height=\"24px\"viewBox=\"0 0 24 24\"\n",
              "       width=\"24px\">\n",
              "    <path d=\"M0 0h24v24H0V0z\" fill=\"none\"/>\n",
              "    <path d=\"M18.56 5.44l.94 2.06.94-2.06 2.06-.94-2.06-.94-.94-2.06-.94 2.06-2.06.94zm-11 1L8.5 8.5l.94-2.06 2.06-.94-2.06-.94L8.5 2.5l-.94 2.06-2.06.94zm10 10l.94 2.06.94-2.06 2.06-.94-2.06-.94-.94-2.06-.94 2.06-2.06.94z\"/><path d=\"M17.41 7.96l-1.37-1.37c-.4-.4-.92-.59-1.43-.59-.52 0-1.04.2-1.43.59L10.3 9.45l-7.72 7.72c-.78.78-.78 2.05 0 2.83L4 21.41c.39.39.9.59 1.41.59.51 0 1.02-.2 1.41-.59l7.78-7.78 2.81-2.81c.8-.78.8-2.07 0-2.86zM5.41 20L4 18.59l7.72-7.72 1.47 1.35L5.41 20z\"/>\n",
              "  </svg>\n",
              "      </button>\n",
              "      \n",
              "  <style>\n",
              "    .colab-df-container {\n",
              "      display:flex;\n",
              "      flex-wrap:wrap;\n",
              "      gap: 12px;\n",
              "    }\n",
              "\n",
              "    .colab-df-convert {\n",
              "      background-color: #E8F0FE;\n",
              "      border: none;\n",
              "      border-radius: 50%;\n",
              "      cursor: pointer;\n",
              "      display: none;\n",
              "      fill: #1967D2;\n",
              "      height: 32px;\n",
              "      padding: 0 0 0 0;\n",
              "      width: 32px;\n",
              "    }\n",
              "\n",
              "    .colab-df-convert:hover {\n",
              "      background-color: #E2EBFA;\n",
              "      box-shadow: 0px 1px 2px rgba(60, 64, 67, 0.3), 0px 1px 3px 1px rgba(60, 64, 67, 0.15);\n",
              "      fill: #174EA6;\n",
              "    }\n",
              "\n",
              "    [theme=dark] .colab-df-convert {\n",
              "      background-color: #3B4455;\n",
              "      fill: #D2E3FC;\n",
              "    }\n",
              "\n",
              "    [theme=dark] .colab-df-convert:hover {\n",
              "      background-color: #434B5C;\n",
              "      box-shadow: 0px 1px 3px 1px rgba(0, 0, 0, 0.15);\n",
              "      filter: drop-shadow(0px 1px 2px rgba(0, 0, 0, 0.3));\n",
              "      fill: #FFFFFF;\n",
              "    }\n",
              "  </style>\n",
              "\n",
              "      <script>\n",
              "        const buttonEl =\n",
              "          document.querySelector('#df-98f95a85-b89f-4546-99cc-d66516bd8b34 button.colab-df-convert');\n",
              "        buttonEl.style.display =\n",
              "          google.colab.kernel.accessAllowed ? 'block' : 'none';\n",
              "\n",
              "        async function convertToInteractive(key) {\n",
              "          const element = document.querySelector('#df-98f95a85-b89f-4546-99cc-d66516bd8b34');\n",
              "          const dataTable =\n",
              "            await google.colab.kernel.invokeFunction('convertToInteractive',\n",
              "                                                     [key], {});\n",
              "          if (!dataTable) return;\n",
              "\n",
              "          const docLinkHtml = 'Like what you see? Visit the ' +\n",
              "            '<a target=\"_blank\" href=https://colab.research.google.com/notebooks/data_table.ipynb>data table notebook</a>'\n",
              "            + ' to learn more about interactive tables.';\n",
              "          element.innerHTML = '';\n",
              "          dataTable['output_type'] = 'display_data';\n",
              "          await google.colab.output.renderOutput(dataTable, element);\n",
              "          const docLink = document.createElement('div');\n",
              "          docLink.innerHTML = docLinkHtml;\n",
              "          element.appendChild(docLink);\n",
              "        }\n",
              "      </script>\n",
              "    </div>\n",
              "  </div>\n",
              "  "
            ]
          },
          "metadata": {},
          "execution_count": 55
        }
      ]
    },
    {
      "cell_type": "code",
      "source": [
        "import matplotlib.pyplot as plt\n",
        "import seaborn as sns\n",
        "fig, ax = plt.subplots(figsize=(10,8)) \n",
        "sns.heatmap(corr.corr(), cmap=\"YlGnBu\", annot=True)"
      ],
      "metadata": {
        "id": "VjoTG0yRY9Ut",
        "colab": {
          "base_uri": "https://localhost:8080/",
          "height": 595
        },
        "outputId": "1821c5c3-0904-4495-9aff-e49cd8022223"
      },
      "execution_count": 56,
      "outputs": [
        {
          "output_type": "execute_result",
          "data": {
            "text/plain": [
              "<matplotlib.axes._subplots.AxesSubplot at 0x7f7d8b82f710>"
            ]
          },
          "metadata": {},
          "execution_count": 56
        },
        {
          "output_type": "display_data",
          "data": {
            "text/plain": [
              "<Figure size 720x576 with 2 Axes>"
            ],
            "image/png": "[encoded data removed]"
          },
          "metadata": {
            "needs_background": "light"
          }
        }
      ]
    },
    {
      "cell_type": "code",
      "source": [
        "feature_x = train_df[['location_number','gender','latitude_x','longitude_x','id','latitude_y','longitude_y','vendor_category_en','delivery_charge',\\\n",
        "           'serving_distance','is_open','prepration_time','vendor_rating']]\n",
        "feature_y = train_df['target']"
      ],
      "metadata": {
        "id": "5028JUVMZFNO"
      },
      "execution_count": 57,
      "outputs": []
    },
    {
      "cell_type": "code",
      "source": [
        "from sklearn import datasets\n",
        "from sklearn import metrics\n",
        "from sklearn.ensemble import ExtraTreesClassifier\n",
        "\n",
        "model = ExtraTreesClassifier()\n",
        "model.fit(feature_x,feature_y)\n",
        "# display the relative importance of each attribute\n",
        "print(model.feature_importances_)"
      ],
      "metadata": {
        "id": "VQKboxoVZHOh",
        "colab": {
          "base_uri": "https://localhost:8080/"
        },
        "outputId": "bd6d6e07-13a8-4f95-a042-495c603cb25d"
      },
      "execution_count": 58,
      "outputs": [
        {
          "output_type": "stream",
          "name": "stdout",
          "text": [
            "[0.1544911  0.01724142 0.39843903 0.23961932 0.0353294  0.03303558\n",
            " 0.03390458 0.00466288 0.00796915 0.00862003 0.00423747 0.03214118\n",
            " 0.03030886]\n"
          ]
        }
      ]
    },
    {
      "cell_type": "code",
      "source": [
        "# plotting feature importances using plt\n",
        "feature_imp = model.feature_importances_\n",
        "labels = model.feature_names_in_\n",
        "importances = pd.DataFrame(zip(labels, feature_imp), columns=('label', 'importance')).sort_values(by='importance', ascending=False)\n",
        "print(importances)"
      ],
      "metadata": {
        "id": "_t20CXV6ZKhG",
        "colab": {
          "base_uri": "https://localhost:8080/"
        },
        "outputId": "4f5a72d4-ab35-4ef9-b6d3-aa574d100fc8"
      },
      "execution_count": 59,
      "outputs": [
        {
          "output_type": "stream",
          "name": "stdout",
          "text": [
            "                 label  importance\n",
            "2           latitude_x    0.398439\n",
            "3          longitude_x    0.239619\n",
            "0      location_number    0.154491\n",
            "4                   id    0.035329\n",
            "6          longitude_y    0.033905\n",
            "5           latitude_y    0.033036\n",
            "11     prepration_time    0.032141\n",
            "12       vendor_rating    0.030309\n",
            "1               gender    0.017241\n",
            "9     serving_distance    0.008620\n",
            "8      delivery_charge    0.007969\n",
            "7   vendor_category_en    0.004663\n",
            "10             is_open    0.004237\n"
          ]
        }
      ]
    },
    {
      "cell_type": "markdown",
      "source": [
        "**PLOT SUMMARY**\n",
        "\n",
        "1. It shows that Gender, Location (latitude and longitude), Location Number is very important features as already seen in EDA. -- Proven"
      ],
      "metadata": {
        "id": "MmFZRwAQZPJC"
      }
    },
    {
      "cell_type": "markdown",
      "source": [
        "# **4. Encoding Train And Test**"
      ],
      "metadata": {
        "id": "lcJZr27BZUwt"
      }
    },
    {
      "cell_type": "code",
      "source": [
        "import pandas as pd\n",
        "#data = pd.read_csv('/content/drive/MyDrive/Traveloka/train_full.csv')\n",
        "#data = data.head(10000)\n",
        "#data.to_csv('/content/drive/MyDrive/Traveloka/train_data.csv')\n",
        "train = pd.read_csv('/content/drive/MyDrive/Traveloka/train_data.csv')"
      ],
      "metadata": {
        "id": "y4YVxgVcZSkE"
      },
      "execution_count": 60,
      "outputs": []
    },
    {
      "cell_type": "code",
      "source": [
        "# taking only important columns\n",
        "train = train[['gender', 'location_number', 'location_type', 'latitude_x',\\\n",
        "           'longitude_x', 'latitude_y', 'longitude_y', 'id', 'vendor_category_en', 'delivery_charge',\\\n",
        "           'serving_distance', 'is_open', 'prepration_time', 'vendor_rating', 'target']] \n",
        "print(train.shape)\n",
        "train.head(2)"
      ],
      "metadata": {
        "id": "4RglENLkZc-a",
        "colab": {
          "base_uri": "https://localhost:8080/",
          "height": 193
        },
        "outputId": "601380de-4a0c-4142-cdc1-bd208656b4e9"
      },
      "execution_count": 61,
      "outputs": [
        {
          "output_type": "stream",
          "name": "stdout",
          "text": [
            "(10000, 15)\n"
          ]
        },
        {
          "output_type": "execute_result",
          "data": {
            "text/plain": [
              "  gender  location_number location_type  latitude_x  longitude_x  latitude_y  \\\n",
              "0   Male                0          Work      -96.44        -67.2     -0.5884   \n",
              "1   Male                0          Work      -96.44        -67.2     -0.4717   \n",
              "\n",
              "   longitude_y  id vendor_category_en  delivery_charge  serving_distance  \\\n",
              "0       0.7544   4        Restaurants              0.0               6.0   \n",
              "1       0.7446  13        Restaurants              0.7               5.0   \n",
              "\n",
              "   is_open  prepration_time  vendor_rating  target  \n",
              "0      1.0               15            4.4       0  \n",
              "1      1.0               14            4.7       0  "
            ],
            "text/html": [
              "\n",
              "  <div id=\"df-7cab4bc8-0b77-41ad-8033-633356e64aa4\">\n",
              "    <div class=\"colab-df-container\">\n",
              "      <div>\n",
              "<style scoped>\n",
              "    .dataframe tbody tr th:only-of-type {\n",
              "        vertical-align: middle;\n",
              "    }\n",
              "\n",
              "    .dataframe tbody tr th {\n",
              "        vertical-align: top;\n",
              "    }\n",
              "\n",
              "    .dataframe thead th {\n",
              "        text-align: right;\n",
              "    }\n",
              "</style>\n",
              "<table border=\"1\" class=\"dataframe\">\n",
              "  <thead>\n",
              "    <tr style=\"text-align: right;\">\n",
              "      <th></th>\n",
              "      <th>gender</th>\n",
              "      <th>location_number</th>\n",
              "      <th>location_type</th>\n",
              "      <th>latitude_x</th>\n",
              "      <th>longitude_x</th>\n",
              "      <th>latitude_y</th>\n",
              "      <th>longitude_y</th>\n",
              "      <th>id</th>\n",
              "      <th>vendor_category_en</th>\n",
              "      <th>delivery_charge</th>\n",
              "      <th>serving_distance</th>\n",
              "      <th>is_open</th>\n",
              "      <th>prepration_time</th>\n",
              "      <th>vendor_rating</th>\n",
              "      <th>target</th>\n",
              "    </tr>\n",
              "  </thead>\n",
              "  <tbody>\n",
              "    <tr>\n",
              "      <th>0</th>\n",
              "      <td>Male</td>\n",
              "      <td>0</td>\n",
              "      <td>Work</td>\n",
              "      <td>-96.44</td>\n",
              "      <td>-67.2</td>\n",
              "      <td>-0.5884</td>\n",
              "      <td>0.7544</td>\n",
              "      <td>4</td>\n",
              "      <td>Restaurants</td>\n",
              "      <td>0.0</td>\n",
              "      <td>6.0</td>\n",
              "      <td>1.0</td>\n",
              "      <td>15</td>\n",
              "      <td>4.4</td>\n",
              "      <td>0</td>\n",
              "    </tr>\n",
              "    <tr>\n",
              "      <th>1</th>\n",
              "      <td>Male</td>\n",
              "      <td>0</td>\n",
              "      <td>Work</td>\n",
              "      <td>-96.44</td>\n",
              "      <td>-67.2</td>\n",
              "      <td>-0.4717</td>\n",
              "      <td>0.7446</td>\n",
              "      <td>13</td>\n",
              "      <td>Restaurants</td>\n",
              "      <td>0.7</td>\n",
              "      <td>5.0</td>\n",
              "      <td>1.0</td>\n",
              "      <td>14</td>\n",
              "      <td>4.7</td>\n",
              "      <td>0</td>\n",
              "    </tr>\n",
              "  </tbody>\n",
              "</table>\n",
              "</div>\n",
              "      <button class=\"colab-df-convert\" onclick=\"convertToInteractive('df-7cab4bc8-0b77-41ad-8033-633356e64aa4')\"\n",
              "              title=\"Convert this dataframe to an interactive table.\"\n",
              "              style=\"display:none;\">\n",
              "        \n",
              "  <svg xmlns=\"http://www.w3.org/2000/svg\" height=\"24px\"viewBox=\"0 0 24 24\"\n",
              "       width=\"24px\">\n",
              "    <path d=\"M0 0h24v24H0V0z\" fill=\"none\"/>\n",
              "    <path d=\"M18.56 5.44l.94 2.06.94-2.06 2.06-.94-2.06-.94-.94-2.06-.94 2.06-2.06.94zm-11 1L8.5 8.5l.94-2.06 2.06-.94-2.06-.94L8.5 2.5l-.94 2.06-2.06.94zm10 10l.94 2.06.94-2.06 2.06-.94-2.06-.94-.94-2.06-.94 2.06-2.06.94z\"/><path d=\"M17.41 7.96l-1.37-1.37c-.4-.4-.92-.59-1.43-.59-.52 0-1.04.2-1.43.59L10.3 9.45l-7.72 7.72c-.78.78-.78 2.05 0 2.83L4 21.41c.39.39.9.59 1.41.59.51 0 1.02-.2 1.41-.59l7.78-7.78 2.81-2.81c.8-.78.8-2.07 0-2.86zM5.41 20L4 18.59l7.72-7.72 1.47 1.35L5.41 20z\"/>\n",
              "  </svg>\n",
              "      </button>\n",
              "      \n",
              "  <style>\n",
              "    .colab-df-container {\n",
              "      display:flex;\n",
              "      flex-wrap:wrap;\n",
              "      gap: 12px;\n",
              "    }\n",
              "\n",
              "    .colab-df-convert {\n",
              "      background-color: #E8F0FE;\n",
              "      border: none;\n",
              "      border-radius: 50%;\n",
              "      cursor: pointer;\n",
              "      display: none;\n",
              "      fill: #1967D2;\n",
              "      height: 32px;\n",
              "      padding: 0 0 0 0;\n",
              "      width: 32px;\n",
              "    }\n",
              "\n",
              "    .colab-df-convert:hover {\n",
              "      background-color: #E2EBFA;\n",
              "      box-shadow: 0px 1px 2px rgba(60, 64, 67, 0.3), 0px 1px 3px 1px rgba(60, 64, 67, 0.15);\n",
              "      fill: #174EA6;\n",
              "    }\n",
              "\n",
              "    [theme=dark] .colab-df-convert {\n",
              "      background-color: #3B4455;\n",
              "      fill: #D2E3FC;\n",
              "    }\n",
              "\n",
              "    [theme=dark] .colab-df-convert:hover {\n",
              "      background-color: #434B5C;\n",
              "      box-shadow: 0px 1px 3px 1px rgba(0, 0, 0, 0.15);\n",
              "      filter: drop-shadow(0px 1px 2px rgba(0, 0, 0, 0.3));\n",
              "      fill: #FFFFFF;\n",
              "    }\n",
              "  </style>\n",
              "\n",
              "      <script>\n",
              "        const buttonEl =\n",
              "          document.querySelector('#df-7cab4bc8-0b77-41ad-8033-633356e64aa4 button.colab-df-convert');\n",
              "        buttonEl.style.display =\n",
              "          google.colab.kernel.accessAllowed ? 'block' : 'none';\n",
              "\n",
              "        async function convertToInteractive(key) {\n",
              "          const element = document.querySelector('#df-7cab4bc8-0b77-41ad-8033-633356e64aa4');\n",
              "          const dataTable =\n",
              "            await google.colab.kernel.invokeFunction('convertToInteractive',\n",
              "                                                     [key], {});\n",
              "          if (!dataTable) return;\n",
              "\n",
              "          const docLinkHtml = 'Like what you see? Visit the ' +\n",
              "            '<a target=\"_blank\" href=https://colab.research.google.com/notebooks/data_table.ipynb>data table notebook</a>'\n",
              "            + ' to learn more about interactive tables.';\n",
              "          element.innerHTML = '';\n",
              "          dataTable['output_type'] = 'display_data';\n",
              "          await google.colab.output.renderOutput(dataTable, element);\n",
              "          const docLink = document.createElement('div');\n",
              "          docLink.innerHTML = docLinkHtml;\n",
              "          element.appendChild(docLink);\n",
              "        }\n",
              "      </script>\n",
              "    </div>\n",
              "  </div>\n",
              "  "
            ]
          },
          "metadata": {},
          "execution_count": 61
        }
      ]
    },
    {
      "cell_type": "code",
      "source": [
        "!pip install haversine\n",
        "import haversine\n",
        "from haversine import haversine_vector, Unit\n",
        "\n",
        "dist = []\n",
        "train.dropna(inplace=True)\n",
        "for i in train.values:\n",
        "    a = (i[4], i[5])\n",
        "    b = (i[6], i[7])\n",
        "    dist.append(haversine_vector([a], [b], Unit.KILOMETERS)[0])\n",
        "\n",
        "train['distance'] = dist\n",
        "train.head(2)"
      ],
      "metadata": {
        "id": "ODso03tcZgg6",
        "colab": {
          "base_uri": "https://localhost:8080/",
          "height": 211
        },
        "outputId": "2dc0ea48-20ef-4299-db6c-dd7221859918"
      },
      "execution_count": 62,
      "outputs": [
        {
          "output_type": "stream",
          "name": "stdout",
          "text": [
            "Looking in indexes: https://pypi.org/simple, https://us-python.pkg.dev/colab-wheels/public/simple/\n",
            "Requirement already satisfied: haversine in /usr/local/lib/python3.7/dist-packages (2.5.1)\n"
          ]
        },
        {
          "output_type": "execute_result",
          "data": {
            "text/plain": [
              "  gender  location_number location_type  latitude_x  longitude_x  latitude_y  \\\n",
              "0   Male                0          Work      -96.44        -67.2     -0.5884   \n",
              "1   Male                0          Work      -96.44        -67.2     -0.4717   \n",
              "\n",
              "   longitude_y  id vendor_category_en  delivery_charge  serving_distance  \\\n",
              "0       0.7544   4        Restaurants              0.0               6.0   \n",
              "1       0.7446  13        Restaurants              0.7               5.0   \n",
              "\n",
              "   is_open  prepration_time  vendor_rating  target     distance  \n",
              "0      1.0               15            4.4       0  7564.728539  \n",
              "1      1.0               14            4.7       0  7628.224806  "
            ],
            "text/html": [
              "\n",
              "  <div id=\"df-5b44a6c6-0da8-4b1b-9bcf-44770a143ed4\">\n",
              "    <div class=\"colab-df-container\">\n",
              "      <div>\n",
              "<style scoped>\n",
              "    .dataframe tbody tr th:only-of-type {\n",
              "        vertical-align: middle;\n",
              "    }\n",
              "\n",
              "    .dataframe tbody tr th {\n",
              "        vertical-align: top;\n",
              "    }\n",
              "\n",
              "    .dataframe thead th {\n",
              "        text-align: right;\n",
              "    }\n",
              "</style>\n",
              "<table border=\"1\" class=\"dataframe\">\n",
              "  <thead>\n",
              "    <tr style=\"text-align: right;\">\n",
              "      <th></th>\n",
              "      <th>gender</th>\n",
              "      <th>location_number</th>\n",
              "      <th>location_type</th>\n",
              "      <th>latitude_x</th>\n",
              "      <th>longitude_x</th>\n",
              "      <th>latitude_y</th>\n",
              "      <th>longitude_y</th>\n",
              "      <th>id</th>\n",
              "      <th>vendor_category_en</th>\n",
              "      <th>delivery_charge</th>\n",
              "      <th>serving_distance</th>\n",
              "      <th>is_open</th>\n",
              "      <th>prepration_time</th>\n",
              "      <th>vendor_rating</th>\n",
              "      <th>target</th>\n",
              "      <th>distance</th>\n",
              "    </tr>\n",
              "  </thead>\n",
              "  <tbody>\n",
              "    <tr>\n",
              "      <th>0</th>\n",
              "      <td>Male</td>\n",
              "      <td>0</td>\n",
              "      <td>Work</td>\n",
              "      <td>-96.44</td>\n",
              "      <td>-67.2</td>\n",
              "      <td>-0.5884</td>\n",
              "      <td>0.7544</td>\n",
              "      <td>4</td>\n",
              "      <td>Restaurants</td>\n",
              "      <td>0.0</td>\n",
              "      <td>6.0</td>\n",
              "      <td>1.0</td>\n",
              "      <td>15</td>\n",
              "      <td>4.4</td>\n",
              "      <td>0</td>\n",
              "      <td>7564.728539</td>\n",
              "    </tr>\n",
              "    <tr>\n",
              "      <th>1</th>\n",
              "      <td>Male</td>\n",
              "      <td>0</td>\n",
              "      <td>Work</td>\n",
              "      <td>-96.44</td>\n",
              "      <td>-67.2</td>\n",
              "      <td>-0.4717</td>\n",
              "      <td>0.7446</td>\n",
              "      <td>13</td>\n",
              "      <td>Restaurants</td>\n",
              "      <td>0.7</td>\n",
              "      <td>5.0</td>\n",
              "      <td>1.0</td>\n",
              "      <td>14</td>\n",
              "      <td>4.7</td>\n",
              "      <td>0</td>\n",
              "      <td>7628.224806</td>\n",
              "    </tr>\n",
              "  </tbody>\n",
              "</table>\n",
              "</div>\n",
              "      <button class=\"colab-df-convert\" onclick=\"convertToInteractive('df-5b44a6c6-0da8-4b1b-9bcf-44770a143ed4')\"\n",
              "              title=\"Convert this dataframe to an interactive table.\"\n",
              "              style=\"display:none;\">\n",
              "        \n",
              "  <svg xmlns=\"http://www.w3.org/2000/svg\" height=\"24px\"viewBox=\"0 0 24 24\"\n",
              "       width=\"24px\">\n",
              "    <path d=\"M0 0h24v24H0V0z\" fill=\"none\"/>\n",
              "    <path d=\"M18.56 5.44l.94 2.06.94-2.06 2.06-.94-2.06-.94-.94-2.06-.94 2.06-2.06.94zm-11 1L8.5 8.5l.94-2.06 2.06-.94-2.06-.94L8.5 2.5l-.94 2.06-2.06.94zm10 10l.94 2.06.94-2.06 2.06-.94-2.06-.94-.94-2.06-.94 2.06-2.06.94z\"/><path d=\"M17.41 7.96l-1.37-1.37c-.4-.4-.92-.59-1.43-.59-.52 0-1.04.2-1.43.59L10.3 9.45l-7.72 7.72c-.78.78-.78 2.05 0 2.83L4 21.41c.39.39.9.59 1.41.59.51 0 1.02-.2 1.41-.59l7.78-7.78 2.81-2.81c.8-.78.8-2.07 0-2.86zM5.41 20L4 18.59l7.72-7.72 1.47 1.35L5.41 20z\"/>\n",
              "  </svg>\n",
              "      </button>\n",
              "      \n",
              "  <style>\n",
              "    .colab-df-container {\n",
              "      display:flex;\n",
              "      flex-wrap:wrap;\n",
              "      gap: 12px;\n",
              "    }\n",
              "\n",
              "    .colab-df-convert {\n",
              "      background-color: #E8F0FE;\n",
              "      border: none;\n",
              "      border-radius: 50%;\n",
              "      cursor: pointer;\n",
              "      display: none;\n",
              "      fill: #1967D2;\n",
              "      height: 32px;\n",
              "      padding: 0 0 0 0;\n",
              "      width: 32px;\n",
              "    }\n",
              "\n",
              "    .colab-df-convert:hover {\n",
              "      background-color: #E2EBFA;\n",
              "      box-shadow: 0px 1px 2px rgba(60, 64, 67, 0.3), 0px 1px 3px 1px rgba(60, 64, 67, 0.15);\n",
              "      fill: #174EA6;\n",
              "    }\n",
              "\n",
              "    [theme=dark] .colab-df-convert {\n",
              "      background-color: #3B4455;\n",
              "      fill: #D2E3FC;\n",
              "    }\n",
              "\n",
              "    [theme=dark] .colab-df-convert:hover {\n",
              "      background-color: #434B5C;\n",
              "      box-shadow: 0px 1px 3px 1px rgba(0, 0, 0, 0.15);\n",
              "      filter: drop-shadow(0px 1px 2px rgba(0, 0, 0, 0.3));\n",
              "      fill: #FFFFFF;\n",
              "    }\n",
              "  </style>\n",
              "\n",
              "      <script>\n",
              "        const buttonEl =\n",
              "          document.querySelector('#df-5b44a6c6-0da8-4b1b-9bcf-44770a143ed4 button.colab-df-convert');\n",
              "        buttonEl.style.display =\n",
              "          google.colab.kernel.accessAllowed ? 'block' : 'none';\n",
              "\n",
              "        async function convertToInteractive(key) {\n",
              "          const element = document.querySelector('#df-5b44a6c6-0da8-4b1b-9bcf-44770a143ed4');\n",
              "          const dataTable =\n",
              "            await google.colab.kernel.invokeFunction('convertToInteractive',\n",
              "                                                     [key], {});\n",
              "          if (!dataTable) return;\n",
              "\n",
              "          const docLinkHtml = 'Like what you see? Visit the ' +\n",
              "            '<a target=\"_blank\" href=https://colab.research.google.com/notebooks/data_table.ipynb>data table notebook</a>'\n",
              "            + ' to learn more about interactive tables.';\n",
              "          element.innerHTML = '';\n",
              "          dataTable['output_type'] = 'display_data';\n",
              "          await google.colab.output.renderOutput(dataTable, element);\n",
              "          const docLink = document.createElement('div');\n",
              "          docLink.innerHTML = docLinkHtml;\n",
              "          element.appendChild(docLink);\n",
              "        }\n",
              "      </script>\n",
              "    </div>\n",
              "  </div>\n",
              "  "
            ]
          },
          "metadata": {},
          "execution_count": 62
        }
      ]
    },
    {
      "cell_type": "code",
      "source": [
        "# label encoding the string data\n",
        "from sklearn.preprocessing import LabelEncoder\n",
        "le = LabelEncoder()\n",
        "train['gender']= le.fit_transform(train['gender'].astype(str))\n",
        "train['location_type']= le.fit_transform(train['location_type'].astype(str))\n",
        "train['vendor_category_en']= le.fit_transform(train['vendor_category_en'].astype(str))\n",
        "train.head(2)"
      ],
      "metadata": {
        "id": "1LNl1Pf_ZkEZ",
        "colab": {
          "base_uri": "https://localhost:8080/",
          "height": 176
        },
        "outputId": "c9bf5dc8-1955-49fb-ab97-1015ccdb8d09"
      },
      "execution_count": 63,
      "outputs": [
        {
          "output_type": "execute_result",
          "data": {
            "text/plain": [
              "   gender  location_number  location_type  latitude_x  longitude_x  \\\n",
              "0       1                0              2      -96.44        -67.2   \n",
              "1       1                0              2      -96.44        -67.2   \n",
              "\n",
              "   latitude_y  longitude_y  id  vendor_category_en  delivery_charge  \\\n",
              "0     -0.5884       0.7544   4                   0              0.0   \n",
              "1     -0.4717       0.7446  13                   0              0.7   \n",
              "\n",
              "   serving_distance  is_open  prepration_time  vendor_rating  target  \\\n",
              "0               6.0      1.0               15            4.4       0   \n",
              "1               5.0      1.0               14            4.7       0   \n",
              "\n",
              "      distance  \n",
              "0  7564.728539  \n",
              "1  7628.224806  "
            ],
            "text/html": [
              "\n",
              "  <div id=\"df-d10a2887-69ff-4142-a080-ebcffead20b8\">\n",
              "    <div class=\"colab-df-container\">\n",
              "      <div>\n",
              "<style scoped>\n",
              "    .dataframe tbody tr th:only-of-type {\n",
              "        vertical-align: middle;\n",
              "    }\n",
              "\n",
              "    .dataframe tbody tr th {\n",
              "        vertical-align: top;\n",
              "    }\n",
              "\n",
              "    .dataframe thead th {\n",
              "        text-align: right;\n",
              "    }\n",
              "</style>\n",
              "<table border=\"1\" class=\"dataframe\">\n",
              "  <thead>\n",
              "    <tr style=\"text-align: right;\">\n",
              "      <th></th>\n",
              "      <th>gender</th>\n",
              "      <th>location_number</th>\n",
              "      <th>location_type</th>\n",
              "      <th>latitude_x</th>\n",
              "      <th>longitude_x</th>\n",
              "      <th>latitude_y</th>\n",
              "      <th>longitude_y</th>\n",
              "      <th>id</th>\n",
              "      <th>vendor_category_en</th>\n",
              "      <th>delivery_charge</th>\n",
              "      <th>serving_distance</th>\n",
              "      <th>is_open</th>\n",
              "      <th>prepration_time</th>\n",
              "      <th>vendor_rating</th>\n",
              "      <th>target</th>\n",
              "      <th>distance</th>\n",
              "    </tr>\n",
              "  </thead>\n",
              "  <tbody>\n",
              "    <tr>\n",
              "      <th>0</th>\n",
              "      <td>1</td>\n",
              "      <td>0</td>\n",
              "      <td>2</td>\n",
              "      <td>-96.44</td>\n",
              "      <td>-67.2</td>\n",
              "      <td>-0.5884</td>\n",
              "      <td>0.7544</td>\n",
              "      <td>4</td>\n",
              "      <td>0</td>\n",
              "      <td>0.0</td>\n",
              "      <td>6.0</td>\n",
              "      <td>1.0</td>\n",
              "      <td>15</td>\n",
              "      <td>4.4</td>\n",
              "      <td>0</td>\n",
              "      <td>7564.728539</td>\n",
              "    </tr>\n",
              "    <tr>\n",
              "      <th>1</th>\n",
              "      <td>1</td>\n",
              "      <td>0</td>\n",
              "      <td>2</td>\n",
              "      <td>-96.44</td>\n",
              "      <td>-67.2</td>\n",
              "      <td>-0.4717</td>\n",
              "      <td>0.7446</td>\n",
              "      <td>13</td>\n",
              "      <td>0</td>\n",
              "      <td>0.7</td>\n",
              "      <td>5.0</td>\n",
              "      <td>1.0</td>\n",
              "      <td>14</td>\n",
              "      <td>4.7</td>\n",
              "      <td>0</td>\n",
              "      <td>7628.224806</td>\n",
              "    </tr>\n",
              "  </tbody>\n",
              "</table>\n",
              "</div>\n",
              "      <button class=\"colab-df-convert\" onclick=\"convertToInteractive('df-d10a2887-69ff-4142-a080-ebcffead20b8')\"\n",
              "              title=\"Convert this dataframe to an interactive table.\"\n",
              "              style=\"display:none;\">\n",
              "        \n",
              "  <svg xmlns=\"http://www.w3.org/2000/svg\" height=\"24px\"viewBox=\"0 0 24 24\"\n",
              "       width=\"24px\">\n",
              "    <path d=\"M0 0h24v24H0V0z\" fill=\"none\"/>\n",
              "    <path d=\"M18.56 5.44l.94 2.06.94-2.06 2.06-.94-2.06-.94-.94-2.06-.94 2.06-2.06.94zm-11 1L8.5 8.5l.94-2.06 2.06-.94-2.06-.94L8.5 2.5l-.94 2.06-2.06.94zm10 10l.94 2.06.94-2.06 2.06-.94-2.06-.94-.94-2.06-.94 2.06-2.06.94z\"/><path d=\"M17.41 7.96l-1.37-1.37c-.4-.4-.92-.59-1.43-.59-.52 0-1.04.2-1.43.59L10.3 9.45l-7.72 7.72c-.78.78-.78 2.05 0 2.83L4 21.41c.39.39.9.59 1.41.59.51 0 1.02-.2 1.41-.59l7.78-7.78 2.81-2.81c.8-.78.8-2.07 0-2.86zM5.41 20L4 18.59l7.72-7.72 1.47 1.35L5.41 20z\"/>\n",
              "  </svg>\n",
              "      </button>\n",
              "      \n",
              "  <style>\n",
              "    .colab-df-container {\n",
              "      display:flex;\n",
              "      flex-wrap:wrap;\n",
              "      gap: 12px;\n",
              "    }\n",
              "\n",
              "    .colab-df-convert {\n",
              "      background-color: #E8F0FE;\n",
              "      border: none;\n",
              "      border-radius: 50%;\n",
              "      cursor: pointer;\n",
              "      display: none;\n",
              "      fill: #1967D2;\n",
              "      height: 32px;\n",
              "      padding: 0 0 0 0;\n",
              "      width: 32px;\n",
              "    }\n",
              "\n",
              "    .colab-df-convert:hover {\n",
              "      background-color: #E2EBFA;\n",
              "      box-shadow: 0px 1px 2px rgba(60, 64, 67, 0.3), 0px 1px 3px 1px rgba(60, 64, 67, 0.15);\n",
              "      fill: #174EA6;\n",
              "    }\n",
              "\n",
              "    [theme=dark] .colab-df-convert {\n",
              "      background-color: #3B4455;\n",
              "      fill: #D2E3FC;\n",
              "    }\n",
              "\n",
              "    [theme=dark] .colab-df-convert:hover {\n",
              "      background-color: #434B5C;\n",
              "      box-shadow: 0px 1px 3px 1px rgba(0, 0, 0, 0.15);\n",
              "      filter: drop-shadow(0px 1px 2px rgba(0, 0, 0, 0.3));\n",
              "      fill: #FFFFFF;\n",
              "    }\n",
              "  </style>\n",
              "\n",
              "      <script>\n",
              "        const buttonEl =\n",
              "          document.querySelector('#df-d10a2887-69ff-4142-a080-ebcffead20b8 button.colab-df-convert');\n",
              "        buttonEl.style.display =\n",
              "          google.colab.kernel.accessAllowed ? 'block' : 'none';\n",
              "\n",
              "        async function convertToInteractive(key) {\n",
              "          const element = document.querySelector('#df-d10a2887-69ff-4142-a080-ebcffead20b8');\n",
              "          const dataTable =\n",
              "            await google.colab.kernel.invokeFunction('convertToInteractive',\n",
              "                                                     [key], {});\n",
              "          if (!dataTable) return;\n",
              "\n",
              "          const docLinkHtml = 'Like what you see? Visit the ' +\n",
              "            '<a target=\"_blank\" href=https://colab.research.google.com/notebooks/data_table.ipynb>data table notebook</a>'\n",
              "            + ' to learn more about interactive tables.';\n",
              "          element.innerHTML = '';\n",
              "          dataTable['output_type'] = 'display_data';\n",
              "          await google.colab.output.renderOutput(dataTable, element);\n",
              "          const docLink = document.createElement('div');\n",
              "          docLink.innerHTML = docLinkHtml;\n",
              "          element.appendChild(docLink);\n",
              "        }\n",
              "      </script>\n",
              "    </div>\n",
              "  </div>\n",
              "  "
            ]
          },
          "metadata": {},
          "execution_count": 63
        }
      ]
    },
    {
      "cell_type": "code",
      "source": [
        "print(train.shape)\n",
        "train.columns"
      ],
      "metadata": {
        "id": "rC7VigN-ZrRZ",
        "colab": {
          "base_uri": "https://localhost:8080/"
        },
        "outputId": "ff96a3aa-93ff-4177-842e-180870f4ed5d"
      },
      "execution_count": 64,
      "outputs": [
        {
          "output_type": "stream",
          "name": "stdout",
          "text": [
            "(6100, 16)\n"
          ]
        },
        {
          "output_type": "execute_result",
          "data": {
            "text/plain": [
              "Index(['gender', 'location_number', 'location_type', 'latitude_x',\n",
              "       'longitude_x', 'latitude_y', 'longitude_y', 'id', 'vendor_category_en',\n",
              "       'delivery_charge', 'serving_distance', 'is_open', 'prepration_time',\n",
              "       'vendor_rating', 'target', 'distance'],\n",
              "      dtype='object')"
            ]
          },
          "metadata": {},
          "execution_count": 64
        }
      ]
    },
    {
      "cell_type": "code",
      "source": [
        "# applying one-hot encoding to all the categorical data\n",
        "gen = pd.get_dummies(train['gender'])\n",
        "ltype = pd.get_dummies(train['location_type'])\n",
        "venc = pd.get_dummies(train['vendor_category_en'])\n",
        "dev = pd.get_dummies(train['delivery_charge'])\n",
        "dis = pd.get_dummies(train['serving_distance'])\n",
        "opn = pd.get_dummies(train['is_open'])\n",
        "ptime = pd.get_dummies(train['prepration_time'])\n",
        "rat = pd.get_dummies(train['vendor_rating'])"
      ],
      "metadata": {
        "id": "YKcZBY9gZvyH"
      },
      "execution_count": 65,
      "outputs": []
    },
    {
      "cell_type": "code",
      "source": [
        "final_train = pd.concat([train[['latitude_x','longitude_x','latitude_y','longitude_y','id','location_number','distance']], \\\n",
        "                         gen, ltype, venc, dev, dis, opn, ptime, rat, train['target']], axis=1)\n",
        "final_train.shape"
      ],
      "metadata": {
        "id": "a5spEesXZyvB",
        "colab": {
          "base_uri": "https://localhost:8080/"
        },
        "outputId": "4b84d4a7-4b15-40f3-ed86-4715736867ec"
      },
      "execution_count": 66,
      "outputs": [
        {
          "output_type": "execute_result",
          "data": {
            "text/plain": [
              "(6100, 55)"
            ]
          },
          "metadata": {},
          "execution_count": 66
        }
      ]
    },
    {
      "cell_type": "code",
      "source": [
        "#encoding the test files\n",
        "test = pd.read_csv('/content/drive/MyDrive/Traveloka/test_full.csv')\n",
        "test.head(2)"
      ],
      "metadata": {
        "id": "HYfY8_dlZ1VK",
        "colab": {
          "base_uri": "https://localhost:8080/",
          "height": 292
        },
        "outputId": "fc40931a-60fd-4e07-ff02-f3e64408314a"
      },
      "execution_count": 67,
      "outputs": [
        {
          "output_type": "execute_result",
          "data": {
            "text/plain": [
              "  customer_id gender  status_x  verified_x         created_at_x  \\\n",
              "0     ICE2DJP   Male       1.0         1.0  2018-02-07 16:45:36   \n",
              "1     ICE2DJP   Male       1.0         1.0  2018-02-07 16:45:36   \n",
              "\n",
              "          updated_at_x  location_number location_type  latitude_x  \\\n",
              "0  2018-02-07 16:45:36              0.0           NaN      -96.44   \n",
              "1  2018-02-07 16:45:36              0.0           NaN      -96.44   \n",
              "\n",
              "   longitude_x  ...  one_click_vendor  country_id  city_id  \\\n",
              "0        -67.2  ...                 Y         1.0      1.0   \n",
              "1        -67.2  ...                 Y         1.0      1.0   \n",
              "\n",
              "          created_at_y         updated_at_y  device_type  display_orders  \\\n",
              "0  2018-01-30 14:42:04  2020-04-07 15:12:43          3.0             1.0   \n",
              "1  2018-05-03 12:32:06  2020-04-05 20:46:03          3.0             1.0   \n",
              "\n",
              "   location_number_obj  id_obj CID X LOC_NUM X VENDOR  \n",
              "0                  0.0     4.0        ICE2DJP X 0 X 4  \n",
              "1                  0.0    13.0       ICE2DJP X 0 X 13  \n",
              "\n",
              "[2 rows x 72 columns]"
            ],
            "text/html": [
              "\n",
              "  <div id=\"df-678d4356-7ab6-4001-8236-0a280068bcb7\">\n",
              "    <div class=\"colab-df-container\">\n",
              "      <div>\n",
              "<style scoped>\n",
              "    .dataframe tbody tr th:only-of-type {\n",
              "        vertical-align: middle;\n",
              "    }\n",
              "\n",
              "    .dataframe tbody tr th {\n",
              "        vertical-align: top;\n",
              "    }\n",
              "\n",
              "    .dataframe thead th {\n",
              "        text-align: right;\n",
              "    }\n",
              "</style>\n",
              "<table border=\"1\" class=\"dataframe\">\n",
              "  <thead>\n",
              "    <tr style=\"text-align: right;\">\n",
              "      <th></th>\n",
              "      <th>customer_id</th>\n",
              "      <th>gender</th>\n",
              "      <th>status_x</th>\n",
              "      <th>verified_x</th>\n",
              "      <th>created_at_x</th>\n",
              "      <th>updated_at_x</th>\n",
              "      <th>location_number</th>\n",
              "      <th>location_type</th>\n",
              "      <th>latitude_x</th>\n",
              "      <th>longitude_x</th>\n",
              "      <th>...</th>\n",
              "      <th>one_click_vendor</th>\n",
              "      <th>country_id</th>\n",
              "      <th>city_id</th>\n",
              "      <th>created_at_y</th>\n",
              "      <th>updated_at_y</th>\n",
              "      <th>device_type</th>\n",
              "      <th>display_orders</th>\n",
              "      <th>location_number_obj</th>\n",
              "      <th>id_obj</th>\n",
              "      <th>CID X LOC_NUM X VENDOR</th>\n",
              "    </tr>\n",
              "  </thead>\n",
              "  <tbody>\n",
              "    <tr>\n",
              "      <th>0</th>\n",
              "      <td>ICE2DJP</td>\n",
              "      <td>Male</td>\n",
              "      <td>1.0</td>\n",
              "      <td>1.0</td>\n",
              "      <td>2018-02-07 16:45:36</td>\n",
              "      <td>2018-02-07 16:45:36</td>\n",
              "      <td>0.0</td>\n",
              "      <td>NaN</td>\n",
              "      <td>-96.44</td>\n",
              "      <td>-67.2</td>\n",
              "      <td>...</td>\n",
              "      <td>Y</td>\n",
              "      <td>1.0</td>\n",
              "      <td>1.0</td>\n",
              "      <td>2018-01-30 14:42:04</td>\n",
              "      <td>2020-04-07 15:12:43</td>\n",
              "      <td>3.0</td>\n",
              "      <td>1.0</td>\n",
              "      <td>0.0</td>\n",
              "      <td>4.0</td>\n",
              "      <td>ICE2DJP X 0 X 4</td>\n",
              "    </tr>\n",
              "    <tr>\n",
              "      <th>1</th>\n",
              "      <td>ICE2DJP</td>\n",
              "      <td>Male</td>\n",
              "      <td>1.0</td>\n",
              "      <td>1.0</td>\n",
              "      <td>2018-02-07 16:45:36</td>\n",
              "      <td>2018-02-07 16:45:36</td>\n",
              "      <td>0.0</td>\n",
              "      <td>NaN</td>\n",
              "      <td>-96.44</td>\n",
              "      <td>-67.2</td>\n",
              "      <td>...</td>\n",
              "      <td>Y</td>\n",
              "      <td>1.0</td>\n",
              "      <td>1.0</td>\n",
              "      <td>2018-05-03 12:32:06</td>\n",
              "      <td>2020-04-05 20:46:03</td>\n",
              "      <td>3.0</td>\n",
              "      <td>1.0</td>\n",
              "      <td>0.0</td>\n",
              "      <td>13.0</td>\n",
              "      <td>ICE2DJP X 0 X 13</td>\n",
              "    </tr>\n",
              "  </tbody>\n",
              "</table>\n",
              "<p>2 rows × 72 columns</p>\n",
              "</div>\n",
              "      <button class=\"colab-df-convert\" onclick=\"convertToInteractive('df-678d4356-7ab6-4001-8236-0a280068bcb7')\"\n",
              "              title=\"Convert this dataframe to an interactive table.\"\n",
              "              style=\"display:none;\">\n",
              "        \n",
              "  <svg xmlns=\"http://www.w3.org/2000/svg\" height=\"24px\"viewBox=\"0 0 24 24\"\n",
              "       width=\"24px\">\n",
              "    <path d=\"M0 0h24v24H0V0z\" fill=\"none\"/>\n",
              "    <path d=\"M18.56 5.44l.94 2.06.94-2.06 2.06-.94-2.06-.94-.94-2.06-.94 2.06-2.06.94zm-11 1L8.5 8.5l.94-2.06 2.06-.94-2.06-.94L8.5 2.5l-.94 2.06-2.06.94zm10 10l.94 2.06.94-2.06 2.06-.94-2.06-.94-.94-2.06-.94 2.06-2.06.94z\"/><path d=\"M17.41 7.96l-1.37-1.37c-.4-.4-.92-.59-1.43-.59-.52 0-1.04.2-1.43.59L10.3 9.45l-7.72 7.72c-.78.78-.78 2.05 0 2.83L4 21.41c.39.39.9.59 1.41.59.51 0 1.02-.2 1.41-.59l7.78-7.78 2.81-2.81c.8-.78.8-2.07 0-2.86zM5.41 20L4 18.59l7.72-7.72 1.47 1.35L5.41 20z\"/>\n",
              "  </svg>\n",
              "      </button>\n",
              "      \n",
              "  <style>\n",
              "    .colab-df-container {\n",
              "      display:flex;\n",
              "      flex-wrap:wrap;\n",
              "      gap: 12px;\n",
              "    }\n",
              "\n",
              "    .colab-df-convert {\n",
              "      background-color: #E8F0FE;\n",
              "      border: none;\n",
              "      border-radius: 50%;\n",
              "      cursor: pointer;\n",
              "      display: none;\n",
              "      fill: #1967D2;\n",
              "      height: 32px;\n",
              "      padding: 0 0 0 0;\n",
              "      width: 32px;\n",
              "    }\n",
              "\n",
              "    .colab-df-convert:hover {\n",
              "      background-color: #E2EBFA;\n",
              "      box-shadow: 0px 1px 2px rgba(60, 64, 67, 0.3), 0px 1px 3px 1px rgba(60, 64, 67, 0.15);\n",
              "      fill: #174EA6;\n",
              "    }\n",
              "\n",
              "    [theme=dark] .colab-df-convert {\n",
              "      background-color: #3B4455;\n",
              "      fill: #D2E3FC;\n",
              "    }\n",
              "\n",
              "    [theme=dark] .colab-df-convert:hover {\n",
              "      background-color: #434B5C;\n",
              "      box-shadow: 0px 1px 3px 1px rgba(0, 0, 0, 0.15);\n",
              "      filter: drop-shadow(0px 1px 2px rgba(0, 0, 0, 0.3));\n",
              "      fill: #FFFFFF;\n",
              "    }\n",
              "  </style>\n",
              "\n",
              "      <script>\n",
              "        const buttonEl =\n",
              "          document.querySelector('#df-678d4356-7ab6-4001-8236-0a280068bcb7 button.colab-df-convert');\n",
              "        buttonEl.style.display =\n",
              "          google.colab.kernel.accessAllowed ? 'block' : 'none';\n",
              "\n",
              "        async function convertToInteractive(key) {\n",
              "          const element = document.querySelector('#df-678d4356-7ab6-4001-8236-0a280068bcb7');\n",
              "          const dataTable =\n",
              "            await google.colab.kernel.invokeFunction('convertToInteractive',\n",
              "                                                     [key], {});\n",
              "          if (!dataTable) return;\n",
              "\n",
              "          const docLinkHtml = 'Like what you see? Visit the ' +\n",
              "            '<a target=\"_blank\" href=https://colab.research.google.com/notebooks/data_table.ipynb>data table notebook</a>'\n",
              "            + ' to learn more about interactive tables.';\n",
              "          element.innerHTML = '';\n",
              "          dataTable['output_type'] = 'display_data';\n",
              "          await google.colab.output.renderOutput(dataTable, element);\n",
              "          const docLink = document.createElement('div');\n",
              "          docLink.innerHTML = docLinkHtml;\n",
              "          element.appendChild(docLink);\n",
              "        }\n",
              "      </script>\n",
              "    </div>\n",
              "  </div>\n",
              "  "
            ]
          },
          "metadata": {},
          "execution_count": 67
        }
      ]
    },
    {
      "cell_type": "code",
      "source": [
        "test = test[['gender','location_number','location_type','latitude_x',\\\n",
        "           'longitude_x','latitude_y','longitude_y','id','vendor_category_en','delivery_charge',\\\n",
        "           'serving_distance','is_open','prepration_time','vendor_rating']]\n",
        "print(test.shape)\n",
        "test.head(2)"
      ],
      "metadata": {
        "id": "7D8LW1zqZ4WI",
        "colab": {
          "base_uri": "https://localhost:8080/",
          "height": 193
        },
        "outputId": "880739d4-bf04-42ae-d131-3c166a90cbee"
      },
      "execution_count": 68,
      "outputs": [
        {
          "output_type": "stream",
          "name": "stdout",
          "text": [
            "(1672000, 14)\n"
          ]
        },
        {
          "output_type": "execute_result",
          "data": {
            "text/plain": [
              "  gender  location_number location_type  latitude_x  longitude_x  latitude_y  \\\n",
              "0   Male              0.0           NaN      -96.44        -67.2     -0.5884   \n",
              "1   Male              0.0           NaN      -96.44        -67.2     -0.4717   \n",
              "\n",
              "   longitude_y    id vendor_category_en  delivery_charge  serving_distance  \\\n",
              "0       0.7544   4.0        Restaurants              0.0               6.0   \n",
              "1       0.7446  13.0        Restaurants              0.7               5.0   \n",
              "\n",
              "   is_open  prepration_time  vendor_rating  \n",
              "0      1.0             15.0            4.4  \n",
              "1      1.0             14.0            4.7  "
            ],
            "text/html": [
              "\n",
              "  <div id=\"df-6ae7aae2-dfd9-4af3-a38e-1ce08881768a\">\n",
              "    <div class=\"colab-df-container\">\n",
              "      <div>\n",
              "<style scoped>\n",
              "    .dataframe tbody tr th:only-of-type {\n",
              "        vertical-align: middle;\n",
              "    }\n",
              "\n",
              "    .dataframe tbody tr th {\n",
              "        vertical-align: top;\n",
              "    }\n",
              "\n",
              "    .dataframe thead th {\n",
              "        text-align: right;\n",
              "    }\n",
              "</style>\n",
              "<table border=\"1\" class=\"dataframe\">\n",
              "  <thead>\n",
              "    <tr style=\"text-align: right;\">\n",
              "      <th></th>\n",
              "      <th>gender</th>\n",
              "      <th>location_number</th>\n",
              "      <th>location_type</th>\n",
              "      <th>latitude_x</th>\n",
              "      <th>longitude_x</th>\n",
              "      <th>latitude_y</th>\n",
              "      <th>longitude_y</th>\n",
              "      <th>id</th>\n",
              "      <th>vendor_category_en</th>\n",
              "      <th>delivery_charge</th>\n",
              "      <th>serving_distance</th>\n",
              "      <th>is_open</th>\n",
              "      <th>prepration_time</th>\n",
              "      <th>vendor_rating</th>\n",
              "    </tr>\n",
              "  </thead>\n",
              "  <tbody>\n",
              "    <tr>\n",
              "      <th>0</th>\n",
              "      <td>Male</td>\n",
              "      <td>0.0</td>\n",
              "      <td>NaN</td>\n",
              "      <td>-96.44</td>\n",
              "      <td>-67.2</td>\n",
              "      <td>-0.5884</td>\n",
              "      <td>0.7544</td>\n",
              "      <td>4.0</td>\n",
              "      <td>Restaurants</td>\n",
              "      <td>0.0</td>\n",
              "      <td>6.0</td>\n",
              "      <td>1.0</td>\n",
              "      <td>15.0</td>\n",
              "      <td>4.4</td>\n",
              "    </tr>\n",
              "    <tr>\n",
              "      <th>1</th>\n",
              "      <td>Male</td>\n",
              "      <td>0.0</td>\n",
              "      <td>NaN</td>\n",
              "      <td>-96.44</td>\n",
              "      <td>-67.2</td>\n",
              "      <td>-0.4717</td>\n",
              "      <td>0.7446</td>\n",
              "      <td>13.0</td>\n",
              "      <td>Restaurants</td>\n",
              "      <td>0.7</td>\n",
              "      <td>5.0</td>\n",
              "      <td>1.0</td>\n",
              "      <td>14.0</td>\n",
              "      <td>4.7</td>\n",
              "    </tr>\n",
              "  </tbody>\n",
              "</table>\n",
              "</div>\n",
              "      <button class=\"colab-df-convert\" onclick=\"convertToInteractive('df-6ae7aae2-dfd9-4af3-a38e-1ce08881768a')\"\n",
              "              title=\"Convert this dataframe to an interactive table.\"\n",
              "              style=\"display:none;\">\n",
              "        \n",
              "  <svg xmlns=\"http://www.w3.org/2000/svg\" height=\"24px\"viewBox=\"0 0 24 24\"\n",
              "       width=\"24px\">\n",
              "    <path d=\"M0 0h24v24H0V0z\" fill=\"none\"/>\n",
              "    <path d=\"M18.56 5.44l.94 2.06.94-2.06 2.06-.94-2.06-.94-.94-2.06-.94 2.06-2.06.94zm-11 1L8.5 8.5l.94-2.06 2.06-.94-2.06-.94L8.5 2.5l-.94 2.06-2.06.94zm10 10l.94 2.06.94-2.06 2.06-.94-2.06-.94-.94-2.06-.94 2.06-2.06.94z\"/><path d=\"M17.41 7.96l-1.37-1.37c-.4-.4-.92-.59-1.43-.59-.52 0-1.04.2-1.43.59L10.3 9.45l-7.72 7.72c-.78.78-.78 2.05 0 2.83L4 21.41c.39.39.9.59 1.41.59.51 0 1.02-.2 1.41-.59l7.78-7.78 2.81-2.81c.8-.78.8-2.07 0-2.86zM5.41 20L4 18.59l7.72-7.72 1.47 1.35L5.41 20z\"/>\n",
              "  </svg>\n",
              "      </button>\n",
              "      \n",
              "  <style>\n",
              "    .colab-df-container {\n",
              "      display:flex;\n",
              "      flex-wrap:wrap;\n",
              "      gap: 12px;\n",
              "    }\n",
              "\n",
              "    .colab-df-convert {\n",
              "      background-color: #E8F0FE;\n",
              "      border: none;\n",
              "      border-radius: 50%;\n",
              "      cursor: pointer;\n",
              "      display: none;\n",
              "      fill: #1967D2;\n",
              "      height: 32px;\n",
              "      padding: 0 0 0 0;\n",
              "      width: 32px;\n",
              "    }\n",
              "\n",
              "    .colab-df-convert:hover {\n",
              "      background-color: #E2EBFA;\n",
              "      box-shadow: 0px 1px 2px rgba(60, 64, 67, 0.3), 0px 1px 3px 1px rgba(60, 64, 67, 0.15);\n",
              "      fill: #174EA6;\n",
              "    }\n",
              "\n",
              "    [theme=dark] .colab-df-convert {\n",
              "      background-color: #3B4455;\n",
              "      fill: #D2E3FC;\n",
              "    }\n",
              "\n",
              "    [theme=dark] .colab-df-convert:hover {\n",
              "      background-color: #434B5C;\n",
              "      box-shadow: 0px 1px 3px 1px rgba(0, 0, 0, 0.15);\n",
              "      filter: drop-shadow(0px 1px 2px rgba(0, 0, 0, 0.3));\n",
              "      fill: #FFFFFF;\n",
              "    }\n",
              "  </style>\n",
              "\n",
              "      <script>\n",
              "        const buttonEl =\n",
              "          document.querySelector('#df-6ae7aae2-dfd9-4af3-a38e-1ce08881768a button.colab-df-convert');\n",
              "        buttonEl.style.display =\n",
              "          google.colab.kernel.accessAllowed ? 'block' : 'none';\n",
              "\n",
              "        async function convertToInteractive(key) {\n",
              "          const element = document.querySelector('#df-6ae7aae2-dfd9-4af3-a38e-1ce08881768a');\n",
              "          const dataTable =\n",
              "            await google.colab.kernel.invokeFunction('convertToInteractive',\n",
              "                                                     [key], {});\n",
              "          if (!dataTable) return;\n",
              "\n",
              "          const docLinkHtml = 'Like what you see? Visit the ' +\n",
              "            '<a target=\"_blank\" href=https://colab.research.google.com/notebooks/data_table.ipynb>data table notebook</a>'\n",
              "            + ' to learn more about interactive tables.';\n",
              "          element.innerHTML = '';\n",
              "          dataTable['output_type'] = 'display_data';\n",
              "          await google.colab.output.renderOutput(dataTable, element);\n",
              "          const docLink = document.createElement('div');\n",
              "          docLink.innerHTML = docLinkHtml;\n",
              "          element.appendChild(docLink);\n",
              "        }\n",
              "      </script>\n",
              "    </div>\n",
              "  </div>\n",
              "  "
            ]
          },
          "metadata": {},
          "execution_count": 68
        }
      ]
    },
    {
      "cell_type": "code",
      "source": [
        "import haversine\n",
        "from haversine import haversine_vector, Unit\n",
        "\n",
        "dist = []\n",
        "test.dropna(inplace=True)\n",
        "for i in test.values:\n",
        "    a = (i[4], i[5])\n",
        "    b = (i[6], i[7])\n",
        "    dist.append(haversine_vector([a], [b], Unit.KILOMETERS)[0])\n",
        "\n",
        "test['distance'] = dist\n",
        "test.head(2)"
      ],
      "metadata": {
        "id": "4nHuUjuXZ7U5",
        "colab": {
          "base_uri": "https://localhost:8080/",
          "height": 176
        },
        "outputId": "74852d4c-2a98-4fd4-e281-4fe92071947b"
      },
      "execution_count": 69,
      "outputs": [
        {
          "output_type": "execute_result",
          "data": {
            "text/plain": [
              "    gender  location_number location_type  latitude_x  longitude_x  \\\n",
              "200   Male              2.0         Other       -95.1         43.7   \n",
              "201   Male              2.0         Other       -95.1         43.7   \n",
              "\n",
              "     latitude_y  longitude_y    id vendor_category_en  delivery_charge  \\\n",
              "200     -0.5884       0.7544   4.0        Restaurants              0.0   \n",
              "201     -0.4717       0.7446  13.0        Restaurants              0.7   \n",
              "\n",
              "     serving_distance  is_open  prepration_time  vendor_rating     distance  \n",
              "200               6.0      1.0             15.0            4.4  4796.965287  \n",
              "201               5.0      1.0             14.0            4.7  4959.594290  "
            ],
            "text/html": [
              "\n",
              "  <div id=\"df-64183b3f-7a48-40ea-a140-c2c2cf57f6ef\">\n",
              "    <div class=\"colab-df-container\">\n",
              "      <div>\n",
              "<style scoped>\n",
              "    .dataframe tbody tr th:only-of-type {\n",
              "        vertical-align: middle;\n",
              "    }\n",
              "\n",
              "    .dataframe tbody tr th {\n",
              "        vertical-align: top;\n",
              "    }\n",
              "\n",
              "    .dataframe thead th {\n",
              "        text-align: right;\n",
              "    }\n",
              "</style>\n",
              "<table border=\"1\" class=\"dataframe\">\n",
              "  <thead>\n",
              "    <tr style=\"text-align: right;\">\n",
              "      <th></th>\n",
              "      <th>gender</th>\n",
              "      <th>location_number</th>\n",
              "      <th>location_type</th>\n",
              "      <th>latitude_x</th>\n",
              "      <th>longitude_x</th>\n",
              "      <th>latitude_y</th>\n",
              "      <th>longitude_y</th>\n",
              "      <th>id</th>\n",
              "      <th>vendor_category_en</th>\n",
              "      <th>delivery_charge</th>\n",
              "      <th>serving_distance</th>\n",
              "      <th>is_open</th>\n",
              "      <th>prepration_time</th>\n",
              "      <th>vendor_rating</th>\n",
              "      <th>distance</th>\n",
              "    </tr>\n",
              "  </thead>\n",
              "  <tbody>\n",
              "    <tr>\n",
              "      <th>200</th>\n",
              "      <td>Male</td>\n",
              "      <td>2.0</td>\n",
              "      <td>Other</td>\n",
              "      <td>-95.1</td>\n",
              "      <td>43.7</td>\n",
              "      <td>-0.5884</td>\n",
              "      <td>0.7544</td>\n",
              "      <td>4.0</td>\n",
              "      <td>Restaurants</td>\n",
              "      <td>0.0</td>\n",
              "      <td>6.0</td>\n",
              "      <td>1.0</td>\n",
              "      <td>15.0</td>\n",
              "      <td>4.4</td>\n",
              "      <td>4796.965287</td>\n",
              "    </tr>\n",
              "    <tr>\n",
              "      <th>201</th>\n",
              "      <td>Male</td>\n",
              "      <td>2.0</td>\n",
              "      <td>Other</td>\n",
              "      <td>-95.1</td>\n",
              "      <td>43.7</td>\n",
              "      <td>-0.4717</td>\n",
              "      <td>0.7446</td>\n",
              "      <td>13.0</td>\n",
              "      <td>Restaurants</td>\n",
              "      <td>0.7</td>\n",
              "      <td>5.0</td>\n",
              "      <td>1.0</td>\n",
              "      <td>14.0</td>\n",
              "      <td>4.7</td>\n",
              "      <td>4959.594290</td>\n",
              "    </tr>\n",
              "  </tbody>\n",
              "</table>\n",
              "</div>\n",
              "      <button class=\"colab-df-convert\" onclick=\"convertToInteractive('df-64183b3f-7a48-40ea-a140-c2c2cf57f6ef')\"\n",
              "              title=\"Convert this dataframe to an interactive table.\"\n",
              "              style=\"display:none;\">\n",
              "        \n",
              "  <svg xmlns=\"http://www.w3.org/2000/svg\" height=\"24px\"viewBox=\"0 0 24 24\"\n",
              "       width=\"24px\">\n",
              "    <path d=\"M0 0h24v24H0V0z\" fill=\"none\"/>\n",
              "    <path d=\"M18.56 5.44l.94 2.06.94-2.06 2.06-.94-2.06-.94-.94-2.06-.94 2.06-2.06.94zm-11 1L8.5 8.5l.94-2.06 2.06-.94-2.06-.94L8.5 2.5l-.94 2.06-2.06.94zm10 10l.94 2.06.94-2.06 2.06-.94-2.06-.94-.94-2.06-.94 2.06-2.06.94z\"/><path d=\"M17.41 7.96l-1.37-1.37c-.4-.4-.92-.59-1.43-.59-.52 0-1.04.2-1.43.59L10.3 9.45l-7.72 7.72c-.78.78-.78 2.05 0 2.83L4 21.41c.39.39.9.59 1.41.59.51 0 1.02-.2 1.41-.59l7.78-7.78 2.81-2.81c.8-.78.8-2.07 0-2.86zM5.41 20L4 18.59l7.72-7.72 1.47 1.35L5.41 20z\"/>\n",
              "  </svg>\n",
              "      </button>\n",
              "      \n",
              "  <style>\n",
              "    .colab-df-container {\n",
              "      display:flex;\n",
              "      flex-wrap:wrap;\n",
              "      gap: 12px;\n",
              "    }\n",
              "\n",
              "    .colab-df-convert {\n",
              "      background-color: #E8F0FE;\n",
              "      border: none;\n",
              "      border-radius: 50%;\n",
              "      cursor: pointer;\n",
              "      display: none;\n",
              "      fill: #1967D2;\n",
              "      height: 32px;\n",
              "      padding: 0 0 0 0;\n",
              "      width: 32px;\n",
              "    }\n",
              "\n",
              "    .colab-df-convert:hover {\n",
              "      background-color: #E2EBFA;\n",
              "      box-shadow: 0px 1px 2px rgba(60, 64, 67, 0.3), 0px 1px 3px 1px rgba(60, 64, 67, 0.15);\n",
              "      fill: #174EA6;\n",
              "    }\n",
              "\n",
              "    [theme=dark] .colab-df-convert {\n",
              "      background-color: #3B4455;\n",
              "      fill: #D2E3FC;\n",
              "    }\n",
              "\n",
              "    [theme=dark] .colab-df-convert:hover {\n",
              "      background-color: #434B5C;\n",
              "      box-shadow: 0px 1px 3px 1px rgba(0, 0, 0, 0.15);\n",
              "      filter: drop-shadow(0px 1px 2px rgba(0, 0, 0, 0.3));\n",
              "      fill: #FFFFFF;\n",
              "    }\n",
              "  </style>\n",
              "\n",
              "      <script>\n",
              "        const buttonEl =\n",
              "          document.querySelector('#df-64183b3f-7a48-40ea-a140-c2c2cf57f6ef button.colab-df-convert');\n",
              "        buttonEl.style.display =\n",
              "          google.colab.kernel.accessAllowed ? 'block' : 'none';\n",
              "\n",
              "        async function convertToInteractive(key) {\n",
              "          const element = document.querySelector('#df-64183b3f-7a48-40ea-a140-c2c2cf57f6ef');\n",
              "          const dataTable =\n",
              "            await google.colab.kernel.invokeFunction('convertToInteractive',\n",
              "                                                     [key], {});\n",
              "          if (!dataTable) return;\n",
              "\n",
              "          const docLinkHtml = 'Like what you see? Visit the ' +\n",
              "            '<a target=\"_blank\" href=https://colab.research.google.com/notebooks/data_table.ipynb>data table notebook</a>'\n",
              "            + ' to learn more about interactive tables.';\n",
              "          element.innerHTML = '';\n",
              "          dataTable['output_type'] = 'display_data';\n",
              "          await google.colab.output.renderOutput(dataTable, element);\n",
              "          const docLink = document.createElement('div');\n",
              "          docLink.innerHTML = docLinkHtml;\n",
              "          element.appendChild(docLink);\n",
              "        }\n",
              "      </script>\n",
              "    </div>\n",
              "  </div>\n",
              "  "
            ]
          },
          "metadata": {},
          "execution_count": 69
        }
      ]
    },
    {
      "cell_type": "code",
      "source": [
        "test.shape"
      ],
      "metadata": {
        "colab": {
          "base_uri": "https://localhost:8080/"
        },
        "id": "paAoZXssZoBn",
        "outputId": "4382430d-b678-4782-fe29-920823ed6c5d"
      },
      "execution_count": 70,
      "outputs": [
        {
          "output_type": "execute_result",
          "data": {
            "text/plain": [
              "(628000, 15)"
            ]
          },
          "metadata": {},
          "execution_count": 70
        }
      ]
    },
    {
      "cell_type": "code",
      "source": [
        "# label encoding the string data\n",
        "from sklearn.preprocessing import LabelEncoder\n",
        "le = LabelEncoder()\n",
        "test['gender']= le.fit_transform(test['gender'].astype(str))\n",
        "test['location_type']= le.fit_transform(test['location_type'].astype(str))\n",
        "test['vendor_category_en']= le.fit_transform(test['vendor_category_en'].astype(str))\n"
      ],
      "metadata": {
        "id": "35IbMbiAZ-d-"
      },
      "execution_count": 71,
      "outputs": []
    },
    {
      "cell_type": "code",
      "source": [
        "gen = pd.get_dummies(test['gender'])\n",
        "ltype = pd.get_dummies(test['location_type'])\n",
        "venc = pd.get_dummies(test['vendor_category_en'])\n",
        "dev = pd.get_dummies(test['delivery_charge'])\n",
        "dis = pd.get_dummies(test['serving_distance'])\n",
        "opn = pd.get_dummies(test['is_open'])\n",
        "ptime = pd.get_dummies(test['prepration_time'])\n",
        "rat = pd.get_dummies(test['vendor_rating'])"
      ],
      "metadata": {
        "id": "uDlEVyR8aB8d"
      },
      "execution_count": 72,
      "outputs": []
    },
    {
      "cell_type": "code",
      "source": [
        "final_test = pd.concat([test[['latitude_x','longitude_x','latitude_y','longitude_y','id','location_number','distance']],gen,ltype,venc,dev,dis,opn,ptime,rat],axis=1)\n",
        "print(test.shape)\n",
        "final_test.head(2)"
      ],
      "metadata": {
        "id": "rvvl97BYaEKA",
        "colab": {
          "base_uri": "https://localhost:8080/",
          "height": 223
        },
        "outputId": "af58ce8f-2af1-47e2-95fe-765e282fc2e4"
      },
      "execution_count": 73,
      "outputs": [
        {
          "output_type": "stream",
          "name": "stdout",
          "text": [
            "(628000, 15)\n"
          ]
        },
        {
          "output_type": "execute_result",
          "data": {
            "text/plain": [
              "     latitude_x  longitude_x  latitude_y  longitude_y    id  location_number  \\\n",
              "200       -95.1         43.7     -0.5884       0.7544   4.0              2.0   \n",
              "201       -95.1         43.7     -0.4717       0.7446  13.0              2.0   \n",
              "\n",
              "        distance  0  1  0  ...  3.8  4.0  4.1  4.2  4.3  4.4  4.5  4.6  4.7  \\\n",
              "200  4796.965287  0  1  0  ...    0    0    0    0    0    1    0    0    0   \n",
              "201  4959.594290  0  1  0  ...    0    0    0    0    0    0    0    0    1   \n",
              "\n",
              "     4.8  \n",
              "200    0  \n",
              "201    0  \n",
              "\n",
              "[2 rows x 54 columns]"
            ],
            "text/html": [
              "\n",
              "  <div id=\"df-ca387dc3-995b-4a44-aeb0-f12b5f6f2f5d\">\n",
              "    <div class=\"colab-df-container\">\n",
              "      <div>\n",
              "<style scoped>\n",
              "    .dataframe tbody tr th:only-of-type {\n",
              "        vertical-align: middle;\n",
              "    }\n",
              "\n",
              "    .dataframe tbody tr th {\n",
              "        vertical-align: top;\n",
              "    }\n",
              "\n",
              "    .dataframe thead th {\n",
              "        text-align: right;\n",
              "    }\n",
              "</style>\n",
              "<table border=\"1\" class=\"dataframe\">\n",
              "  <thead>\n",
              "    <tr style=\"text-align: right;\">\n",
              "      <th></th>\n",
              "      <th>latitude_x</th>\n",
              "      <th>longitude_x</th>\n",
              "      <th>latitude_y</th>\n",
              "      <th>longitude_y</th>\n",
              "      <th>id</th>\n",
              "      <th>location_number</th>\n",
              "      <th>distance</th>\n",
              "      <th>0</th>\n",
              "      <th>1</th>\n",
              "      <th>0</th>\n",
              "      <th>...</th>\n",
              "      <th>3.8</th>\n",
              "      <th>4.0</th>\n",
              "      <th>4.1</th>\n",
              "      <th>4.2</th>\n",
              "      <th>4.3</th>\n",
              "      <th>4.4</th>\n",
              "      <th>4.5</th>\n",
              "      <th>4.6</th>\n",
              "      <th>4.7</th>\n",
              "      <th>4.8</th>\n",
              "    </tr>\n",
              "  </thead>\n",
              "  <tbody>\n",
              "    <tr>\n",
              "      <th>200</th>\n",
              "      <td>-95.1</td>\n",
              "      <td>43.7</td>\n",
              "      <td>-0.5884</td>\n",
              "      <td>0.7544</td>\n",
              "      <td>4.0</td>\n",
              "      <td>2.0</td>\n",
              "      <td>4796.965287</td>\n",
              "      <td>0</td>\n",
              "      <td>1</td>\n",
              "      <td>0</td>\n",
              "      <td>...</td>\n",
              "      <td>0</td>\n",
              "      <td>0</td>\n",
              "      <td>0</td>\n",
              "      <td>0</td>\n",
              "      <td>0</td>\n",
              "      <td>1</td>\n",
              "      <td>0</td>\n",
              "      <td>0</td>\n",
              "      <td>0</td>\n",
              "      <td>0</td>\n",
              "    </tr>\n",
              "    <tr>\n",
              "      <th>201</th>\n",
              "      <td>-95.1</td>\n",
              "      <td>43.7</td>\n",
              "      <td>-0.4717</td>\n",
              "      <td>0.7446</td>\n",
              "      <td>13.0</td>\n",
              "      <td>2.0</td>\n",
              "      <td>4959.594290</td>\n",
              "      <td>0</td>\n",
              "      <td>1</td>\n",
              "      <td>0</td>\n",
              "      <td>...</td>\n",
              "      <td>0</td>\n",
              "      <td>0</td>\n",
              "      <td>0</td>\n",
              "      <td>0</td>\n",
              "      <td>0</td>\n",
              "      <td>0</td>\n",
              "      <td>0</td>\n",
              "      <td>0</td>\n",
              "      <td>1</td>\n",
              "      <td>0</td>\n",
              "    </tr>\n",
              "  </tbody>\n",
              "</table>\n",
              "<p>2 rows × 54 columns</p>\n",
              "</div>\n",
              "      <button class=\"colab-df-convert\" onclick=\"convertToInteractive('df-ca387dc3-995b-4a44-aeb0-f12b5f6f2f5d')\"\n",
              "              title=\"Convert this dataframe to an interactive table.\"\n",
              "              style=\"display:none;\">\n",
              "        \n",
              "  <svg xmlns=\"http://www.w3.org/2000/svg\" height=\"24px\"viewBox=\"0 0 24 24\"\n",
              "       width=\"24px\">\n",
              "    <path d=\"M0 0h24v24H0V0z\" fill=\"none\"/>\n",
              "    <path d=\"M18.56 5.44l.94 2.06.94-2.06 2.06-.94-2.06-.94-.94-2.06-.94 2.06-2.06.94zm-11 1L8.5 8.5l.94-2.06 2.06-.94-2.06-.94L8.5 2.5l-.94 2.06-2.06.94zm10 10l.94 2.06.94-2.06 2.06-.94-2.06-.94-.94-2.06-.94 2.06-2.06.94z\"/><path d=\"M17.41 7.96l-1.37-1.37c-.4-.4-.92-.59-1.43-.59-.52 0-1.04.2-1.43.59L10.3 9.45l-7.72 7.72c-.78.78-.78 2.05 0 2.83L4 21.41c.39.39.9.59 1.41.59.51 0 1.02-.2 1.41-.59l7.78-7.78 2.81-2.81c.8-.78.8-2.07 0-2.86zM5.41 20L4 18.59l7.72-7.72 1.47 1.35L5.41 20z\"/>\n",
              "  </svg>\n",
              "      </button>\n",
              "      \n",
              "  <style>\n",
              "    .colab-df-container {\n",
              "      display:flex;\n",
              "      flex-wrap:wrap;\n",
              "      gap: 12px;\n",
              "    }\n",
              "\n",
              "    .colab-df-convert {\n",
              "      background-color: #E8F0FE;\n",
              "      border: none;\n",
              "      border-radius: 50%;\n",
              "      cursor: pointer;\n",
              "      display: none;\n",
              "      fill: #1967D2;\n",
              "      height: 32px;\n",
              "      padding: 0 0 0 0;\n",
              "      width: 32px;\n",
              "    }\n",
              "\n",
              "    .colab-df-convert:hover {\n",
              "      background-color: #E2EBFA;\n",
              "      box-shadow: 0px 1px 2px rgba(60, 64, 67, 0.3), 0px 1px 3px 1px rgba(60, 64, 67, 0.15);\n",
              "      fill: #174EA6;\n",
              "    }\n",
              "\n",
              "    [theme=dark] .colab-df-convert {\n",
              "      background-color: #3B4455;\n",
              "      fill: #D2E3FC;\n",
              "    }\n",
              "\n",
              "    [theme=dark] .colab-df-convert:hover {\n",
              "      background-color: #434B5C;\n",
              "      box-shadow: 0px 1px 3px 1px rgba(0, 0, 0, 0.15);\n",
              "      filter: drop-shadow(0px 1px 2px rgba(0, 0, 0, 0.3));\n",
              "      fill: #FFFFFF;\n",
              "    }\n",
              "  </style>\n",
              "\n",
              "      <script>\n",
              "        const buttonEl =\n",
              "          document.querySelector('#df-ca387dc3-995b-4a44-aeb0-f12b5f6f2f5d button.colab-df-convert');\n",
              "        buttonEl.style.display =\n",
              "          google.colab.kernel.accessAllowed ? 'block' : 'none';\n",
              "\n",
              "        async function convertToInteractive(key) {\n",
              "          const element = document.querySelector('#df-ca387dc3-995b-4a44-aeb0-f12b5f6f2f5d');\n",
              "          const dataTable =\n",
              "            await google.colab.kernel.invokeFunction('convertToInteractive',\n",
              "                                                     [key], {});\n",
              "          if (!dataTable) return;\n",
              "\n",
              "          const docLinkHtml = 'Like what you see? Visit the ' +\n",
              "            '<a target=\"_blank\" href=https://colab.research.google.com/notebooks/data_table.ipynb>data table notebook</a>'\n",
              "            + ' to learn more about interactive tables.';\n",
              "          element.innerHTML = '';\n",
              "          dataTable['output_type'] = 'display_data';\n",
              "          await google.colab.output.renderOutput(dataTable, element);\n",
              "          const docLink = document.createElement('div');\n",
              "          docLink.innerHTML = docLinkHtml;\n",
              "          element.appendChild(docLink);\n",
              "        }\n",
              "      </script>\n",
              "    </div>\n",
              "  </div>\n",
              "  "
            ]
          },
          "metadata": {},
          "execution_count": 73
        }
      ]
    },
    {
      "cell_type": "markdown",
      "source": [
        "#**5. Build Model**"
      ],
      "metadata": {
        "id": "_zN9-PjNaLbw"
      }
    },
    {
      "cell_type": "code",
      "source": [
        "import warnings\n",
        "warnings.filterwarnings(\"ignore\")\n",
        "import shutil\n",
        "import os\n",
        "import pandas as pd\n",
        "import matplotlib\n",
        "matplotlib.use(u'nbAgg')\n",
        "import matplotlib.pyplot as plt\n",
        "import seaborn as sns\n",
        "import numpy as np\n",
        "import pickle\n",
        "from sklearn.manifold import TSNE\n",
        "from sklearn import preprocessing\n",
        "import pandas as pd\n",
        "from multiprocessing import Process\n",
        "import multiprocessing\n",
        "import codecs# this is used for file operations \n",
        "import random as r\n",
        "from xgboost import XGBClassifier\n",
        "from sklearn.model_selection import RandomizedSearchCV\n",
        "from sklearn.tree import DecisionTreeClassifier\n",
        "from sklearn.calibration import CalibratedClassifierCV\n",
        "from sklearn.neighbors import KNeighborsClassifier\n",
        "from sklearn.metrics import log_loss\n",
        "from sklearn.metrics import confusion_matrix\n",
        "from sklearn.model_selection import train_test_split\n",
        "from sklearn.linear_model import LogisticRegression\n",
        "from sklearn.ensemble import RandomForestClassifier"
      ],
      "metadata": {
        "id": "iTLQQKQnaKAf"
      },
      "execution_count": 74,
      "outputs": []
    },
    {
      "cell_type": "code",
      "source": [
        "data = train.copy()\n",
        "data.head(2)"
      ],
      "metadata": {
        "id": "jUAWRmHWaTRT",
        "colab": {
          "base_uri": "https://localhost:8080/",
          "height": 176
        },
        "outputId": "1d62a9af-68bd-41d2-f3eb-575626752dad"
      },
      "execution_count": 75,
      "outputs": [
        {
          "output_type": "execute_result",
          "data": {
            "text/plain": [
              "   gender  location_number  location_type  latitude_x  longitude_x  \\\n",
              "0       1                0              2      -96.44        -67.2   \n",
              "1       1                0              2      -96.44        -67.2   \n",
              "\n",
              "   latitude_y  longitude_y  id  vendor_category_en  delivery_charge  \\\n",
              "0     -0.5884       0.7544   4                   0              0.0   \n",
              "1     -0.4717       0.7446  13                   0              0.7   \n",
              "\n",
              "   serving_distance  is_open  prepration_time  vendor_rating  target  \\\n",
              "0               6.0      1.0               15            4.4       0   \n",
              "1               5.0      1.0               14            4.7       0   \n",
              "\n",
              "      distance  \n",
              "0  7564.728539  \n",
              "1  7628.224806  "
            ],
            "text/html": [
              "\n",
              "  <div id=\"df-4298a058-f20c-48e5-b981-90fa229538d3\">\n",
              "    <div class=\"colab-df-container\">\n",
              "      <div>\n",
              "<style scoped>\n",
              "    .dataframe tbody tr th:only-of-type {\n",
              "        vertical-align: middle;\n",
              "    }\n",
              "\n",
              "    .dataframe tbody tr th {\n",
              "        vertical-align: top;\n",
              "    }\n",
              "\n",
              "    .dataframe thead th {\n",
              "        text-align: right;\n",
              "    }\n",
              "</style>\n",
              "<table border=\"1\" class=\"dataframe\">\n",
              "  <thead>\n",
              "    <tr style=\"text-align: right;\">\n",
              "      <th></th>\n",
              "      <th>gender</th>\n",
              "      <th>location_number</th>\n",
              "      <th>location_type</th>\n",
              "      <th>latitude_x</th>\n",
              "      <th>longitude_x</th>\n",
              "      <th>latitude_y</th>\n",
              "      <th>longitude_y</th>\n",
              "      <th>id</th>\n",
              "      <th>vendor_category_en</th>\n",
              "      <th>delivery_charge</th>\n",
              "      <th>serving_distance</th>\n",
              "      <th>is_open</th>\n",
              "      <th>prepration_time</th>\n",
              "      <th>vendor_rating</th>\n",
              "      <th>target</th>\n",
              "      <th>distance</th>\n",
              "    </tr>\n",
              "  </thead>\n",
              "  <tbody>\n",
              "    <tr>\n",
              "      <th>0</th>\n",
              "      <td>1</td>\n",
              "      <td>0</td>\n",
              "      <td>2</td>\n",
              "      <td>-96.44</td>\n",
              "      <td>-67.2</td>\n",
              "      <td>-0.5884</td>\n",
              "      <td>0.7544</td>\n",
              "      <td>4</td>\n",
              "      <td>0</td>\n",
              "      <td>0.0</td>\n",
              "      <td>6.0</td>\n",
              "      <td>1.0</td>\n",
              "      <td>15</td>\n",
              "      <td>4.4</td>\n",
              "      <td>0</td>\n",
              "      <td>7564.728539</td>\n",
              "    </tr>\n",
              "    <tr>\n",
              "      <th>1</th>\n",
              "      <td>1</td>\n",
              "      <td>0</td>\n",
              "      <td>2</td>\n",
              "      <td>-96.44</td>\n",
              "      <td>-67.2</td>\n",
              "      <td>-0.4717</td>\n",
              "      <td>0.7446</td>\n",
              "      <td>13</td>\n",
              "      <td>0</td>\n",
              "      <td>0.7</td>\n",
              "      <td>5.0</td>\n",
              "      <td>1.0</td>\n",
              "      <td>14</td>\n",
              "      <td>4.7</td>\n",
              "      <td>0</td>\n",
              "      <td>7628.224806</td>\n",
              "    </tr>\n",
              "  </tbody>\n",
              "</table>\n",
              "</div>\n",
              "      <button class=\"colab-df-convert\" onclick=\"convertToInteractive('df-4298a058-f20c-48e5-b981-90fa229538d3')\"\n",
              "              title=\"Convert this dataframe to an interactive table.\"\n",
              "              style=\"display:none;\">\n",
              "        \n",
              "  <svg xmlns=\"http://www.w3.org/2000/svg\" height=\"24px\"viewBox=\"0 0 24 24\"\n",
              "       width=\"24px\">\n",
              "    <path d=\"M0 0h24v24H0V0z\" fill=\"none\"/>\n",
              "    <path d=\"M18.56 5.44l.94 2.06.94-2.06 2.06-.94-2.06-.94-.94-2.06-.94 2.06-2.06.94zm-11 1L8.5 8.5l.94-2.06 2.06-.94-2.06-.94L8.5 2.5l-.94 2.06-2.06.94zm10 10l.94 2.06.94-2.06 2.06-.94-2.06-.94-.94-2.06-.94 2.06-2.06.94z\"/><path d=\"M17.41 7.96l-1.37-1.37c-.4-.4-.92-.59-1.43-.59-.52 0-1.04.2-1.43.59L10.3 9.45l-7.72 7.72c-.78.78-.78 2.05 0 2.83L4 21.41c.39.39.9.59 1.41.59.51 0 1.02-.2 1.41-.59l7.78-7.78 2.81-2.81c.8-.78.8-2.07 0-2.86zM5.41 20L4 18.59l7.72-7.72 1.47 1.35L5.41 20z\"/>\n",
              "  </svg>\n",
              "      </button>\n",
              "      \n",
              "  <style>\n",
              "    .colab-df-container {\n",
              "      display:flex;\n",
              "      flex-wrap:wrap;\n",
              "      gap: 12px;\n",
              "    }\n",
              "\n",
              "    .colab-df-convert {\n",
              "      background-color: #E8F0FE;\n",
              "      border: none;\n",
              "      border-radius: 50%;\n",
              "      cursor: pointer;\n",
              "      display: none;\n",
              "      fill: #1967D2;\n",
              "      height: 32px;\n",
              "      padding: 0 0 0 0;\n",
              "      width: 32px;\n",
              "    }\n",
              "\n",
              "    .colab-df-convert:hover {\n",
              "      background-color: #E2EBFA;\n",
              "      box-shadow: 0px 1px 2px rgba(60, 64, 67, 0.3), 0px 1px 3px 1px rgba(60, 64, 67, 0.15);\n",
              "      fill: #174EA6;\n",
              "    }\n",
              "\n",
              "    [theme=dark] .colab-df-convert {\n",
              "      background-color: #3B4455;\n",
              "      fill: #D2E3FC;\n",
              "    }\n",
              "\n",
              "    [theme=dark] .colab-df-convert:hover {\n",
              "      background-color: #434B5C;\n",
              "      box-shadow: 0px 1px 3px 1px rgba(0, 0, 0, 0.15);\n",
              "      filter: drop-shadow(0px 1px 2px rgba(0, 0, 0, 0.3));\n",
              "      fill: #FFFFFF;\n",
              "    }\n",
              "  </style>\n",
              "\n",
              "      <script>\n",
              "        const buttonEl =\n",
              "          document.querySelector('#df-4298a058-f20c-48e5-b981-90fa229538d3 button.colab-df-convert');\n",
              "        buttonEl.style.display =\n",
              "          google.colab.kernel.accessAllowed ? 'block' : 'none';\n",
              "\n",
              "        async function convertToInteractive(key) {\n",
              "          const element = document.querySelector('#df-4298a058-f20c-48e5-b981-90fa229538d3');\n",
              "          const dataTable =\n",
              "            await google.colab.kernel.invokeFunction('convertToInteractive',\n",
              "                                                     [key], {});\n",
              "          if (!dataTable) return;\n",
              "\n",
              "          const docLinkHtml = 'Like what you see? Visit the ' +\n",
              "            '<a target=\"_blank\" href=https://colab.research.google.com/notebooks/data_table.ipynb>data table notebook</a>'\n",
              "            + ' to learn more about interactive tables.';\n",
              "          element.innerHTML = '';\n",
              "          dataTable['output_type'] = 'display_data';\n",
              "          await google.colab.output.renderOutput(dataTable, element);\n",
              "          const docLink = document.createElement('div');\n",
              "          docLink.innerHTML = docLinkHtml;\n",
              "          element.appendChild(docLink);\n",
              "        }\n",
              "      </script>\n",
              "    </div>\n",
              "  </div>\n",
              "  "
            ]
          },
          "metadata": {},
          "execution_count": 75
        }
      ]
    },
    {
      "cell_type": "code",
      "source": [
        "#creating data for training and target\n",
        "y = data['target']\n",
        "X = data.drop(['target'], axis=1)\n",
        "X = X.fillna(0)\n",
        "print(X.shape, y.shape)"
      ],
      "metadata": {
        "id": "tH00fHtQaVHM",
        "colab": {
          "base_uri": "https://localhost:8080/"
        },
        "outputId": "bff8dbdc-8646-4209-8107-7adcff87ed9f"
      },
      "execution_count": 76,
      "outputs": [
        {
          "output_type": "stream",
          "name": "stdout",
          "text": [
            "(6100, 15) (6100,)\n"
          ]
        }
      ]
    },
    {
      "cell_type": "markdown",
      "source": [
        "##*Logistic Regression*"
      ],
      "metadata": {
        "id": "FKxBIjiOaufZ"
      }
    },
    {
      "cell_type": "code",
      "source": [
        "from sklearn.linear_model import LogisticRegression\n",
        "\n",
        "X_train, X_test, y_train, y_test = train_test_split(X, y, test_size = 0.33)\n",
        "X_train, X_cv, y_train, y_cv = train_test_split(X_train, y_train, test_size = 0.33)\n",
        "\n",
        "alpha = [10 ** x for x in range(-3, 3)]\n",
        "log_error=[]\n",
        "\n",
        "# below code hypertune the parameters and do calibrations\n",
        "\n",
        "for i in alpha: #hyperparameter ALpha tuning\n",
        "    lor = LogisticRegression(penalty='l2', C=i, class_weight='balanced')\n",
        "    \n",
        "    lor.fit(X_train,y_train)\n",
        "    clf = CalibratedClassifierCV(lor, method=\"sigmoid\") #caliberation used\n",
        "    \n",
        "    clf.fit(X_train, y_train)\n",
        "    predict= clf.predict_proba(X_cv)\n",
        "    log_error.append(log_loss(y_cv, predict, labels=lor.classes_, eps=1e-15)) #printing log error for tuning\n",
        "    \n",
        "for i in range(len(log_error)):\n",
        "    print ('Log_loss for C = ',alpha[i],'is',log_error[i])\n",
        "\n",
        "best_alpha = np.argmin(log_error) #choosing best alpha\n",
        "\n",
        "#Applying hyper-tuned parameter for test data\n",
        "logistic = LogisticRegression(penalty='l2', C=alpha[best_alpha], class_weight='balanced')\n",
        "\n",
        "#getting final model ready\n",
        "logistic.fit(X_train,y_train)\n",
        "clf = CalibratedClassifierCV(logistic, method=\"sigmoid\")\n",
        "clf.fit(X_train, y_train)\n",
        "\n",
        "#predicting for F1 score,Precision and Recall\n",
        "pred = clf.predict(X_test) "
      ],
      "metadata": {
        "id": "DN4hK8HHax4k",
        "colab": {
          "base_uri": "https://localhost:8080/"
        },
        "outputId": "7d88712e-23e0-4c63-9f8f-a1091d6665f5"
      },
      "execution_count": 77,
      "outputs": [
        {
          "output_type": "stream",
          "name": "stdout",
          "text": [
            "Log_loss for C =  0.001 is 0.09485338306565186\n",
            "Log_loss for C =  0.01 is 0.09453495077266662\n",
            "Log_loss for C =  0.1 is 0.09447651987936917\n",
            "Log_loss for C =  1 is 0.09467673907211427\n",
            "Log_loss for C =  10 is 0.09447406819958858\n",
            "Log_loss for C =  100 is 0.09443961036634935\n"
          ]
        }
      ]
    },
    {
      "cell_type": "code",
      "source": [
        "import numpy as np\n",
        "from sklearn.metrics import accuracy_score\n",
        "from sklearn.metrics import precision_score\n",
        "from sklearn.metrics import recall_score\n",
        "from sklearn.metrics import f1_score\n",
        "from sklearn.metrics import confusion_matrix\n",
        "\n",
        "y_predict = []\n",
        "\n",
        "for i in pred:\n",
        "  if i <= 0.5:\n",
        "    y_predict.append(0)\n",
        "  else:\n",
        "    y_predict.append(1)\n",
        "\n",
        "#printing metrics\n",
        "print('Accuracy Score: ',accuracy_score(y_test, y_predict))\n",
        "print('Precision: ',precision_score(y_test, y_predict))\n",
        "print('Recall: ',recall_score(y_test, y_predict))\n",
        "\n",
        "f1 = (2*(precision_score(y_test, y_predict))*(recall_score(y_test, y_predict)))/((recall_score(y_test, y_predict))+(precision_score(y_test, y_predict)))\n",
        "print('The F1 score:', f1)\n"
      ],
      "metadata": {
        "id": "YaLCWdaea5vq",
        "colab": {
          "base_uri": "https://localhost:8080/"
        },
        "outputId": "8f9211ca-19b4-4ab6-f260-5a6194dc1e26"
      },
      "execution_count": 78,
      "outputs": [
        {
          "output_type": "stream",
          "name": "stdout",
          "text": [
            "Accuracy Score:  0.9865871833084948\n",
            "Precision:  0.0\n",
            "Recall:  0.0\n",
            "The F1 score: nan\n"
          ]
        }
      ]
    },
    {
      "cell_type": "code",
      "source": [
        "import matplotlib.pyplot as plt\n",
        "%matplotlib inline\n",
        "arr = confusion_matrix(y_test, y_predict)\n",
        "\n",
        "sns.heatmap(arr, annot=True, cmap='Greens'); plt.show()\n",
        "\n",
        "gnames = ['TN','FP','FN','TP']\n",
        "gper = [\"{0:.2%}\".format(x) for x in (arr.flatten()/np.sum(arr))]\n",
        "\n",
        "labels = [f\"{v1}\\n{v2}\" for v1, v2 in zip(gnames, gper)]\n",
        "labels = np.asarray(labels).reshape(2,2)\n",
        "\n",
        "sns.heatmap(arr, annot=labels, fmt='', cmap='Greens'); plt.show()"
      ],
      "metadata": {
        "id": "wm7Cc2vka9H4",
        "colab": {
          "base_uri": "https://localhost:8080/",
          "height": 513
        },
        "outputId": "1b692b7a-dc6a-4390-a240-7dcd678387e0"
      },
      "execution_count": 79,
      "outputs": [
        {
          "output_type": "display_data",
          "data": {
            "text/plain": [
              "<Figure size 432x288 with 2 Axes>"
            ],
            "image/png": "[encoded data removed]"
          },
          "metadata": {
            "needs_background": "light"
          }
        },
        {
          "output_type": "display_data",
          "data": {
            "text/plain": [
              "<Figure size 432x288 with 2 Axes>"
            ],
            "image/png": "[encoded data removed]"
          },
          "metadata": {
            "needs_background": "light"
          }
        }
      ]
    },
    {
      "cell_type": "markdown",
      "source": [
        "##*Random Forest*"
      ],
      "metadata": {
        "id": "uIPU9POabB8c"
      }
    },
    {
      "cell_type": "code",
      "source": [
        "from sklearn.ensemble import RandomForestClassifier\n",
        "from sklearn.calibration import CalibratedClassifierCV\n",
        "from sklearn.metrics import log_loss\n",
        "import numpy as np\n",
        "from sklearn.metrics import accuracy_score\n",
        "from sklearn.metrics import precision_score\n",
        "from sklearn.metrics import recall_score\n",
        "from sklearn.metrics import f1_score\n",
        "\n",
        "from sklearn.model_selection import train_test_split\n",
        "X_train, X_test, y_train, y_test = train_test_split(X, y, test_size = 0.33)\n",
        "X_train, X_cv, y_train, y_cv = train_test_split(X_train, y_train, test_size = 0.33)"
      ],
      "metadata": {
        "id": "_XfVJNHBbE24"
      },
      "execution_count": 80,
      "outputs": []
    },
    {
      "cell_type": "code",
      "source": [
        "alpha=[10, 50, 100, 300]\n",
        "cvlog_error=[]\n",
        "trlog_error=[]\n",
        "\n",
        "# below code hyperparameter tuning and calibration\n",
        "\n",
        "for i in alpha:\n",
        "\n",
        "    clf1 = RandomForestClassifier(n_estimators=i,random_state=42,n_jobs=-1)\n",
        "    clf1.fit(X_train,y_train)\n",
        "\n",
        "    pred = clf1.predict_proba(X_cv)\n",
        "    cvlog_error.append(log_loss(y_cv, pred, labels=clf.classes_, eps=1e-15))"
      ],
      "metadata": {
        "id": "h-n-9DeKbFj3"
      },
      "execution_count": 81,
      "outputs": []
    },
    {
      "cell_type": "code",
      "source": [
        "from matplotlib import pyplot as plt\n",
        "\n",
        "for i in range(len(cvlog_error)):\n",
        "    print ('Log_loss for n_estimator = ',alpha[i],'is',cvlog_error[i])\n",
        "\n",
        "best_alpha = np.argmin(cvlog_error)"
      ],
      "metadata": {
        "id": "AZYys1ztbIOm",
        "colab": {
          "base_uri": "https://localhost:8080/"
        },
        "outputId": "60b7dde9-18da-419f-a17e-1ecfe3475884"
      },
      "execution_count": 82,
      "outputs": [
        {
          "output_type": "stream",
          "name": "stdout",
          "text": [
            "Log_loss for n_estimator =  10 is 0.6042807960994481\n",
            "Log_loss for n_estimator =  50 is 0.4898447025169588\n",
            "Log_loss for n_estimator =  100 is 0.445998814825241\n",
            "Log_loss for n_estimator =  300 is 0.3601587673900747\n"
          ]
        }
      ]
    },
    {
      "cell_type": "code",
      "source": [
        "cal_clf = RandomForestClassifier(n_estimators=10, random_state=42, n_jobs=-1)\n",
        "cal_clf.fit(X_train,y_train)\n",
        "\n",
        "pred = cal_clf.predict_proba(X_train)\n",
        "print('For values of best alpha = ', 10, \"The train log loss is:\", log_loss(y_train, pred))\n",
        "\n",
        "pred = cal_clf.predict_proba(X_cv)\n",
        "print('For values of best alpha = ', 10, \"The cross validation log loss is:\", log_loss(y_cv, pred))\n",
        "\n",
        "pred = cal_clf.predict_proba(X_test)\n",
        "print('For values of best alpha = ', 10, \"The test log loss is:\", log_loss(y_test, pred))"
      ],
      "metadata": {
        "id": "EECxaUkJbKf3",
        "colab": {
          "base_uri": "https://localhost:8080/"
        },
        "outputId": "e0bbef2b-ce2e-4a2f-920c-3fe540b7c159"
      },
      "execution_count": 83,
      "outputs": [
        {
          "output_type": "stream",
          "name": "stdout",
          "text": [
            "For values of best alpha =  10 The train log loss is: 0.011109170993397574\n",
            "For values of best alpha =  10 The cross validation log loss is: 0.6042807960994481\n",
            "For values of best alpha =  10 The test log loss is: 0.4989781438663136\n"
          ]
        }
      ]
    },
    {
      "cell_type": "code",
      "source": [
        "import numpy as np\n",
        "from sklearn.metrics import accuracy_score\n",
        "from sklearn.metrics import precision_score\n",
        "from sklearn.metrics import recall_score\n",
        "from sklearn.metrics import f1_score\n",
        "from sklearn.metrics import confusion_matrix\n",
        "\n",
        "predict=cal_clf.predict(X_test)\n",
        "\n",
        "# printing metrics\n",
        "print('Accuracy Score: ',accuracy_score(y_test, predict))\n",
        "print('Precision: ',precision_score(y_test, predict))\n",
        "prec=precision_score(y_test, predict)\n",
        "print('Recall: ',recall_score(y_test, predict))\n",
        "rec=recall_score(y_test, predict)\n",
        "\n",
        "f1 = (2*prec*rec)/(rec+prec+0.00001)\n",
        "print('The F1 score:', f1)"
      ],
      "metadata": {
        "id": "gjLw20TSbOL5",
        "colab": {
          "base_uri": "https://localhost:8080/"
        },
        "outputId": "e0e8aaa7-7259-40e4-efbf-f6434eb1b217"
      },
      "execution_count": 84,
      "outputs": [
        {
          "output_type": "stream",
          "name": "stdout",
          "text": [
            "Accuracy Score:  0.9811227024341779\n",
            "Precision:  0.0\n",
            "Recall:  0.0\n",
            "The F1 score: 0.0\n"
          ]
        }
      ]
    },
    {
      "cell_type": "code",
      "source": [
        "arr = confusion_matrix(y_test, predict)\n",
        "sns.heatmap(arr, annot=True, cmap='Greens'); plt.show()\n",
        "\n",
        "gnames = ['TN','FP','FN','TP']\n",
        "gper = [\"{0:.2%}\".format(x) for x in (arr.flatten()/np.sum(arr))]\n",
        "\n",
        "labels = [f\"{v1}\\n{v2}\" for v1, v2 in zip(gnames,gper)]\n",
        "labels = np.asarray(labels).reshape(2,2)\n",
        "\n",
        "sns.heatmap(arr, annot=labels, fmt='', cmap='Greens')"
      ],
      "metadata": {
        "id": "LBtTO3EQbQvP",
        "colab": {
          "base_uri": "https://localhost:8080/",
          "height": 530
        },
        "outputId": "b5402e03-eb3e-4229-d7a3-6b5f7075ea7e"
      },
      "execution_count": 85,
      "outputs": [
        {
          "output_type": "display_data",
          "data": {
            "text/plain": [
              "<Figure size 432x288 with 2 Axes>"
            ],
            "image/png": "[encoded data removed]"
          },
          "metadata": {
            "needs_background": "light"
          }
        },
        {
          "output_type": "execute_result",
          "data": {
            "text/plain": [
              "<matplotlib.axes._subplots.AxesSubplot at 0x7f7d8efce450>"
            ]
          },
          "metadata": {},
          "execution_count": 85
        },
        {
          "output_type": "display_data",
          "data": {
            "text/plain": [
              "<Figure size 432x288 with 2 Axes>"
            ],
            "image/png": "[encoded data removed]"
          },
          "metadata": {
            "needs_background": "light"
          }
        }
      ]
    },
    {
      "cell_type": "markdown",
      "source": [
        "##*XGBoost*"
      ],
      "metadata": {
        "id": "oOx8QcWWbWkL"
      }
    },
    {
      "cell_type": "code",
      "source": [
        "from sklearn.model_selection import train_test_split\n",
        "\n",
        "X_train, X_test, y_train, y_test = train_test_split(X, y, test_size = 0.33)\n",
        "X_train, X_cv, y_train, y_cv = train_test_split(X_train, y_train, test_size = 0.33)\n",
        "alpha = [10, 50, 100, 200]\n",
        "\n",
        "cvlog_error=[]\n",
        "# below code hypertune the parameters and do calibration\n",
        "\n",
        "for i in alpha:\n",
        "    print('Alpha:', i)\n",
        "    xg_clf = XGBClassifier(n_estimators=i,nthread=-1)\n",
        "    xg_clf.fit(X_train, y_train)\n",
        "\n",
        "    pred = xg_clf.predict_proba(X_cv)\n",
        "    cvlog_error.append(log_loss(y_cv, pred, labels=clf.classes_, eps=1e-15))\n",
        "\n",
        "for i in range(len(cvlog_error)):\n",
        "    print ('log_loss for c = ',alpha[i],'is',cvlog_error[i])\n",
        "\n",
        "best_alpha = np.argmin(cvlog_error)"
      ],
      "metadata": {
        "id": "Jvt9hVvGbTL0",
        "colab": {
          "base_uri": "https://localhost:8080/"
        },
        "outputId": "8e6d4e4c-207f-4e4e-cc09-aeefe74284ca"
      },
      "execution_count": 86,
      "outputs": [
        {
          "output_type": "stream",
          "name": "stdout",
          "text": [
            "Alpha: 10\n",
            "Alpha: 50\n",
            "Alpha: 100\n",
            "Alpha: 200\n",
            "log_loss for c =  10 is 0.235891276140669\n",
            "log_loss for c =  50 is 0.08261152301908777\n",
            "log_loss for c =  100 is 0.08148461558734477\n",
            "log_loss for c =  200 is 0.08479573107987669\n"
          ]
        }
      ]
    },
    {
      "cell_type": "code",
      "source": [
        "xg_clf = XGBClassifier(n_estimators=200, nthread=-1)\n",
        "xg_clf.fit(X_train, y_train)\n",
        "\n",
        "predict_y = xg_clf.predict_proba(X_train)\n",
        "print('For values of best alpha = ', 200, \"The train log loss is:\", log_loss(y_train, predict_y))\n",
        "\n",
        "predict_y = xg_clf.predict_proba(X_cv)\n",
        "print('For values of best alpha = ',  200, \"The cross validation log loss is:\", log_loss(y_cv, predict_y))\n",
        "\n",
        "predict_y = xg_clf.predict_proba(X_test)\n",
        "print('For values of best alpha = ',  200, \"The test log loss is:\", log_loss(y_test, predict_y))"
      ],
      "metadata": {
        "id": "WCc_8TTRbZol",
        "colab": {
          "base_uri": "https://localhost:8080/"
        },
        "outputId": "54601a0d-673c-41bb-9faa-8538c21b460a"
      },
      "execution_count": 87,
      "outputs": [
        {
          "output_type": "stream",
          "name": "stdout",
          "text": [
            "For values of best alpha =  200 The train log loss is: 0.03838671911261733\n",
            "For values of best alpha =  200 The cross validation log loss is: 0.08479573107987669\n",
            "For values of best alpha =  200 The test log loss is: 0.06938006177624566\n"
          ]
        }
      ]
    },
    {
      "cell_type": "code",
      "source": [
        "import numpy as np\n",
        "from sklearn.metrics import accuracy_score\n",
        "from sklearn.metrics import precision_score\n",
        "from sklearn.metrics import recall_score\n",
        "from sklearn.metrics import f1_score\n",
        "\n",
        "predict = xg_clf.predict(X_test)\n",
        "\n",
        "print('Accuracy: ',accuracy_score(y_test, predict))\n",
        "print('Precision: ',precision_score(y_test, predict))\n",
        "prec=precision_score(y_test, predict)\n",
        "print('Recall: ',recall_score(y_test, predict))\n",
        "rec=recall_score(y_test, predict)\n",
        "\n",
        "f1=(2*prec*rec)/(rec+prec+0.00000001)\n",
        "print('The F1 score:', f1)"
      ],
      "metadata": {
        "id": "JVMTddllbdk5",
        "colab": {
          "base_uri": "https://localhost:8080/"
        },
        "outputId": "5c1a183e-6fc7-4270-ab5f-4dab66a08a6b"
      },
      "execution_count": 88,
      "outputs": [
        {
          "output_type": "stream",
          "name": "stdout",
          "text": [
            "Accuracy:  0.9855936413313463\n",
            "Precision:  0.0\n",
            "Recall:  0.0\n",
            "The F1 score: 0.0\n"
          ]
        }
      ]
    },
    {
      "cell_type": "code",
      "source": [
        "import matplotlib.pyplot as plt\n",
        "from sklearn.metrics import confusion_matrix\n",
        "import seaborn as sns\n",
        "\n",
        "arr = confusion_matrix(y_test, predict)\n",
        "sns.heatmap(arr, annot=True, cmap='Greens'); plt.show()\n",
        "\n",
        "gnames = ['TN','FP','FN','TP']\n",
        "gper = [\"{0:.2%}\".format(x) for x in (arr.flatten()/np.sum(arr))]\n",
        "\n",
        "labels = [f\"{v1}\\n{v2}\" for v1, v2 in zip(gnames,gper)]\n",
        "labels = np.asarray(labels).reshape(2,2)\n",
        "\n",
        "sns.heatmap(arr, annot=labels, fmt='', cmap='Greens')"
      ],
      "metadata": {
        "id": "8uqnJCCAbh9j",
        "colab": {
          "base_uri": "https://localhost:8080/",
          "height": 530
        },
        "outputId": "e72cba32-2141-4b91-e753-304cbe4e94b3"
      },
      "execution_count": 89,
      "outputs": [
        {
          "output_type": "display_data",
          "data": {
            "text/plain": [
              "<Figure size 432x288 with 2 Axes>"
            ],
            "image/png": "[encoded data removed]"
          },
          "metadata": {
            "needs_background": "light"
          }
        },
        {
          "output_type": "execute_result",
          "data": {
            "text/plain": [
              "<matplotlib.axes._subplots.AxesSubplot at 0x7f7d7cfff310>"
            ]
          },
          "metadata": {},
          "execution_count": 89
        },
        {
          "output_type": "display_data",
          "data": {
            "text/plain": [
              "<Figure size 432x288 with 2 Axes>"
            ],
            "image/png": "[encoded data removed]"
          },
          "metadata": {
            "needs_background": "light"
          }
        }
      ]
    },
    {
      "cell_type": "markdown",
      "source": [
        "##*XGBoost with Random Search*"
      ],
      "metadata": {
        "id": "DNiztqyjbmii"
      }
    },
    {
      "cell_type": "code",
      "source": [
        "from sklearn.model_selection import train_test_split\n",
        "\n",
        "X_train, X_test, y_train, y_test = train_test_split(X, y, test_size = 0.33)\n",
        "X_train, X_cv, y_train, y_cv = train_test_split(X_train, y_train, test_size = 0.33)\n",
        "xg = XGBClassifier(n_estimators=200, learning_rate=0.05, colsample_bytree=1, max_depth=3)\n",
        "xg.fit(X_train, y_train)\n",
        "\n",
        "# below code hypertune the parameters and calibration\n",
        "predict_y = xg.predict_proba(X_train)\n",
        "print ('train loss',log_loss(y_train, predict_y))\n",
        "\n",
        "predict_y = xg.predict_proba(X_cv)\n",
        "print ('cv loss',log_loss(y_cv, predict_y))\n",
        "\n",
        "predict_y = xg.predict_proba(X_test)\n",
        "print ('test loss',log_loss(y_test, predict_y))"
      ],
      "metadata": {
        "id": "aJS95pTNbrGY",
        "colab": {
          "base_uri": "https://localhost:8080/"
        },
        "outputId": "70b86565-6c5c-4ff6-c328-7cfa3f83d73e"
      },
      "execution_count": 90,
      "outputs": [
        {
          "output_type": "stream",
          "name": "stdout",
          "text": [
            "train loss 0.05640775527091164\n",
            "cv loss 0.09135107730020903\n",
            "test loss 0.05855148050111882\n"
          ]
        }
      ]
    },
    {
      "cell_type": "code",
      "source": [
        "import numpy as np\n",
        "from sklearn.metrics import accuracy_score\n",
        "from sklearn.metrics import precision_score\n",
        "from sklearn.metrics import recall_score\n",
        "from sklearn.metrics import f1_score\n",
        "\n",
        "predict = xg.predict(X_test)\n",
        "\n",
        "print('Accuracy Score: ',accuracy_score(y_test, predict))\n",
        "print('Precision: ',precision_score(y_test, predict))\n",
        "prec = precision_score(y_test, predict)\n",
        "print('Recall: ',recall_score(y_test, predict))\n",
        "rec = recall_score(y_test, predict)\n",
        "\n",
        "f1 = (2*prec*rec)/(rec+prec+0.00001)\n",
        "print('The F1 score:',f1)"
      ],
      "metadata": {
        "id": "vJasyMB7buAm",
        "colab": {
          "base_uri": "https://localhost:8080/"
        },
        "outputId": "2c6ee781-171c-4c56-9b4f-76f043300585"
      },
      "execution_count": 91,
      "outputs": [
        {
          "output_type": "stream",
          "name": "stdout",
          "text": [
            "Accuracy Score:  0.9885742672627919\n",
            "Precision:  0.0\n",
            "Recall:  0.0\n",
            "The F1 score: 0.0\n"
          ]
        }
      ]
    },
    {
      "cell_type": "code",
      "source": [
        "import matplotlib.pyplot as plt\n",
        "from sklearn.metrics import confusion_matrix\n",
        "import seaborn as sns\n",
        "\n",
        "arr = confusion_matrix(y_test, predict)\n",
        "sns.heatmap(arr, annot=True, cmap='Greens'); plt.show()\n",
        "\n",
        "gnames = ['TN','FP','FN','TP']\n",
        "gper = [\"{0:.2%}\".format(x) for x in (arr.flatten()/np.sum(arr))]\n",
        "\n",
        "labels = [f\"{v1}\\n{v2}\" for v1, v2 in zip(gnames,gper)]\n",
        "labels = np.asarray(labels).reshape(2,2)\n",
        "\n",
        "sns.heatmap(arr, annot=labels, fmt='', cmap='Greens'); plt.show()"
      ],
      "metadata": {
        "id": "q74_YMOEbwuo",
        "colab": {
          "base_uri": "https://localhost:8080/",
          "height": 513
        },
        "outputId": "09df122e-0ba6-41aa-855d-1d1b3856ed34"
      },
      "execution_count": 92,
      "outputs": [
        {
          "output_type": "display_data",
          "data": {
            "text/plain": [
              "<Figure size 432x288 with 2 Axes>"
            ],
            "image/png": "[encoded data removed]"
          },
          "metadata": {
            "needs_background": "light"
          }
        },
        {
          "output_type": "display_data",
          "data": {
            "text/plain": [
              "<Figure size 432x288 with 2 Axes>"
            ],
            "image/png": "[encoded data removed]"
          },
          "metadata": {
            "needs_background": "light"
          }
        }
      ]
    },
    {
      "cell_type": "markdown",
      "source": [
        "##*Using SMOTE*"
      ],
      "metadata": {
        "id": "4KLhN-Azb08W"
      }
    },
    {
      "cell_type": "code",
      "source": [
        "!pip install imbalanced-learn"
      ],
      "metadata": {
        "id": "RIWMlEZhb3vF",
        "colab": {
          "base_uri": "https://localhost:8080/"
        },
        "outputId": "0fc0748e-ffee-4453-9803-6c0095ea17f8"
      },
      "execution_count": 93,
      "outputs": [
        {
          "output_type": "stream",
          "name": "stdout",
          "text": [
            "Looking in indexes: https://pypi.org/simple, https://us-python.pkg.dev/colab-wheels/public/simple/\n",
            "Requirement already satisfied: imbalanced-learn in /usr/local/lib/python3.7/dist-packages (0.8.1)\n",
            "Requirement already satisfied: scikit-learn>=0.24 in /usr/local/lib/python3.7/dist-packages (from imbalanced-learn) (1.0.2)\n",
            "Requirement already satisfied: scipy>=0.19.1 in /usr/local/lib/python3.7/dist-packages (from imbalanced-learn) (1.4.1)\n",
            "Requirement already satisfied: joblib>=0.11 in /usr/local/lib/python3.7/dist-packages (from imbalanced-learn) (1.1.0)\n",
            "Requirement already satisfied: numpy>=1.13.3 in /usr/local/lib/python3.7/dist-packages (from imbalanced-learn) (1.21.6)\n",
            "Requirement already satisfied: threadpoolctl>=2.0.0 in /usr/local/lib/python3.7/dist-packages (from scikit-learn>=0.24->imbalanced-learn) (3.1.0)\n"
          ]
        }
      ]
    },
    {
      "cell_type": "code",
      "source": [
        "from collections import Counter\n",
        "from sklearn.datasets import make_classification\n",
        "from matplotlib import pyplot\n",
        "from numpy import where\n",
        "from imblearn.under_sampling import RandomUnderSampler\n",
        "from imblearn.over_sampling import SMOTE\n",
        "from sklearn.pipeline import Pipeline\n",
        "\n",
        "# printing the counter fucntion to get frequency of classes\n",
        "counter = Counter(y)\n",
        "print(counter)"
      ],
      "metadata": {
        "id": "yKEAWZjZb6Ax",
        "colab": {
          "base_uri": "https://localhost:8080/"
        },
        "outputId": "0c9f1317-3a1c-437b-daaa-bb85bb6e4fa1"
      },
      "execution_count": 94,
      "outputs": [
        {
          "output_type": "stream",
          "name": "stdout",
          "text": [
            "Counter({0: 6003, 1: 97})\n"
          ]
        }
      ]
    },
    {
      "cell_type": "code",
      "source": [
        "# oversampling the lower data \n",
        "over = SMOTE(sampling_strategy=0.4)\n",
        "X, y = over.fit_resample(X, y)"
      ],
      "metadata": {
        "id": "jfJB6RkXb76D"
      },
      "execution_count": 95,
      "outputs": []
    },
    {
      "cell_type": "code",
      "source": [
        "counter = Counter(y)\n",
        "print(counter)"
      ],
      "metadata": {
        "id": "0WUMVzpccAfr",
        "colab": {
          "base_uri": "https://localhost:8080/"
        },
        "outputId": "b8215328-b237-46b8-b29c-84933cd89d7c"
      },
      "execution_count": 96,
      "outputs": [
        {
          "output_type": "stream",
          "name": "stdout",
          "text": [
            "Counter({0: 6003, 1: 2401})\n"
          ]
        }
      ]
    },
    {
      "cell_type": "code",
      "source": [
        "# undersampling the upper data\n",
        "under = RandomUnderSampler(sampling_strategy=0.6)\n",
        "X, y = under.fit_resample(X,y)\n",
        "counter = Counter(y)\n",
        "print(counter)"
      ],
      "metadata": {
        "id": "pV7SUREecCYR",
        "colab": {
          "base_uri": "https://localhost:8080/"
        },
        "outputId": "51e10b7d-63f1-4df2-bcfe-10cf2afb2506"
      },
      "execution_count": 97,
      "outputs": [
        {
          "output_type": "stream",
          "name": "stdout",
          "text": [
            "Counter({0: 4001, 1: 2401})\n"
          ]
        }
      ]
    },
    {
      "cell_type": "code",
      "source": [
        "from sklearn.model_selection import train_test_split\n",
        "X_train, X_test, y_train, y_test = train_test_split(X, y, stratify=y,test_size = 0.33)\n",
        "X_train, X_cv, y_train, y_cv = train_test_split(X_train, y_train,stratify=y_train, test_size = 0.33)"
      ],
      "metadata": {
        "id": "GD0n3XKUcEkY"
      },
      "execution_count": 98,
      "outputs": []
    },
    {
      "cell_type": "code",
      "source": [
        "xg = XGBClassifier(n_estimators=250, learning_rate=0.05, colsample_bytree=1, max_depth=3)\n",
        "xg.fit(X_train,y_train)\n",
        "\n",
        "predict_y = xg.predict_proba(X_train)\n",
        "print ('train loss', log_loss(y_train, predict_y))\n",
        "\n",
        "predict_y = xg.predict_proba(X_cv)\n",
        "print ('cv loss', log_loss(y_cv, predict_y))\n",
        "\n",
        "predict_y = xg.predict_proba(X_test)\n",
        "print ('test loss', log_loss(y_test, predict_y))"
      ],
      "metadata": {
        "id": "29DVOrsWcHKt",
        "colab": {
          "base_uri": "https://localhost:8080/"
        },
        "outputId": "239e5367-e03c-460a-e12a-07c23bd4f4ac"
      },
      "execution_count": 99,
      "outputs": [
        {
          "output_type": "stream",
          "name": "stdout",
          "text": [
            "train loss 0.12112057639715115\n",
            "cv loss 0.15471007907634665\n",
            "test loss 0.13458260587544188\n"
          ]
        }
      ]
    },
    {
      "cell_type": "code",
      "source": [
        "import numpy as np\n",
        "from sklearn.metrics import accuracy_score\n",
        "from sklearn.metrics import precision_score\n",
        "from sklearn.metrics import recall_score\n",
        "from sklearn.metrics import f1_score\n",
        "\n",
        "predict = xg.predict(X_test)\n",
        "\n",
        "# printing metrics\n",
        "print('Accuracy Score: ', accuracy_score(y_test, predict))\n",
        "print('Precision: ', precision_score(y_test, predict))\n",
        "prec = precision_score(y_test, predict)\n",
        "print('Recall: ', recall_score(y_test, predict))\n",
        "rec=recall_score(y_test, predict)\n",
        "\n",
        "f1 = (2*prec*rec)/(rec+prec+0.000000000000001)\n",
        "print('The F1 score:', f1)"
      ],
      "metadata": {
        "id": "Kf15RFE7cKNa",
        "colab": {
          "base_uri": "https://localhost:8080/"
        },
        "outputId": "d65575d5-68e0-4049-86d5-18c011a48067"
      },
      "execution_count": 100,
      "outputs": [
        {
          "output_type": "stream",
          "name": "stdout",
          "text": [
            "Accuracy Score:  0.971131093232371\n",
            "Precision:  0.966794380587484\n",
            "Recall:  0.9558080808080808\n",
            "The F1 score: 0.9612698412698406\n"
          ]
        }
      ]
    },
    {
      "cell_type": "code",
      "source": [
        "import matplotlib.pyplot as plt\n",
        "from sklearn.metrics import confusion_matrix\n",
        "import seaborn as sns\n",
        "\n",
        "arr = confusion_matrix(y_test, predict)\n",
        "sns.heatmap(arr, annot=True, cmap='Greens')\n",
        "plt.show()\n",
        "\n",
        "gnames = ['TN','FP','FN','TP']\n",
        "gper = [\"{0:.2%}\".format(x) for x in (arr.flatten()/np.sum(arr))] \n",
        "\n",
        "labels = [f\"{v1}\\n{v2}\" for v1, v2 in zip(gnames, gper)] \n",
        "labels = np.asarray(labels).reshape(2,2)\n",
        "\n",
        "sns.heatmap(arr, annot=labels, fmt='', cmap='Greens')"
      ],
      "metadata": {
        "id": "enu54pLJcMvX",
        "colab": {
          "base_uri": "https://localhost:8080/",
          "height": 530
        },
        "outputId": "2855764b-b6e3-4357-e1b3-6767b70460c4"
      },
      "execution_count": 101,
      "outputs": [
        {
          "output_type": "display_data",
          "data": {
            "text/plain": [
              "<Figure size 432x288 with 2 Axes>"
            ],
            "image/png": "[encoded data removed]"
          },
          "metadata": {
            "needs_background": "light"
          }
        },
        {
          "output_type": "execute_result",
          "data": {
            "text/plain": [
              "<matplotlib.axes._subplots.AxesSubplot at 0x7f7d78c99950>"
            ]
          },
          "metadata": {},
          "execution_count": 101
        },
        {
          "output_type": "display_data",
          "data": {
            "text/plain": [
              "<Figure size 432x288 with 2 Axes>"
            ],
            "image/png": "[encoded data removed]"
          },
          "metadata": {
            "needs_background": "light"
          }
        }
      ]
    },
    {
      "cell_type": "markdown",
      "source": [
        "##*Store the model file*"
      ],
      "metadata": {
        "id": "3tp_OS_qcPpK"
      }
    },
    {
      "cell_type": "code",
      "source": [
        "import pickle\n",
        "pickle.dump(xg, open('/content/drive/MyDrive/Traveloka/model.pkl', 'wb'))"
      ],
      "metadata": {
        "id": "EIHacCg7cU-b"
      },
      "execution_count": 102,
      "outputs": []
    }
  ]
}